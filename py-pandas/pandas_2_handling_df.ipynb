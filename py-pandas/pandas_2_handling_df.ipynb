{
  "nbformat": 4,
  "nbformat_minor": 0,
  "metadata": {
    "kernelspec": {
      "name": "python3",
      "display_name": "Python 3"
    },
    "language_info": {
      "codemirror_mode": {
        "name": "ipython",
        "version": 3
      },
      "file_extension": ".py",
      "mimetype": "text/x-python",
      "name": "python",
      "nbconvert_exporter": "python",
      "pygments_lexer": "ipython3",
      "version": "3.6.6"
    },
    "colab": {
      "name": "pandas_2_handling_df.ipynb",
      "provenance": [],
      "collapsed_sections": [],
      "include_colab_link": true
    }
  },
  "cells": [
    {
      "cell_type": "markdown",
      "metadata": {
        "id": "view-in-github",
        "colab_type": "text"
      },
      "source": [
        "<a href=\"https://colab.research.google.com/github/dayeong918/pdm011/blob/main/py-pandas/pandas_2_handling_df.ipynb\" target=\"_parent\"><img src=\"https://colab.research.google.com/assets/colab-badge.svg\" alt=\"Open In Colab\"/></a>"
      ]
    },
    {
      "cell_type": "markdown",
      "metadata": {
        "id": "-a_Ksvwdx5pf"
      },
      "source": [
        "### Python module 3. **pandas**"
      ]
    },
    {
      "cell_type": "markdown",
      "metadata": {
        "id": "P_F0RSPKx5pl"
      },
      "source": [
        "# Using pandas"
      ]
    },
    {
      "cell_type": "markdown",
      "metadata": {
        "id": "FfxMgWUFx5pm"
      },
      "source": [
        "* [10 Minutes to pandas](https://pandas.pydata.org/pandas-docs/stable/10min.html)\n",
        "* [Pandas tutorial with interactive exercises](https://www.kaggle.com/pistak/pandas-tutorial-with-interactive-exercises)"
      ]
    },
    {
      "cell_type": "code",
      "metadata": {
        "id": "2mpGSeRlx5po"
      },
      "source": [
        "import pandas as pd\n",
        "import numpy as np\n",
        "import matplotlib.pyplot as plt\n",
        "# %matplotlib inline  # work for Jupyter notebook or lab"
      ],
      "execution_count": 1,
      "outputs": []
    },
    {
      "cell_type": "markdown",
      "metadata": {
        "id": "wq1nIp3F1fFB"
      },
      "source": [
        "\n",
        "\n",
        "---\n",
        "\n"
      ]
    },
    {
      "cell_type": "markdown",
      "metadata": {
        "id": "D3zoFQ4bx5qh"
      },
      "source": [
        "## [2] Handling DataFrame\n",
        "- head()\n",
        "- tail()\n",
        "- describe()\n",
        "- info()"
      ]
    },
    {
      "cell_type": "code",
      "metadata": {
        "id": "w2eNkCfLx5p-",
        "colab": {
          "base_uri": "https://localhost:8080/"
        },
        "outputId": "60d36bc1-6eeb-46ff-8a85-f6fab770c949"
      },
      "source": [
        "# Creating a DataFrame by passing a NumPy array, with a datetime index and labeled columns:\n",
        "dates = pd.date_range('20210927', periods=6)\n",
        "dates"
      ],
      "execution_count": 2,
      "outputs": [
        {
          "output_type": "execute_result",
          "data": {
            "text/plain": [
              "DatetimeIndex(['2021-09-27', '2021-09-28', '2021-09-29', '2021-09-30',\n",
              "               '2021-10-01', '2021-10-02'],\n",
              "              dtype='datetime64[ns]', freq='D')"
            ]
          },
          "metadata": {},
          "execution_count": 2
        }
      ]
    },
    {
      "cell_type": "code",
      "metadata": {
        "id": "dHwUodTGx5qj",
        "colab": {
          "base_uri": "https://localhost:8080/",
          "height": 206
        },
        "outputId": "1a58b3c4-9431-4fd8-fabf-7fcd567710bf"
      },
      "source": [
        "# head()\n",
        "df = pd.DataFrame(np.random.randn(6,4), index=dates, columns=list('ABCD'))\n",
        "df.head()"
      ],
      "execution_count": 3,
      "outputs": [
        {
          "output_type": "execute_result",
          "data": {
            "text/html": [
              "<div>\n",
              "<style scoped>\n",
              "    .dataframe tbody tr th:only-of-type {\n",
              "        vertical-align: middle;\n",
              "    }\n",
              "\n",
              "    .dataframe tbody tr th {\n",
              "        vertical-align: top;\n",
              "    }\n",
              "\n",
              "    .dataframe thead th {\n",
              "        text-align: right;\n",
              "    }\n",
              "</style>\n",
              "<table border=\"1\" class=\"dataframe\">\n",
              "  <thead>\n",
              "    <tr style=\"text-align: right;\">\n",
              "      <th></th>\n",
              "      <th>A</th>\n",
              "      <th>B</th>\n",
              "      <th>C</th>\n",
              "      <th>D</th>\n",
              "    </tr>\n",
              "  </thead>\n",
              "  <tbody>\n",
              "    <tr>\n",
              "      <th>2021-09-27</th>\n",
              "      <td>1.157590</td>\n",
              "      <td>0.691274</td>\n",
              "      <td>0.036269</td>\n",
              "      <td>0.448139</td>\n",
              "    </tr>\n",
              "    <tr>\n",
              "      <th>2021-09-28</th>\n",
              "      <td>-0.330264</td>\n",
              "      <td>0.455890</td>\n",
              "      <td>1.404193</td>\n",
              "      <td>0.544384</td>\n",
              "    </tr>\n",
              "    <tr>\n",
              "      <th>2021-09-29</th>\n",
              "      <td>0.204433</td>\n",
              "      <td>-0.686301</td>\n",
              "      <td>-0.070389</td>\n",
              "      <td>0.874862</td>\n",
              "    </tr>\n",
              "    <tr>\n",
              "      <th>2021-09-30</th>\n",
              "      <td>-0.760410</td>\n",
              "      <td>0.700124</td>\n",
              "      <td>-0.658189</td>\n",
              "      <td>-0.771481</td>\n",
              "    </tr>\n",
              "    <tr>\n",
              "      <th>2021-10-01</th>\n",
              "      <td>1.359470</td>\n",
              "      <td>1.763408</td>\n",
              "      <td>-0.724488</td>\n",
              "      <td>1.455381</td>\n",
              "    </tr>\n",
              "  </tbody>\n",
              "</table>\n",
              "</div>"
            ],
            "text/plain": [
              "                   A         B         C         D\n",
              "2021-09-27  1.157590  0.691274  0.036269  0.448139\n",
              "2021-09-28 -0.330264  0.455890  1.404193  0.544384\n",
              "2021-09-29  0.204433 -0.686301 -0.070389  0.874862\n",
              "2021-09-30 -0.760410  0.700124 -0.658189 -0.771481\n",
              "2021-10-01  1.359470  1.763408 -0.724488  1.455381"
            ]
          },
          "metadata": {},
          "execution_count": 3
        }
      ]
    },
    {
      "cell_type": "code",
      "metadata": {
        "id": "OvYDoBVE1og9",
        "colab": {
          "base_uri": "https://localhost:8080/",
          "height": 112
        },
        "outputId": "1e2deb9d-ab77-477d-9a3a-76fc46bf02f6"
      },
      "source": [
        "df.head(2)"
      ],
      "execution_count": 4,
      "outputs": [
        {
          "output_type": "execute_result",
          "data": {
            "text/html": [
              "<div>\n",
              "<style scoped>\n",
              "    .dataframe tbody tr th:only-of-type {\n",
              "        vertical-align: middle;\n",
              "    }\n",
              "\n",
              "    .dataframe tbody tr th {\n",
              "        vertical-align: top;\n",
              "    }\n",
              "\n",
              "    .dataframe thead th {\n",
              "        text-align: right;\n",
              "    }\n",
              "</style>\n",
              "<table border=\"1\" class=\"dataframe\">\n",
              "  <thead>\n",
              "    <tr style=\"text-align: right;\">\n",
              "      <th></th>\n",
              "      <th>A</th>\n",
              "      <th>B</th>\n",
              "      <th>C</th>\n",
              "      <th>D</th>\n",
              "    </tr>\n",
              "  </thead>\n",
              "  <tbody>\n",
              "    <tr>\n",
              "      <th>2021-09-27</th>\n",
              "      <td>1.157590</td>\n",
              "      <td>0.691274</td>\n",
              "      <td>0.036269</td>\n",
              "      <td>0.448139</td>\n",
              "    </tr>\n",
              "    <tr>\n",
              "      <th>2021-09-28</th>\n",
              "      <td>-0.330264</td>\n",
              "      <td>0.455890</td>\n",
              "      <td>1.404193</td>\n",
              "      <td>0.544384</td>\n",
              "    </tr>\n",
              "  </tbody>\n",
              "</table>\n",
              "</div>"
            ],
            "text/plain": [
              "                   A         B         C         D\n",
              "2021-09-27  1.157590  0.691274  0.036269  0.448139\n",
              "2021-09-28 -0.330264  0.455890  1.404193  0.544384"
            ]
          },
          "metadata": {},
          "execution_count": 4
        }
      ]
    },
    {
      "cell_type": "code",
      "metadata": {
        "id": "LzWwuDWDx5qo",
        "colab": {
          "base_uri": "https://localhost:8080/",
          "height": 143
        },
        "outputId": "a47f349b-d17b-4388-af08-bf21e150e9ef"
      },
      "source": [
        "df.tail(3)"
      ],
      "execution_count": 5,
      "outputs": [
        {
          "output_type": "execute_result",
          "data": {
            "text/html": [
              "<div>\n",
              "<style scoped>\n",
              "    .dataframe tbody tr th:only-of-type {\n",
              "        vertical-align: middle;\n",
              "    }\n",
              "\n",
              "    .dataframe tbody tr th {\n",
              "        vertical-align: top;\n",
              "    }\n",
              "\n",
              "    .dataframe thead th {\n",
              "        text-align: right;\n",
              "    }\n",
              "</style>\n",
              "<table border=\"1\" class=\"dataframe\">\n",
              "  <thead>\n",
              "    <tr style=\"text-align: right;\">\n",
              "      <th></th>\n",
              "      <th>A</th>\n",
              "      <th>B</th>\n",
              "      <th>C</th>\n",
              "      <th>D</th>\n",
              "    </tr>\n",
              "  </thead>\n",
              "  <tbody>\n",
              "    <tr>\n",
              "      <th>2021-09-30</th>\n",
              "      <td>-0.76041</td>\n",
              "      <td>0.700124</td>\n",
              "      <td>-0.658189</td>\n",
              "      <td>-0.771481</td>\n",
              "    </tr>\n",
              "    <tr>\n",
              "      <th>2021-10-01</th>\n",
              "      <td>1.35947</td>\n",
              "      <td>1.763408</td>\n",
              "      <td>-0.724488</td>\n",
              "      <td>1.455381</td>\n",
              "    </tr>\n",
              "    <tr>\n",
              "      <th>2021-10-02</th>\n",
              "      <td>-0.63318</td>\n",
              "      <td>-0.548448</td>\n",
              "      <td>0.103891</td>\n",
              "      <td>0.560830</td>\n",
              "    </tr>\n",
              "  </tbody>\n",
              "</table>\n",
              "</div>"
            ],
            "text/plain": [
              "                  A         B         C         D\n",
              "2021-09-30 -0.76041  0.700124 -0.658189 -0.771481\n",
              "2021-10-01  1.35947  1.763408 -0.724488  1.455381\n",
              "2021-10-02 -0.63318 -0.548448  0.103891  0.560830"
            ]
          },
          "metadata": {},
          "execution_count": 5
        }
      ]
    },
    {
      "cell_type": "code",
      "metadata": {
        "id": "rJLH024Zx5qs",
        "colab": {
          "base_uri": "https://localhost:8080/"
        },
        "outputId": "65c52d36-457b-4515-b708-0f3724d2cadd"
      },
      "source": [
        "# Display the index, columns, and the underlying NumPy data:\n",
        "df.index"
      ],
      "execution_count": 6,
      "outputs": [
        {
          "output_type": "execute_result",
          "data": {
            "text/plain": [
              "DatetimeIndex(['2021-09-27', '2021-09-28', '2021-09-29', '2021-09-30',\n",
              "               '2021-10-01', '2021-10-02'],\n",
              "              dtype='datetime64[ns]', freq='D')"
            ]
          },
          "metadata": {},
          "execution_count": 6
        }
      ]
    },
    {
      "cell_type": "code",
      "metadata": {
        "id": "edrGpQlLc0dt",
        "colab": {
          "base_uri": "https://localhost:8080/"
        },
        "outputId": "71cd2ff5-60c4-40e6-d5b3-2b16956fa24d"
      },
      "source": [
        "df.columns"
      ],
      "execution_count": 7,
      "outputs": [
        {
          "output_type": "execute_result",
          "data": {
            "text/plain": [
              "Index(['A', 'B', 'C', 'D'], dtype='object')"
            ]
          },
          "metadata": {},
          "execution_count": 7
        }
      ]
    },
    {
      "cell_type": "code",
      "metadata": {
        "id": "TB-CHW85x5rA",
        "colab": {
          "base_uri": "https://localhost:8080/"
        },
        "outputId": "73da43f1-908b-4a29-9bad-3f9262c4f170"
      },
      "source": [
        "df.info()"
      ],
      "execution_count": 8,
      "outputs": [
        {
          "output_type": "stream",
          "name": "stdout",
          "text": [
            "<class 'pandas.core.frame.DataFrame'>\n",
            "DatetimeIndex: 6 entries, 2021-09-27 to 2021-10-02\n",
            "Freq: D\n",
            "Data columns (total 4 columns):\n",
            " #   Column  Non-Null Count  Dtype  \n",
            "---  ------  --------------  -----  \n",
            " 0   A       6 non-null      float64\n",
            " 1   B       6 non-null      float64\n",
            " 2   C       6 non-null      float64\n",
            " 3   D       6 non-null      float64\n",
            "dtypes: float64(4)\n",
            "memory usage: 240.0 bytes\n"
          ]
        }
      ]
    },
    {
      "cell_type": "code",
      "metadata": {
        "id": "PEzVmjUAx5q7",
        "colab": {
          "base_uri": "https://localhost:8080/",
          "height": 300
        },
        "outputId": "2cfe6ccf-aab5-4181-e91f-055025f067da"
      },
      "source": [
        "# describe() shows a quick statistic summary of your data:\n",
        "df.describe()"
      ],
      "execution_count": 9,
      "outputs": [
        {
          "output_type": "execute_result",
          "data": {
            "text/html": [
              "<div>\n",
              "<style scoped>\n",
              "    .dataframe tbody tr th:only-of-type {\n",
              "        vertical-align: middle;\n",
              "    }\n",
              "\n",
              "    .dataframe tbody tr th {\n",
              "        vertical-align: top;\n",
              "    }\n",
              "\n",
              "    .dataframe thead th {\n",
              "        text-align: right;\n",
              "    }\n",
              "</style>\n",
              "<table border=\"1\" class=\"dataframe\">\n",
              "  <thead>\n",
              "    <tr style=\"text-align: right;\">\n",
              "      <th></th>\n",
              "      <th>A</th>\n",
              "      <th>B</th>\n",
              "      <th>C</th>\n",
              "      <th>D</th>\n",
              "    </tr>\n",
              "  </thead>\n",
              "  <tbody>\n",
              "    <tr>\n",
              "      <th>count</th>\n",
              "      <td>6.000000</td>\n",
              "      <td>6.000000</td>\n",
              "      <td>6.000000</td>\n",
              "      <td>6.000000</td>\n",
              "    </tr>\n",
              "    <tr>\n",
              "      <th>mean</th>\n",
              "      <td>0.166273</td>\n",
              "      <td>0.395991</td>\n",
              "      <td>0.015215</td>\n",
              "      <td>0.518686</td>\n",
              "    </tr>\n",
              "    <tr>\n",
              "      <th>std</th>\n",
              "      <td>0.911296</td>\n",
              "      <td>0.907351</td>\n",
              "      <td>0.767532</td>\n",
              "      <td>0.731601</td>\n",
              "    </tr>\n",
              "    <tr>\n",
              "      <th>min</th>\n",
              "      <td>-0.760410</td>\n",
              "      <td>-0.686301</td>\n",
              "      <td>-0.724488</td>\n",
              "      <td>-0.771481</td>\n",
              "    </tr>\n",
              "    <tr>\n",
              "      <th>25%</th>\n",
              "      <td>-0.557451</td>\n",
              "      <td>-0.297363</td>\n",
              "      <td>-0.511239</td>\n",
              "      <td>0.472200</td>\n",
              "    </tr>\n",
              "    <tr>\n",
              "      <th>50%</th>\n",
              "      <td>-0.062915</td>\n",
              "      <td>0.573582</td>\n",
              "      <td>-0.017060</td>\n",
              "      <td>0.552607</td>\n",
              "    </tr>\n",
              "    <tr>\n",
              "      <th>75%</th>\n",
              "      <td>0.919301</td>\n",
              "      <td>0.697911</td>\n",
              "      <td>0.086985</td>\n",
              "      <td>0.796354</td>\n",
              "    </tr>\n",
              "    <tr>\n",
              "      <th>max</th>\n",
              "      <td>1.359470</td>\n",
              "      <td>1.763408</td>\n",
              "      <td>1.404193</td>\n",
              "      <td>1.455381</td>\n",
              "    </tr>\n",
              "  </tbody>\n",
              "</table>\n",
              "</div>"
            ],
            "text/plain": [
              "              A         B         C         D\n",
              "count  6.000000  6.000000  6.000000  6.000000\n",
              "mean   0.166273  0.395991  0.015215  0.518686\n",
              "std    0.911296  0.907351  0.767532  0.731601\n",
              "min   -0.760410 -0.686301 -0.724488 -0.771481\n",
              "25%   -0.557451 -0.297363 -0.511239  0.472200\n",
              "50%   -0.062915  0.573582 -0.017060  0.552607\n",
              "75%    0.919301  0.697911  0.086985  0.796354\n",
              "max    1.359470  1.763408  1.404193  1.455381"
            ]
          },
          "metadata": {},
          "execution_count": 9
        }
      ]
    },
    {
      "cell_type": "code",
      "metadata": {
        "id": "ExhpF6H8dDKo",
        "colab": {
          "base_uri": "https://localhost:8080/",
          "height": 175
        },
        "outputId": "e6b2d602-d7dc-4b10-e8ca-c10449ee5266"
      },
      "source": [
        "df.describe().T"
      ],
      "execution_count": 10,
      "outputs": [
        {
          "output_type": "execute_result",
          "data": {
            "text/html": [
              "<div>\n",
              "<style scoped>\n",
              "    .dataframe tbody tr th:only-of-type {\n",
              "        vertical-align: middle;\n",
              "    }\n",
              "\n",
              "    .dataframe tbody tr th {\n",
              "        vertical-align: top;\n",
              "    }\n",
              "\n",
              "    .dataframe thead th {\n",
              "        text-align: right;\n",
              "    }\n",
              "</style>\n",
              "<table border=\"1\" class=\"dataframe\">\n",
              "  <thead>\n",
              "    <tr style=\"text-align: right;\">\n",
              "      <th></th>\n",
              "      <th>count</th>\n",
              "      <th>mean</th>\n",
              "      <th>std</th>\n",
              "      <th>min</th>\n",
              "      <th>25%</th>\n",
              "      <th>50%</th>\n",
              "      <th>75%</th>\n",
              "      <th>max</th>\n",
              "    </tr>\n",
              "  </thead>\n",
              "  <tbody>\n",
              "    <tr>\n",
              "      <th>A</th>\n",
              "      <td>6.0</td>\n",
              "      <td>0.166273</td>\n",
              "      <td>0.911296</td>\n",
              "      <td>-0.760410</td>\n",
              "      <td>-0.557451</td>\n",
              "      <td>-0.062915</td>\n",
              "      <td>0.919301</td>\n",
              "      <td>1.359470</td>\n",
              "    </tr>\n",
              "    <tr>\n",
              "      <th>B</th>\n",
              "      <td>6.0</td>\n",
              "      <td>0.395991</td>\n",
              "      <td>0.907351</td>\n",
              "      <td>-0.686301</td>\n",
              "      <td>-0.297363</td>\n",
              "      <td>0.573582</td>\n",
              "      <td>0.697911</td>\n",
              "      <td>1.763408</td>\n",
              "    </tr>\n",
              "    <tr>\n",
              "      <th>C</th>\n",
              "      <td>6.0</td>\n",
              "      <td>0.015215</td>\n",
              "      <td>0.767532</td>\n",
              "      <td>-0.724488</td>\n",
              "      <td>-0.511239</td>\n",
              "      <td>-0.017060</td>\n",
              "      <td>0.086985</td>\n",
              "      <td>1.404193</td>\n",
              "    </tr>\n",
              "    <tr>\n",
              "      <th>D</th>\n",
              "      <td>6.0</td>\n",
              "      <td>0.518686</td>\n",
              "      <td>0.731601</td>\n",
              "      <td>-0.771481</td>\n",
              "      <td>0.472200</td>\n",
              "      <td>0.552607</td>\n",
              "      <td>0.796354</td>\n",
              "      <td>1.455381</td>\n",
              "    </tr>\n",
              "  </tbody>\n",
              "</table>\n",
              "</div>"
            ],
            "text/plain": [
              "   count      mean       std       min       25%       50%       75%       max\n",
              "A    6.0  0.166273  0.911296 -0.760410 -0.557451 -0.062915  0.919301  1.359470\n",
              "B    6.0  0.395991  0.907351 -0.686301 -0.297363  0.573582  0.697911  1.763408\n",
              "C    6.0  0.015215  0.767532 -0.724488 -0.511239 -0.017060  0.086985  1.404193\n",
              "D    6.0  0.518686  0.731601 -0.771481  0.472200  0.552607  0.796354  1.455381"
            ]
          },
          "metadata": {},
          "execution_count": 10
        }
      ]
    },
    {
      "cell_type": "code",
      "metadata": {
        "id": "Br9VwFVex5rE",
        "colab": {
          "base_uri": "https://localhost:8080/",
          "height": 175
        },
        "outputId": "d99dd963-a312-424b-ad21-a0aa19658d38"
      },
      "source": [
        "# Transposing your dataframe:\n",
        "df.T"
      ],
      "execution_count": 11,
      "outputs": [
        {
          "output_type": "execute_result",
          "data": {
            "text/html": [
              "<div>\n",
              "<style scoped>\n",
              "    .dataframe tbody tr th:only-of-type {\n",
              "        vertical-align: middle;\n",
              "    }\n",
              "\n",
              "    .dataframe tbody tr th {\n",
              "        vertical-align: top;\n",
              "    }\n",
              "\n",
              "    .dataframe thead th {\n",
              "        text-align: right;\n",
              "    }\n",
              "</style>\n",
              "<table border=\"1\" class=\"dataframe\">\n",
              "  <thead>\n",
              "    <tr style=\"text-align: right;\">\n",
              "      <th></th>\n",
              "      <th>2021-09-27</th>\n",
              "      <th>2021-09-28</th>\n",
              "      <th>2021-09-29</th>\n",
              "      <th>2021-09-30</th>\n",
              "      <th>2021-10-01</th>\n",
              "      <th>2021-10-02</th>\n",
              "    </tr>\n",
              "  </thead>\n",
              "  <tbody>\n",
              "    <tr>\n",
              "      <th>A</th>\n",
              "      <td>1.157590</td>\n",
              "      <td>-0.330264</td>\n",
              "      <td>0.204433</td>\n",
              "      <td>-0.760410</td>\n",
              "      <td>1.359470</td>\n",
              "      <td>-0.633180</td>\n",
              "    </tr>\n",
              "    <tr>\n",
              "      <th>B</th>\n",
              "      <td>0.691274</td>\n",
              "      <td>0.455890</td>\n",
              "      <td>-0.686301</td>\n",
              "      <td>0.700124</td>\n",
              "      <td>1.763408</td>\n",
              "      <td>-0.548448</td>\n",
              "    </tr>\n",
              "    <tr>\n",
              "      <th>C</th>\n",
              "      <td>0.036269</td>\n",
              "      <td>1.404193</td>\n",
              "      <td>-0.070389</td>\n",
              "      <td>-0.658189</td>\n",
              "      <td>-0.724488</td>\n",
              "      <td>0.103891</td>\n",
              "    </tr>\n",
              "    <tr>\n",
              "      <th>D</th>\n",
              "      <td>0.448139</td>\n",
              "      <td>0.544384</td>\n",
              "      <td>0.874862</td>\n",
              "      <td>-0.771481</td>\n",
              "      <td>1.455381</td>\n",
              "      <td>0.560830</td>\n",
              "    </tr>\n",
              "  </tbody>\n",
              "</table>\n",
              "</div>"
            ],
            "text/plain": [
              "   2021-09-27  2021-09-28  2021-09-29  2021-09-30  2021-10-01  2021-10-02\n",
              "A    1.157590   -0.330264    0.204433   -0.760410    1.359470   -0.633180\n",
              "B    0.691274    0.455890   -0.686301    0.700124    1.763408   -0.548448\n",
              "C    0.036269    1.404193   -0.070389   -0.658189   -0.724488    0.103891\n",
              "D    0.448139    0.544384    0.874862   -0.771481    1.455381    0.560830"
            ]
          },
          "metadata": {},
          "execution_count": 11
        }
      ]
    },
    {
      "cell_type": "code",
      "metadata": {
        "id": "vkg1gQUVLoy9",
        "colab": {
          "base_uri": "https://localhost:8080/"
        },
        "outputId": "1f378061-884c-4640-81da-90c2d08f4cdf"
      },
      "source": [
        "df.T.index"
      ],
      "execution_count": 12,
      "outputs": [
        {
          "output_type": "execute_result",
          "data": {
            "text/plain": [
              "Index(['A', 'B', 'C', 'D'], dtype='object')"
            ]
          },
          "metadata": {},
          "execution_count": 12
        }
      ]
    },
    {
      "cell_type": "markdown",
      "metadata": {
        "id": "A4lHGd4px5rU"
      },
      "source": [
        "### Sorting"
      ]
    },
    {
      "cell_type": "markdown",
      "metadata": {
        "id": "jlXuIbzD6oUD"
      },
      "source": [
        "#### Sort by index\n",
        "- sort_index(axis=0, ascending=False)\n",
        "- sort_index(axis=1, ascending=False)\n",
        "\n",
        "> Axis=0 Column-Wise Operation (수직으로)\n",
        "\n",
        "> Axis=1 Row-Wise Operation (수평으로)"
      ]
    },
    {
      "cell_type": "code",
      "metadata": {
        "id": "RM9Rlk64x5rW",
        "colab": {
          "base_uri": "https://localhost:8080/"
        },
        "outputId": "b543f966-434b-4c89-acdd-70f8df534307"
      },
      "source": [
        "# Sorting by an axis:\n",
        "df, df.sort_index(axis=0) #, ascending=False)"
      ],
      "execution_count": 13,
      "outputs": [
        {
          "output_type": "execute_result",
          "data": {
            "text/plain": [
              "(                   A         B         C         D\n",
              " 2021-09-27  1.157590  0.691274  0.036269  0.448139\n",
              " 2021-09-28 -0.330264  0.455890  1.404193  0.544384\n",
              " 2021-09-29  0.204433 -0.686301 -0.070389  0.874862\n",
              " 2021-09-30 -0.760410  0.700124 -0.658189 -0.771481\n",
              " 2021-10-01  1.359470  1.763408 -0.724488  1.455381\n",
              " 2021-10-02 -0.633180 -0.548448  0.103891  0.560830,\n",
              "                    A         B         C         D\n",
              " 2021-09-27  1.157590  0.691274  0.036269  0.448139\n",
              " 2021-09-28 -0.330264  0.455890  1.404193  0.544384\n",
              " 2021-09-29  0.204433 -0.686301 -0.070389  0.874862\n",
              " 2021-09-30 -0.760410  0.700124 -0.658189 -0.771481\n",
              " 2021-10-01  1.359470  1.763408 -0.724488  1.455381\n",
              " 2021-10-02 -0.633180 -0.548448  0.103891  0.560830)"
            ]
          },
          "metadata": {},
          "execution_count": 13
        }
      ]
    },
    {
      "cell_type": "code",
      "metadata": {
        "id": "w_7d__Hsx5rb",
        "colab": {
          "base_uri": "https://localhost:8080/"
        },
        "outputId": "bc47e17a-e87c-411e-c424-c9da85b444f2"
      },
      "source": [
        "df,df.sort_index(axis=1, ascending=False) \n",
        "# 내림차순 정렬\n",
        "# 데이터는 기본적으로 오름차순으로 정렬됨\n",
        "# 내림차순으로 정렬을 할 때는 ascending=False로 지정."
      ],
      "execution_count": 14,
      "outputs": [
        {
          "output_type": "execute_result",
          "data": {
            "text/plain": [
              "(                   A         B         C         D\n",
              " 2021-09-27  1.157590  0.691274  0.036269  0.448139\n",
              " 2021-09-28 -0.330264  0.455890  1.404193  0.544384\n",
              " 2021-09-29  0.204433 -0.686301 -0.070389  0.874862\n",
              " 2021-09-30 -0.760410  0.700124 -0.658189 -0.771481\n",
              " 2021-10-01  1.359470  1.763408 -0.724488  1.455381\n",
              " 2021-10-02 -0.633180 -0.548448  0.103891  0.560830,\n",
              "                    D         C         B         A\n",
              " 2021-09-27  0.448139  0.036269  0.691274  1.157590\n",
              " 2021-09-28  0.544384  1.404193  0.455890 -0.330264\n",
              " 2021-09-29  0.874862 -0.070389 -0.686301  0.204433\n",
              " 2021-09-30 -0.771481 -0.658189  0.700124 -0.760410\n",
              " 2021-10-01  1.455381 -0.724488  1.763408  1.359470\n",
              " 2021-10-02  0.560830  0.103891 -0.548448 -0.633180)"
            ]
          },
          "metadata": {},
          "execution_count": 14
        }
      ]
    },
    {
      "cell_type": "markdown",
      "metadata": {
        "id": "8J59I-KW6yNK"
      },
      "source": [
        "#### Sort by value\n",
        "- sort_values(by='column')"
      ]
    },
    {
      "cell_type": "code",
      "metadata": {
        "id": "VJw7_sTLx5rg",
        "colab": {
          "base_uri": "https://localhost:8080/"
        },
        "outputId": "842c37d1-8f35-45fc-9f30-b08eaea72927"
      },
      "source": [
        "# Sorting by values:\n",
        "df,df.sort_values(by='B') #, ascending=False)"
      ],
      "execution_count": 20,
      "outputs": [
        {
          "output_type": "execute_result",
          "data": {
            "text/plain": [
              "(                   A         B         C         D\n",
              " 2021-09-27  1.157590  0.691274  0.036269  0.448139\n",
              " 2021-09-28 -0.330264  0.455890  1.404193  0.544384\n",
              " 2021-09-29  0.204433 -0.686301 -0.070389  0.874862\n",
              " 2021-09-30 -0.760410  0.700124 -0.658189 -0.771481\n",
              " 2021-10-01  1.359470  1.763408 -0.724488  1.455381\n",
              " 2021-10-02 -0.633180 -0.548448  0.103891  0.560830,\n",
              "                    A         B         C         D\n",
              " 2021-09-29  0.204433 -0.686301 -0.070389  0.874862\n",
              " 2021-10-02 -0.633180 -0.548448  0.103891  0.560830\n",
              " 2021-09-28 -0.330264  0.455890  1.404193  0.544384\n",
              " 2021-09-27  1.157590  0.691274  0.036269  0.448139\n",
              " 2021-09-30 -0.760410  0.700124 -0.658189 -0.771481\n",
              " 2021-10-01  1.359470  1.763408 -0.724488  1.455381)"
            ]
          },
          "metadata": {},
          "execution_count": 20
        }
      ]
    },
    {
      "cell_type": "code",
      "metadata": {
        "id": "Rd6X2gCkzb0t",
        "outputId": "6e2d9efc-303a-4f18-95df-e989b956d192",
        "colab": {
          "base_uri": "https://localhost:8080/"
        }
      },
      "source": [
        "# Sorting by values:\n",
        "df,df.sort_values(by='B', ascending=False)"
      ],
      "execution_count": 21,
      "outputs": [
        {
          "output_type": "execute_result",
          "data": {
            "text/plain": [
              "(                   A         B         C         D\n",
              " 2021-09-27  1.157590  0.691274  0.036269  0.448139\n",
              " 2021-09-28 -0.330264  0.455890  1.404193  0.544384\n",
              " 2021-09-29  0.204433 -0.686301 -0.070389  0.874862\n",
              " 2021-09-30 -0.760410  0.700124 -0.658189 -0.771481\n",
              " 2021-10-01  1.359470  1.763408 -0.724488  1.455381\n",
              " 2021-10-02 -0.633180 -0.548448  0.103891  0.560830,\n",
              "                    A         B         C         D\n",
              " 2021-10-01  1.359470  1.763408 -0.724488  1.455381\n",
              " 2021-09-30 -0.760410  0.700124 -0.658189 -0.771481\n",
              " 2021-09-27  1.157590  0.691274  0.036269  0.448139\n",
              " 2021-09-28 -0.330264  0.455890  1.404193  0.544384\n",
              " 2021-10-02 -0.633180 -0.548448  0.103891  0.560830\n",
              " 2021-09-29  0.204433 -0.686301 -0.070389  0.874862)"
            ]
          },
          "metadata": {},
          "execution_count": 21
        }
      ]
    },
    {
      "cell_type": "markdown",
      "metadata": {
        "id": "rBW0-saPPGbN"
      },
      "source": [
        "## indexing and slicing of DataFrame"
      ]
    },
    {
      "cell_type": "markdown",
      "metadata": {
        "id": "oH89Wa-ix5rq"
      },
      "source": [
        "#### Selecting data by indexing and slicing\n",
        "- indexing\n",
        "- slicing\n"
      ]
    },
    {
      "cell_type": "code",
      "metadata": {
        "id": "YufIBMYzx5ru",
        "colab": {
          "base_uri": "https://localhost:8080/"
        },
        "outputId": "478f90e2-0cd1-48ba-8c37-75605d706778"
      },
      "source": [
        "# Selecting a single column, which yields a Series\n",
        "df['A']"
      ],
      "execution_count": 22,
      "outputs": [
        {
          "output_type": "execute_result",
          "data": {
            "text/plain": [
              "2021-09-27    1.157590\n",
              "2021-09-28   -0.330264\n",
              "2021-09-29    0.204433\n",
              "2021-09-30   -0.760410\n",
              "2021-10-01    1.359470\n",
              "2021-10-02   -0.633180\n",
              "Freq: D, Name: A, dtype: float64"
            ]
          },
          "metadata": {},
          "execution_count": 22
        }
      ]
    },
    {
      "cell_type": "code",
      "metadata": {
        "id": "ijxuNMS5x5r3",
        "colab": {
          "base_uri": "https://localhost:8080/",
          "height": 143
        },
        "outputId": "c5371d42-c50f-4cb6-e345-141515bf4a29"
      },
      "source": [
        "# Selecting via [], which slices the rows.\n",
        "df[0:3]"
      ],
      "execution_count": 23,
      "outputs": [
        {
          "output_type": "execute_result",
          "data": {
            "text/html": [
              "<div>\n",
              "<style scoped>\n",
              "    .dataframe tbody tr th:only-of-type {\n",
              "        vertical-align: middle;\n",
              "    }\n",
              "\n",
              "    .dataframe tbody tr th {\n",
              "        vertical-align: top;\n",
              "    }\n",
              "\n",
              "    .dataframe thead th {\n",
              "        text-align: right;\n",
              "    }\n",
              "</style>\n",
              "<table border=\"1\" class=\"dataframe\">\n",
              "  <thead>\n",
              "    <tr style=\"text-align: right;\">\n",
              "      <th></th>\n",
              "      <th>A</th>\n",
              "      <th>B</th>\n",
              "      <th>C</th>\n",
              "      <th>D</th>\n",
              "    </tr>\n",
              "  </thead>\n",
              "  <tbody>\n",
              "    <tr>\n",
              "      <th>2021-09-27</th>\n",
              "      <td>1.157590</td>\n",
              "      <td>0.691274</td>\n",
              "      <td>0.036269</td>\n",
              "      <td>0.448139</td>\n",
              "    </tr>\n",
              "    <tr>\n",
              "      <th>2021-09-28</th>\n",
              "      <td>-0.330264</td>\n",
              "      <td>0.455890</td>\n",
              "      <td>1.404193</td>\n",
              "      <td>0.544384</td>\n",
              "    </tr>\n",
              "    <tr>\n",
              "      <th>2021-09-29</th>\n",
              "      <td>0.204433</td>\n",
              "      <td>-0.686301</td>\n",
              "      <td>-0.070389</td>\n",
              "      <td>0.874862</td>\n",
              "    </tr>\n",
              "  </tbody>\n",
              "</table>\n",
              "</div>"
            ],
            "text/plain": [
              "                   A         B         C         D\n",
              "2021-09-27  1.157590  0.691274  0.036269  0.448139\n",
              "2021-09-28 -0.330264  0.455890  1.404193  0.544384\n",
              "2021-09-29  0.204433 -0.686301 -0.070389  0.874862"
            ]
          },
          "metadata": {},
          "execution_count": 23
        }
      ]
    },
    {
      "cell_type": "code",
      "metadata": {
        "id": "T8XP7m9nx5r9",
        "colab": {
          "base_uri": "https://localhost:8080/",
          "height": 49
        },
        "outputId": "b78d3b23-f1c0-4752-d9df-03f57e07be45"
      },
      "source": [
        "df['20200927':'20201001'] # 인덱스가 아닌 값인 경우는 지정된 범위가 다 선택된다."
      ],
      "execution_count": 24,
      "outputs": [
        {
          "output_type": "execute_result",
          "data": {
            "text/html": [
              "<div>\n",
              "<style scoped>\n",
              "    .dataframe tbody tr th:only-of-type {\n",
              "        vertical-align: middle;\n",
              "    }\n",
              "\n",
              "    .dataframe tbody tr th {\n",
              "        vertical-align: top;\n",
              "    }\n",
              "\n",
              "    .dataframe thead th {\n",
              "        text-align: right;\n",
              "    }\n",
              "</style>\n",
              "<table border=\"1\" class=\"dataframe\">\n",
              "  <thead>\n",
              "    <tr style=\"text-align: right;\">\n",
              "      <th></th>\n",
              "      <th>A</th>\n",
              "      <th>B</th>\n",
              "      <th>C</th>\n",
              "      <th>D</th>\n",
              "    </tr>\n",
              "  </thead>\n",
              "  <tbody>\n",
              "  </tbody>\n",
              "</table>\n",
              "</div>"
            ],
            "text/plain": [
              "Empty DataFrame\n",
              "Columns: [A, B, C, D]\n",
              "Index: []"
            ]
          },
          "metadata": {},
          "execution_count": 24
        }
      ]
    },
    {
      "cell_type": "markdown",
      "metadata": {
        "id": "E7-V96t9x5sB"
      },
      "source": [
        "#### Selecting data by label [중요!!]\n",
        "\n",
        "> **loc, iloc**\n"
      ]
    },
    {
      "cell_type": "code",
      "metadata": {
        "id": "TV4dnwU-x5sC",
        "colab": {
          "base_uri": "https://localhost:8080/",
          "height": 238
        },
        "outputId": "18af261b-979a-48bb-a1fc-27ad27f58b91"
      },
      "source": [
        "df"
      ],
      "execution_count": 50,
      "outputs": [
        {
          "output_type": "execute_result",
          "data": {
            "text/html": [
              "<div>\n",
              "<style scoped>\n",
              "    .dataframe tbody tr th:only-of-type {\n",
              "        vertical-align: middle;\n",
              "    }\n",
              "\n",
              "    .dataframe tbody tr th {\n",
              "        vertical-align: top;\n",
              "    }\n",
              "\n",
              "    .dataframe thead th {\n",
              "        text-align: right;\n",
              "    }\n",
              "</style>\n",
              "<table border=\"1\" class=\"dataframe\">\n",
              "  <thead>\n",
              "    <tr style=\"text-align: right;\">\n",
              "      <th></th>\n",
              "      <th>A</th>\n",
              "      <th>B</th>\n",
              "      <th>C</th>\n",
              "      <th>D</th>\n",
              "    </tr>\n",
              "  </thead>\n",
              "  <tbody>\n",
              "    <tr>\n",
              "      <th>2021-09-27</th>\n",
              "      <td>1.157590</td>\n",
              "      <td>0.691274</td>\n",
              "      <td>0.036269</td>\n",
              "      <td>0.448139</td>\n",
              "    </tr>\n",
              "    <tr>\n",
              "      <th>2021-09-28</th>\n",
              "      <td>-0.330264</td>\n",
              "      <td>0.455890</td>\n",
              "      <td>1.404193</td>\n",
              "      <td>0.544384</td>\n",
              "    </tr>\n",
              "    <tr>\n",
              "      <th>2021-09-29</th>\n",
              "      <td>0.204433</td>\n",
              "      <td>-0.686301</td>\n",
              "      <td>-0.070389</td>\n",
              "      <td>0.874862</td>\n",
              "    </tr>\n",
              "    <tr>\n",
              "      <th>2021-09-30</th>\n",
              "      <td>-0.760410</td>\n",
              "      <td>0.700124</td>\n",
              "      <td>-0.658189</td>\n",
              "      <td>-0.771481</td>\n",
              "    </tr>\n",
              "    <tr>\n",
              "      <th>2021-10-01</th>\n",
              "      <td>1.359470</td>\n",
              "      <td>1.763408</td>\n",
              "      <td>-0.724488</td>\n",
              "      <td>1.455381</td>\n",
              "    </tr>\n",
              "    <tr>\n",
              "      <th>2021-10-02</th>\n",
              "      <td>-0.633180</td>\n",
              "      <td>-0.548448</td>\n",
              "      <td>0.103891</td>\n",
              "      <td>0.560830</td>\n",
              "    </tr>\n",
              "  </tbody>\n",
              "</table>\n",
              "</div>"
            ],
            "text/plain": [
              "                   A         B         C         D\n",
              "2021-09-27  1.157590  0.691274  0.036269  0.448139\n",
              "2021-09-28 -0.330264  0.455890  1.404193  0.544384\n",
              "2021-09-29  0.204433 -0.686301 -0.070389  0.874862\n",
              "2021-09-30 -0.760410  0.700124 -0.658189 -0.771481\n",
              "2021-10-01  1.359470  1.763408 -0.724488  1.455381\n",
              "2021-10-02 -0.633180 -0.548448  0.103891  0.560830"
            ]
          },
          "metadata": {},
          "execution_count": 50
        }
      ]
    },
    {
      "cell_type": "code",
      "metadata": {
        "id": "iPZE3U5cx5sG",
        "colab": {
          "base_uri": "https://localhost:8080/"
        },
        "outputId": "00670902-9271-4531-cbe0-5babc760500b"
      },
      "source": [
        "df.loc[dates[0]]   # loc()"
      ],
      "execution_count": 26,
      "outputs": [
        {
          "output_type": "execute_result",
          "data": {
            "text/plain": [
              "A    1.157590\n",
              "B    0.691274\n",
              "C    0.036269\n",
              "D    0.448139\n",
              "Name: 2021-09-27 00:00:00, dtype: float64"
            ]
          },
          "metadata": {},
          "execution_count": 26
        }
      ]
    },
    {
      "cell_type": "code",
      "metadata": {
        "id": "jteYZDQnx5sL",
        "colab": {
          "base_uri": "https://localhost:8080/",
          "height": 238
        },
        "outputId": "90d3ecfd-4660-4993-aaba-a0b3a0209208"
      },
      "source": [
        "# Selecting on a multi-axis by label:\n",
        "df.loc[:,['A','B']]"
      ],
      "execution_count": 27,
      "outputs": [
        {
          "output_type": "execute_result",
          "data": {
            "text/html": [
              "<div>\n",
              "<style scoped>\n",
              "    .dataframe tbody tr th:only-of-type {\n",
              "        vertical-align: middle;\n",
              "    }\n",
              "\n",
              "    .dataframe tbody tr th {\n",
              "        vertical-align: top;\n",
              "    }\n",
              "\n",
              "    .dataframe thead th {\n",
              "        text-align: right;\n",
              "    }\n",
              "</style>\n",
              "<table border=\"1\" class=\"dataframe\">\n",
              "  <thead>\n",
              "    <tr style=\"text-align: right;\">\n",
              "      <th></th>\n",
              "      <th>A</th>\n",
              "      <th>B</th>\n",
              "    </tr>\n",
              "  </thead>\n",
              "  <tbody>\n",
              "    <tr>\n",
              "      <th>2021-09-27</th>\n",
              "      <td>1.157590</td>\n",
              "      <td>0.691274</td>\n",
              "    </tr>\n",
              "    <tr>\n",
              "      <th>2021-09-28</th>\n",
              "      <td>-0.330264</td>\n",
              "      <td>0.455890</td>\n",
              "    </tr>\n",
              "    <tr>\n",
              "      <th>2021-09-29</th>\n",
              "      <td>0.204433</td>\n",
              "      <td>-0.686301</td>\n",
              "    </tr>\n",
              "    <tr>\n",
              "      <th>2021-09-30</th>\n",
              "      <td>-0.760410</td>\n",
              "      <td>0.700124</td>\n",
              "    </tr>\n",
              "    <tr>\n",
              "      <th>2021-10-01</th>\n",
              "      <td>1.359470</td>\n",
              "      <td>1.763408</td>\n",
              "    </tr>\n",
              "    <tr>\n",
              "      <th>2021-10-02</th>\n",
              "      <td>-0.633180</td>\n",
              "      <td>-0.548448</td>\n",
              "    </tr>\n",
              "  </tbody>\n",
              "</table>\n",
              "</div>"
            ],
            "text/plain": [
              "                   A         B\n",
              "2021-09-27  1.157590  0.691274\n",
              "2021-09-28 -0.330264  0.455890\n",
              "2021-09-29  0.204433 -0.686301\n",
              "2021-09-30 -0.760410  0.700124\n",
              "2021-10-01  1.359470  1.763408\n",
              "2021-10-02 -0.633180 -0.548448"
            ]
          },
          "metadata": {},
          "execution_count": 27
        }
      ]
    },
    {
      "cell_type": "markdown",
      "metadata": {
        "id": "QqYJvRLnx5sP"
      },
      "source": [
        "#### [DIY: 도전코딩]\n",
        "\n",
        "> Select data for first two days AND comumn 3,4 from df using loc[]."
      ]
    },
    {
      "cell_type": "code",
      "metadata": {
        "id": "dbXJpQ3I5Fuw",
        "outputId": "62754013-ff67-4918-afb4-666237e28419",
        "colab": {
          "base_uri": "https://localhost:8080/",
          "height": 112
        }
      },
      "source": [
        "# df.loc[0:2,['C','D']]\n",
        "# loc 함수를 쓸 때는 정수 인덱스 X, *value 인덱스 O:중간고사필기.\n",
        "# df.loc['20210928':'20210930',['C','D']]\n",
        "df.loc[dates[:2],['C','D']]"
      ],
      "execution_count": 63,
      "outputs": [
        {
          "output_type": "execute_result",
          "data": {
            "text/html": [
              "<div>\n",
              "<style scoped>\n",
              "    .dataframe tbody tr th:only-of-type {\n",
              "        vertical-align: middle;\n",
              "    }\n",
              "\n",
              "    .dataframe tbody tr th {\n",
              "        vertical-align: top;\n",
              "    }\n",
              "\n",
              "    .dataframe thead th {\n",
              "        text-align: right;\n",
              "    }\n",
              "</style>\n",
              "<table border=\"1\" class=\"dataframe\">\n",
              "  <thead>\n",
              "    <tr style=\"text-align: right;\">\n",
              "      <th></th>\n",
              "      <th>C</th>\n",
              "      <th>D</th>\n",
              "    </tr>\n",
              "  </thead>\n",
              "  <tbody>\n",
              "    <tr>\n",
              "      <th>2021-09-27</th>\n",
              "      <td>0.036269</td>\n",
              "      <td>0.448139</td>\n",
              "    </tr>\n",
              "    <tr>\n",
              "      <th>2021-09-28</th>\n",
              "      <td>1.404193</td>\n",
              "      <td>0.544384</td>\n",
              "    </tr>\n",
              "  </tbody>\n",
              "</table>\n",
              "</div>"
            ],
            "text/plain": [
              "                   C         D\n",
              "2021-09-27  0.036269  0.448139\n",
              "2021-09-28  1.404193  0.544384"
            ]
          },
          "metadata": {},
          "execution_count": 63
        }
      ]
    },
    {
      "cell_type": "markdown",
      "metadata": {
        "id": "-BGWuIwpx5sV"
      },
      "source": [
        "#### Selecting data by position (iloc())\n",
        "- index 사용"
      ]
    },
    {
      "cell_type": "code",
      "metadata": {
        "id": "gYtgID9rx5sW",
        "colab": {
          "base_uri": "https://localhost:8080/",
          "height": 238
        },
        "outputId": "fa4b6afc-0c27-46f6-e589-b7bef643cd00"
      },
      "source": [
        "df"
      ],
      "execution_count": 31,
      "outputs": [
        {
          "output_type": "execute_result",
          "data": {
            "text/html": [
              "<div>\n",
              "<style scoped>\n",
              "    .dataframe tbody tr th:only-of-type {\n",
              "        vertical-align: middle;\n",
              "    }\n",
              "\n",
              "    .dataframe tbody tr th {\n",
              "        vertical-align: top;\n",
              "    }\n",
              "\n",
              "    .dataframe thead th {\n",
              "        text-align: right;\n",
              "    }\n",
              "</style>\n",
              "<table border=\"1\" class=\"dataframe\">\n",
              "  <thead>\n",
              "    <tr style=\"text-align: right;\">\n",
              "      <th></th>\n",
              "      <th>A</th>\n",
              "      <th>B</th>\n",
              "      <th>C</th>\n",
              "      <th>D</th>\n",
              "    </tr>\n",
              "  </thead>\n",
              "  <tbody>\n",
              "    <tr>\n",
              "      <th>2021-09-27</th>\n",
              "      <td>1.157590</td>\n",
              "      <td>0.691274</td>\n",
              "      <td>0.036269</td>\n",
              "      <td>0.448139</td>\n",
              "    </tr>\n",
              "    <tr>\n",
              "      <th>2021-09-28</th>\n",
              "      <td>-0.330264</td>\n",
              "      <td>0.455890</td>\n",
              "      <td>1.404193</td>\n",
              "      <td>0.544384</td>\n",
              "    </tr>\n",
              "    <tr>\n",
              "      <th>2021-09-29</th>\n",
              "      <td>0.204433</td>\n",
              "      <td>-0.686301</td>\n",
              "      <td>-0.070389</td>\n",
              "      <td>0.874862</td>\n",
              "    </tr>\n",
              "    <tr>\n",
              "      <th>2021-09-30</th>\n",
              "      <td>-0.760410</td>\n",
              "      <td>0.700124</td>\n",
              "      <td>-0.658189</td>\n",
              "      <td>-0.771481</td>\n",
              "    </tr>\n",
              "    <tr>\n",
              "      <th>2021-10-01</th>\n",
              "      <td>1.359470</td>\n",
              "      <td>1.763408</td>\n",
              "      <td>-0.724488</td>\n",
              "      <td>1.455381</td>\n",
              "    </tr>\n",
              "    <tr>\n",
              "      <th>2021-10-02</th>\n",
              "      <td>-0.633180</td>\n",
              "      <td>-0.548448</td>\n",
              "      <td>0.103891</td>\n",
              "      <td>0.560830</td>\n",
              "    </tr>\n",
              "  </tbody>\n",
              "</table>\n",
              "</div>"
            ],
            "text/plain": [
              "                   A         B         C         D\n",
              "2021-09-27  1.157590  0.691274  0.036269  0.448139\n",
              "2021-09-28 -0.330264  0.455890  1.404193  0.544384\n",
              "2021-09-29  0.204433 -0.686301 -0.070389  0.874862\n",
              "2021-09-30 -0.760410  0.700124 -0.658189 -0.771481\n",
              "2021-10-01  1.359470  1.763408 -0.724488  1.455381\n",
              "2021-10-02 -0.633180 -0.548448  0.103891  0.560830"
            ]
          },
          "metadata": {},
          "execution_count": 31
        }
      ]
    },
    {
      "cell_type": "code",
      "metadata": {
        "id": "PNgZ3u8-x5sa",
        "colab": {
          "base_uri": "https://localhost:8080/"
        },
        "outputId": "619fa07c-36b0-46d1-963f-be39c794a0b9"
      },
      "source": [
        "df.iloc[3]  # 결과는 차원축소형으로 표현됨."
      ],
      "execution_count": 32,
      "outputs": [
        {
          "output_type": "execute_result",
          "data": {
            "text/plain": [
              "A   -0.760410\n",
              "B    0.700124\n",
              "C   -0.658189\n",
              "D   -0.771481\n",
              "Name: 2021-09-30 00:00:00, dtype: float64"
            ]
          },
          "metadata": {},
          "execution_count": 32
        }
      ]
    },
    {
      "cell_type": "code",
      "metadata": {
        "id": "12eWuxQ_x5sh",
        "outputId": "184f055f-2094-422b-eb04-e86945bfc74c",
        "colab": {
          "base_uri": "https://localhost:8080/",
          "height": 112
        }
      },
      "source": [
        "# [다시 도전] \n",
        "# Select data for first two days AND comumn 3,4 from df.\n",
        "# Use iloc\n",
        "df.iloc[:2,2:4]"
      ],
      "execution_count": 33,
      "outputs": [
        {
          "output_type": "execute_result",
          "data": {
            "text/html": [
              "<div>\n",
              "<style scoped>\n",
              "    .dataframe tbody tr th:only-of-type {\n",
              "        vertical-align: middle;\n",
              "    }\n",
              "\n",
              "    .dataframe tbody tr th {\n",
              "        vertical-align: top;\n",
              "    }\n",
              "\n",
              "    .dataframe thead th {\n",
              "        text-align: right;\n",
              "    }\n",
              "</style>\n",
              "<table border=\"1\" class=\"dataframe\">\n",
              "  <thead>\n",
              "    <tr style=\"text-align: right;\">\n",
              "      <th></th>\n",
              "      <th>C</th>\n",
              "      <th>D</th>\n",
              "    </tr>\n",
              "  </thead>\n",
              "  <tbody>\n",
              "    <tr>\n",
              "      <th>2021-09-27</th>\n",
              "      <td>0.036269</td>\n",
              "      <td>0.448139</td>\n",
              "    </tr>\n",
              "    <tr>\n",
              "      <th>2021-09-28</th>\n",
              "      <td>1.404193</td>\n",
              "      <td>0.544384</td>\n",
              "    </tr>\n",
              "  </tbody>\n",
              "</table>\n",
              "</div>"
            ],
            "text/plain": [
              "                   C         D\n",
              "2021-09-27  0.036269  0.448139\n",
              "2021-09-28  1.404193  0.544384"
            ]
          },
          "metadata": {},
          "execution_count": 33
        }
      ]
    },
    {
      "cell_type": "code",
      "metadata": {
        "id": "_S-omW3hx5sn",
        "outputId": "da2ba087-0a2e-46d8-fb29-b609978c5859",
        "colab": {
          "base_uri": "https://localhost:8080/"
        }
      },
      "source": [
        "# Select one item\n",
        "df.iloc[1,1]"
      ],
      "execution_count": 34,
      "outputs": [
        {
          "output_type": "execute_result",
          "data": {
            "text/plain": [
              "0.45589020640642564"
            ]
          },
          "metadata": {},
          "execution_count": 34
        }
      ]
    },
    {
      "cell_type": "code",
      "metadata": {
        "id": "fjAsIAidfVUQ",
        "outputId": "2ec3c553-fb9c-4fc0-ea45-f74d41a58834",
        "colab": {
          "base_uri": "https://localhost:8080/",
          "height": 143
        }
      },
      "source": [
        "# [DIY: 다시 도전] iloc사용.\n",
        "# Select data for first three days from df\n",
        "# Your code\n",
        "df.iloc[:3:]\n",
        "# df[:3,:]"
      ],
      "execution_count": 64,
      "outputs": [
        {
          "output_type": "execute_result",
          "data": {
            "text/html": [
              "<div>\n",
              "<style scoped>\n",
              "    .dataframe tbody tr th:only-of-type {\n",
              "        vertical-align: middle;\n",
              "    }\n",
              "\n",
              "    .dataframe tbody tr th {\n",
              "        vertical-align: top;\n",
              "    }\n",
              "\n",
              "    .dataframe thead th {\n",
              "        text-align: right;\n",
              "    }\n",
              "</style>\n",
              "<table border=\"1\" class=\"dataframe\">\n",
              "  <thead>\n",
              "    <tr style=\"text-align: right;\">\n",
              "      <th></th>\n",
              "      <th>A</th>\n",
              "      <th>B</th>\n",
              "      <th>C</th>\n",
              "      <th>D</th>\n",
              "    </tr>\n",
              "  </thead>\n",
              "  <tbody>\n",
              "    <tr>\n",
              "      <th>2021-09-27</th>\n",
              "      <td>1.157590</td>\n",
              "      <td>0.691274</td>\n",
              "      <td>0.036269</td>\n",
              "      <td>0.448139</td>\n",
              "    </tr>\n",
              "    <tr>\n",
              "      <th>2021-09-28</th>\n",
              "      <td>-0.330264</td>\n",
              "      <td>0.455890</td>\n",
              "      <td>1.404193</td>\n",
              "      <td>0.544384</td>\n",
              "    </tr>\n",
              "    <tr>\n",
              "      <th>2021-09-29</th>\n",
              "      <td>0.204433</td>\n",
              "      <td>-0.686301</td>\n",
              "      <td>-0.070389</td>\n",
              "      <td>0.874862</td>\n",
              "    </tr>\n",
              "  </tbody>\n",
              "</table>\n",
              "</div>"
            ],
            "text/plain": [
              "                   A         B         C         D\n",
              "2021-09-27  1.157590  0.691274  0.036269  0.448139\n",
              "2021-09-28 -0.330264  0.455890  1.404193  0.544384\n",
              "2021-09-29  0.204433 -0.686301 -0.070389  0.874862"
            ]
          },
          "metadata": {},
          "execution_count": 64
        }
      ]
    },
    {
      "cell_type": "markdown",
      "metadata": {
        "id": "fDoWVVGHx5su"
      },
      "source": [
        "#### Selecting data by Boolean indexing"
      ]
    },
    {
      "cell_type": "code",
      "metadata": {
        "id": "CG7LipUrx5sv",
        "colab": {
          "base_uri": "https://localhost:8080/",
          "height": 235
        },
        "outputId": "0fc3d639-f602-4b6d-e17c-67e61419f6c5"
      },
      "source": [
        "df"
      ],
      "execution_count": null,
      "outputs": [
        {
          "output_type": "execute_result",
          "data": {
            "text/html": [
              "<div>\n",
              "<style scoped>\n",
              "    .dataframe tbody tr th:only-of-type {\n",
              "        vertical-align: middle;\n",
              "    }\n",
              "\n",
              "    .dataframe tbody tr th {\n",
              "        vertical-align: top;\n",
              "    }\n",
              "\n",
              "    .dataframe thead th {\n",
              "        text-align: right;\n",
              "    }\n",
              "</style>\n",
              "<table border=\"1\" class=\"dataframe\">\n",
              "  <thead>\n",
              "    <tr style=\"text-align: right;\">\n",
              "      <th></th>\n",
              "      <th>A</th>\n",
              "      <th>B</th>\n",
              "      <th>C</th>\n",
              "      <th>D</th>\n",
              "    </tr>\n",
              "  </thead>\n",
              "  <tbody>\n",
              "    <tr>\n",
              "      <th>2021-09-27</th>\n",
              "      <td>0.157145</td>\n",
              "      <td>-0.656820</td>\n",
              "      <td>-0.392772</td>\n",
              "      <td>-0.428795</td>\n",
              "    </tr>\n",
              "    <tr>\n",
              "      <th>2021-09-28</th>\n",
              "      <td>1.489694</td>\n",
              "      <td>0.320003</td>\n",
              "      <td>-0.897810</td>\n",
              "      <td>-1.051432</td>\n",
              "    </tr>\n",
              "    <tr>\n",
              "      <th>2021-09-29</th>\n",
              "      <td>-0.882165</td>\n",
              "      <td>0.342783</td>\n",
              "      <td>0.372968</td>\n",
              "      <td>-2.059851</td>\n",
              "    </tr>\n",
              "    <tr>\n",
              "      <th>2021-09-30</th>\n",
              "      <td>1.258796</td>\n",
              "      <td>0.388243</td>\n",
              "      <td>-0.748868</td>\n",
              "      <td>-1.501119</td>\n",
              "    </tr>\n",
              "    <tr>\n",
              "      <th>2021-10-01</th>\n",
              "      <td>0.115433</td>\n",
              "      <td>0.417245</td>\n",
              "      <td>-0.289182</td>\n",
              "      <td>0.559837</td>\n",
              "    </tr>\n",
              "    <tr>\n",
              "      <th>2021-10-02</th>\n",
              "      <td>1.584692</td>\n",
              "      <td>-0.208394</td>\n",
              "      <td>-0.681593</td>\n",
              "      <td>-0.636170</td>\n",
              "    </tr>\n",
              "  </tbody>\n",
              "</table>\n",
              "</div>"
            ],
            "text/plain": [
              "                   A         B         C         D\n",
              "2021-09-27  0.157145 -0.656820 -0.392772 -0.428795\n",
              "2021-09-28  1.489694  0.320003 -0.897810 -1.051432\n",
              "2021-09-29 -0.882165  0.342783  0.372968 -2.059851\n",
              "2021-09-30  1.258796  0.388243 -0.748868 -1.501119\n",
              "2021-10-01  0.115433  0.417245 -0.289182  0.559837\n",
              "2021-10-02  1.584692 -0.208394 -0.681593 -0.636170"
            ]
          },
          "metadata": {},
          "execution_count": 27
        }
      ]
    },
    {
      "cell_type": "code",
      "metadata": {
        "id": "U5If1VEYx5sy",
        "colab": {
          "base_uri": "https://localhost:8080/",
          "height": 204
        },
        "outputId": "f554c530-b6bb-496b-c1ce-ea3e0087e857"
      },
      "source": [
        "df[df.A > 0]"
      ],
      "execution_count": null,
      "outputs": [
        {
          "output_type": "execute_result",
          "data": {
            "text/html": [
              "<div>\n",
              "<style scoped>\n",
              "    .dataframe tbody tr th:only-of-type {\n",
              "        vertical-align: middle;\n",
              "    }\n",
              "\n",
              "    .dataframe tbody tr th {\n",
              "        vertical-align: top;\n",
              "    }\n",
              "\n",
              "    .dataframe thead th {\n",
              "        text-align: right;\n",
              "    }\n",
              "</style>\n",
              "<table border=\"1\" class=\"dataframe\">\n",
              "  <thead>\n",
              "    <tr style=\"text-align: right;\">\n",
              "      <th></th>\n",
              "      <th>A</th>\n",
              "      <th>B</th>\n",
              "      <th>C</th>\n",
              "      <th>D</th>\n",
              "    </tr>\n",
              "  </thead>\n",
              "  <tbody>\n",
              "    <tr>\n",
              "      <th>2021-09-27</th>\n",
              "      <td>0.157145</td>\n",
              "      <td>-0.656820</td>\n",
              "      <td>-0.392772</td>\n",
              "      <td>-0.428795</td>\n",
              "    </tr>\n",
              "    <tr>\n",
              "      <th>2021-09-28</th>\n",
              "      <td>1.489694</td>\n",
              "      <td>0.320003</td>\n",
              "      <td>-0.897810</td>\n",
              "      <td>-1.051432</td>\n",
              "    </tr>\n",
              "    <tr>\n",
              "      <th>2021-09-30</th>\n",
              "      <td>1.258796</td>\n",
              "      <td>0.388243</td>\n",
              "      <td>-0.748868</td>\n",
              "      <td>-1.501119</td>\n",
              "    </tr>\n",
              "    <tr>\n",
              "      <th>2021-10-01</th>\n",
              "      <td>0.115433</td>\n",
              "      <td>0.417245</td>\n",
              "      <td>-0.289182</td>\n",
              "      <td>0.559837</td>\n",
              "    </tr>\n",
              "    <tr>\n",
              "      <th>2021-10-02</th>\n",
              "      <td>1.584692</td>\n",
              "      <td>-0.208394</td>\n",
              "      <td>-0.681593</td>\n",
              "      <td>-0.636170</td>\n",
              "    </tr>\n",
              "  </tbody>\n",
              "</table>\n",
              "</div>"
            ],
            "text/plain": [
              "                   A         B         C         D\n",
              "2021-09-27  0.157145 -0.656820 -0.392772 -0.428795\n",
              "2021-09-28  1.489694  0.320003 -0.897810 -1.051432\n",
              "2021-09-30  1.258796  0.388243 -0.748868 -1.501119\n",
              "2021-10-01  0.115433  0.417245 -0.289182  0.559837\n",
              "2021-10-02  1.584692 -0.208394 -0.681593 -0.636170"
            ]
          },
          "metadata": {},
          "execution_count": 28
        }
      ]
    },
    {
      "cell_type": "code",
      "metadata": {
        "id": "8WkB7Q5rx5s1",
        "colab": {
          "base_uri": "https://localhost:8080/",
          "height": 238
        },
        "outputId": "ae8ec13e-3adf-46e3-c1fa-019541735ff7"
      },
      "source": [
        "df[df > 0]"
      ],
      "execution_count": 36,
      "outputs": [
        {
          "output_type": "execute_result",
          "data": {
            "text/html": [
              "<div>\n",
              "<style scoped>\n",
              "    .dataframe tbody tr th:only-of-type {\n",
              "        vertical-align: middle;\n",
              "    }\n",
              "\n",
              "    .dataframe tbody tr th {\n",
              "        vertical-align: top;\n",
              "    }\n",
              "\n",
              "    .dataframe thead th {\n",
              "        text-align: right;\n",
              "    }\n",
              "</style>\n",
              "<table border=\"1\" class=\"dataframe\">\n",
              "  <thead>\n",
              "    <tr style=\"text-align: right;\">\n",
              "      <th></th>\n",
              "      <th>A</th>\n",
              "      <th>B</th>\n",
              "      <th>C</th>\n",
              "      <th>D</th>\n",
              "    </tr>\n",
              "  </thead>\n",
              "  <tbody>\n",
              "    <tr>\n",
              "      <th>2021-09-27</th>\n",
              "      <td>1.157590</td>\n",
              "      <td>0.691274</td>\n",
              "      <td>0.036269</td>\n",
              "      <td>0.448139</td>\n",
              "    </tr>\n",
              "    <tr>\n",
              "      <th>2021-09-28</th>\n",
              "      <td>NaN</td>\n",
              "      <td>0.455890</td>\n",
              "      <td>1.404193</td>\n",
              "      <td>0.544384</td>\n",
              "    </tr>\n",
              "    <tr>\n",
              "      <th>2021-09-29</th>\n",
              "      <td>0.204433</td>\n",
              "      <td>NaN</td>\n",
              "      <td>NaN</td>\n",
              "      <td>0.874862</td>\n",
              "    </tr>\n",
              "    <tr>\n",
              "      <th>2021-09-30</th>\n",
              "      <td>NaN</td>\n",
              "      <td>0.700124</td>\n",
              "      <td>NaN</td>\n",
              "      <td>NaN</td>\n",
              "    </tr>\n",
              "    <tr>\n",
              "      <th>2021-10-01</th>\n",
              "      <td>1.359470</td>\n",
              "      <td>1.763408</td>\n",
              "      <td>NaN</td>\n",
              "      <td>1.455381</td>\n",
              "    </tr>\n",
              "    <tr>\n",
              "      <th>2021-10-02</th>\n",
              "      <td>NaN</td>\n",
              "      <td>NaN</td>\n",
              "      <td>0.103891</td>\n",
              "      <td>0.560830</td>\n",
              "    </tr>\n",
              "  </tbody>\n",
              "</table>\n",
              "</div>"
            ],
            "text/plain": [
              "                   A         B         C         D\n",
              "2021-09-27  1.157590  0.691274  0.036269  0.448139\n",
              "2021-09-28       NaN  0.455890  1.404193  0.544384\n",
              "2021-09-29  0.204433       NaN       NaN  0.874862\n",
              "2021-09-30       NaN  0.700124       NaN       NaN\n",
              "2021-10-01  1.359470  1.763408       NaN  1.455381\n",
              "2021-10-02       NaN       NaN  0.103891  0.560830"
            ]
          },
          "metadata": {},
          "execution_count": 36
        }
      ]
    },
    {
      "cell_type": "code",
      "metadata": {
        "id": "3SgxeatQ8pP0"
      },
      "source": [
        ""
      ],
      "execution_count": null,
      "outputs": []
    }
  ]
}