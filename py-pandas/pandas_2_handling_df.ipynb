{
  "nbformat": 4,
  "nbformat_minor": 0,
  "metadata": {
    "kernelspec": {
      "name": "python3",
      "display_name": "Python 3"
    },
    "language_info": {
      "codemirror_mode": {
        "name": "ipython",
        "version": 3
      },
      "file_extension": ".py",
      "mimetype": "text/x-python",
      "name": "python",
      "nbconvert_exporter": "python",
      "pygments_lexer": "ipython3",
      "version": "3.6.6"
    },
    "colab": {
      "name": "pandas_2_handling_df.ipynb",
      "provenance": [],
      "collapsed_sections": [],
      "include_colab_link": true
    }
  },
  "cells": [
    {
      "cell_type": "markdown",
      "metadata": {
        "id": "view-in-github",
        "colab_type": "text"
      },
      "source": [
        "<a href=\"https://colab.research.google.com/github/dayeong918/pdm011/blob/main/py-pandas/pandas_2_handling_df.ipynb\" target=\"_parent\"><img src=\"https://colab.research.google.com/assets/colab-badge.svg\" alt=\"Open In Colab\"/></a>"
      ]
    },
    {
      "cell_type": "markdown",
      "metadata": {
        "id": "-a_Ksvwdx5pf"
      },
      "source": [
        "### Python module 3. **pandas**"
      ]
    },
    {
      "cell_type": "markdown",
      "metadata": {
        "id": "P_F0RSPKx5pl"
      },
      "source": [
        "# Using pandas"
      ]
    },
    {
      "cell_type": "markdown",
      "metadata": {
        "id": "FfxMgWUFx5pm"
      },
      "source": [
        "* [10 Minutes to pandas](https://pandas.pydata.org/pandas-docs/stable/10min.html)\n",
        "* [Pandas tutorial with interactive exercises](https://www.kaggle.com/pistak/pandas-tutorial-with-interactive-exercises)"
      ]
    },
    {
      "cell_type": "code",
      "metadata": {
        "id": "2mpGSeRlx5po"
      },
      "source": [
        "import pandas as pd\n",
        "import numpy as np\n",
        "import matplotlib.pyplot as plt\n",
        "# %matplotlib inline  # work for Jupyter notebook or lab"
      ],
      "execution_count": 2,
      "outputs": []
    },
    {
      "cell_type": "markdown",
      "metadata": {
        "id": "wq1nIp3F1fFB"
      },
      "source": [
        "\n",
        "\n",
        "---\n",
        "\n"
      ]
    },
    {
      "cell_type": "markdown",
      "metadata": {
        "id": "D3zoFQ4bx5qh"
      },
      "source": [
        "## [2] Handling DataFrame\n",
        "- head()\n",
        "- tail()\n",
        "- describe()\n",
        "- info()"
      ]
    },
    {
      "cell_type": "code",
      "metadata": {
        "id": "w2eNkCfLx5p-",
        "colab": {
          "base_uri": "https://localhost:8080/"
        },
        "outputId": "183dc577-13bd-4b16-d680-32a443f75399"
      },
      "source": [
        "# Creating a DataFrame by passing a NumPy array, with a datetime index and labeled columns:\n",
        "dates = pd.date_range('20210927', periods=6)\n",
        "dates"
      ],
      "execution_count": 3,
      "outputs": [
        {
          "output_type": "execute_result",
          "data": {
            "text/plain": [
              "DatetimeIndex(['2021-09-27', '2021-09-28', '2021-09-29', '2021-09-30',\n",
              "               '2021-10-01', '2021-10-02'],\n",
              "              dtype='datetime64[ns]', freq='D')"
            ]
          },
          "metadata": {},
          "execution_count": 3
        }
      ]
    },
    {
      "cell_type": "code",
      "metadata": {
        "id": "dHwUodTGx5qj",
        "colab": {
          "base_uri": "https://localhost:8080/",
          "height": 204
        },
        "outputId": "878cf054-11a5-486f-d93b-54353fc7ed56"
      },
      "source": [
        "# head()\n",
        "df = pd.DataFrame(np.random.randn(6,4), index=dates, columns=list('ABCD'))\n",
        "df.head()"
      ],
      "execution_count": 4,
      "outputs": [
        {
          "output_type": "execute_result",
          "data": {
            "text/html": [
              "<div>\n",
              "<style scoped>\n",
              "    .dataframe tbody tr th:only-of-type {\n",
              "        vertical-align: middle;\n",
              "    }\n",
              "\n",
              "    .dataframe tbody tr th {\n",
              "        vertical-align: top;\n",
              "    }\n",
              "\n",
              "    .dataframe thead th {\n",
              "        text-align: right;\n",
              "    }\n",
              "</style>\n",
              "<table border=\"1\" class=\"dataframe\">\n",
              "  <thead>\n",
              "    <tr style=\"text-align: right;\">\n",
              "      <th></th>\n",
              "      <th>A</th>\n",
              "      <th>B</th>\n",
              "      <th>C</th>\n",
              "      <th>D</th>\n",
              "    </tr>\n",
              "  </thead>\n",
              "  <tbody>\n",
              "    <tr>\n",
              "      <th>2021-09-27</th>\n",
              "      <td>0.157145</td>\n",
              "      <td>-0.656820</td>\n",
              "      <td>-0.392772</td>\n",
              "      <td>-0.428795</td>\n",
              "    </tr>\n",
              "    <tr>\n",
              "      <th>2021-09-28</th>\n",
              "      <td>1.489694</td>\n",
              "      <td>0.320003</td>\n",
              "      <td>-0.897810</td>\n",
              "      <td>-1.051432</td>\n",
              "    </tr>\n",
              "    <tr>\n",
              "      <th>2021-09-29</th>\n",
              "      <td>-0.882165</td>\n",
              "      <td>0.342783</td>\n",
              "      <td>0.372968</td>\n",
              "      <td>-2.059851</td>\n",
              "    </tr>\n",
              "    <tr>\n",
              "      <th>2021-09-30</th>\n",
              "      <td>1.258796</td>\n",
              "      <td>0.388243</td>\n",
              "      <td>-0.748868</td>\n",
              "      <td>-1.501119</td>\n",
              "    </tr>\n",
              "    <tr>\n",
              "      <th>2021-10-01</th>\n",
              "      <td>0.115433</td>\n",
              "      <td>0.417245</td>\n",
              "      <td>-0.289182</td>\n",
              "      <td>0.559837</td>\n",
              "    </tr>\n",
              "  </tbody>\n",
              "</table>\n",
              "</div>"
            ],
            "text/plain": [
              "                   A         B         C         D\n",
              "2021-09-27  0.157145 -0.656820 -0.392772 -0.428795\n",
              "2021-09-28  1.489694  0.320003 -0.897810 -1.051432\n",
              "2021-09-29 -0.882165  0.342783  0.372968 -2.059851\n",
              "2021-09-30  1.258796  0.388243 -0.748868 -1.501119\n",
              "2021-10-01  0.115433  0.417245 -0.289182  0.559837"
            ]
          },
          "metadata": {},
          "execution_count": 4
        }
      ]
    },
    {
      "cell_type": "code",
      "metadata": {
        "id": "OvYDoBVE1og9",
        "colab": {
          "base_uri": "https://localhost:8080/",
          "height": 111
        },
        "outputId": "aeed1b67-b562-4c25-93dd-9b11f9aaf813"
      },
      "source": [
        "df.head(2)"
      ],
      "execution_count": 5,
      "outputs": [
        {
          "output_type": "execute_result",
          "data": {
            "text/html": [
              "<div>\n",
              "<style scoped>\n",
              "    .dataframe tbody tr th:only-of-type {\n",
              "        vertical-align: middle;\n",
              "    }\n",
              "\n",
              "    .dataframe tbody tr th {\n",
              "        vertical-align: top;\n",
              "    }\n",
              "\n",
              "    .dataframe thead th {\n",
              "        text-align: right;\n",
              "    }\n",
              "</style>\n",
              "<table border=\"1\" class=\"dataframe\">\n",
              "  <thead>\n",
              "    <tr style=\"text-align: right;\">\n",
              "      <th></th>\n",
              "      <th>A</th>\n",
              "      <th>B</th>\n",
              "      <th>C</th>\n",
              "      <th>D</th>\n",
              "    </tr>\n",
              "  </thead>\n",
              "  <tbody>\n",
              "    <tr>\n",
              "      <th>2021-09-27</th>\n",
              "      <td>0.157145</td>\n",
              "      <td>-0.656820</td>\n",
              "      <td>-0.392772</td>\n",
              "      <td>-0.428795</td>\n",
              "    </tr>\n",
              "    <tr>\n",
              "      <th>2021-09-28</th>\n",
              "      <td>1.489694</td>\n",
              "      <td>0.320003</td>\n",
              "      <td>-0.897810</td>\n",
              "      <td>-1.051432</td>\n",
              "    </tr>\n",
              "  </tbody>\n",
              "</table>\n",
              "</div>"
            ],
            "text/plain": [
              "                   A         B         C         D\n",
              "2021-09-27  0.157145 -0.656820 -0.392772 -0.428795\n",
              "2021-09-28  1.489694  0.320003 -0.897810 -1.051432"
            ]
          },
          "metadata": {},
          "execution_count": 5
        }
      ]
    },
    {
      "cell_type": "code",
      "metadata": {
        "id": "LzWwuDWDx5qo",
        "colab": {
          "base_uri": "https://localhost:8080/",
          "height": 142
        },
        "outputId": "8d12e51c-dfbe-42eb-d779-7b667cb89329"
      },
      "source": [
        "df.tail(3)"
      ],
      "execution_count": 6,
      "outputs": [
        {
          "output_type": "execute_result",
          "data": {
            "text/html": [
              "<div>\n",
              "<style scoped>\n",
              "    .dataframe tbody tr th:only-of-type {\n",
              "        vertical-align: middle;\n",
              "    }\n",
              "\n",
              "    .dataframe tbody tr th {\n",
              "        vertical-align: top;\n",
              "    }\n",
              "\n",
              "    .dataframe thead th {\n",
              "        text-align: right;\n",
              "    }\n",
              "</style>\n",
              "<table border=\"1\" class=\"dataframe\">\n",
              "  <thead>\n",
              "    <tr style=\"text-align: right;\">\n",
              "      <th></th>\n",
              "      <th>A</th>\n",
              "      <th>B</th>\n",
              "      <th>C</th>\n",
              "      <th>D</th>\n",
              "    </tr>\n",
              "  </thead>\n",
              "  <tbody>\n",
              "    <tr>\n",
              "      <th>2021-09-30</th>\n",
              "      <td>1.258796</td>\n",
              "      <td>0.388243</td>\n",
              "      <td>-0.748868</td>\n",
              "      <td>-1.501119</td>\n",
              "    </tr>\n",
              "    <tr>\n",
              "      <th>2021-10-01</th>\n",
              "      <td>0.115433</td>\n",
              "      <td>0.417245</td>\n",
              "      <td>-0.289182</td>\n",
              "      <td>0.559837</td>\n",
              "    </tr>\n",
              "    <tr>\n",
              "      <th>2021-10-02</th>\n",
              "      <td>1.584692</td>\n",
              "      <td>-0.208394</td>\n",
              "      <td>-0.681593</td>\n",
              "      <td>-0.636170</td>\n",
              "    </tr>\n",
              "  </tbody>\n",
              "</table>\n",
              "</div>"
            ],
            "text/plain": [
              "                   A         B         C         D\n",
              "2021-09-30  1.258796  0.388243 -0.748868 -1.501119\n",
              "2021-10-01  0.115433  0.417245 -0.289182  0.559837\n",
              "2021-10-02  1.584692 -0.208394 -0.681593 -0.636170"
            ]
          },
          "metadata": {},
          "execution_count": 6
        }
      ]
    },
    {
      "cell_type": "code",
      "metadata": {
        "id": "rJLH024Zx5qs",
        "colab": {
          "base_uri": "https://localhost:8080/"
        },
        "outputId": "52a17e2d-742c-455e-e6b3-23e889f7a523"
      },
      "source": [
        "# Display the index, columns, and the underlying NumPy data:\n",
        "df.index"
      ],
      "execution_count": 7,
      "outputs": [
        {
          "output_type": "execute_result",
          "data": {
            "text/plain": [
              "DatetimeIndex(['2021-09-27', '2021-09-28', '2021-09-29', '2021-09-30',\n",
              "               '2021-10-01', '2021-10-02'],\n",
              "              dtype='datetime64[ns]', freq='D')"
            ]
          },
          "metadata": {},
          "execution_count": 7
        }
      ]
    },
    {
      "cell_type": "code",
      "metadata": {
        "id": "edrGpQlLc0dt",
        "colab": {
          "base_uri": "https://localhost:8080/"
        },
        "outputId": "8640ba3b-8a1c-402b-919d-4511f5cd41cf"
      },
      "source": [
        "df.columns"
      ],
      "execution_count": 8,
      "outputs": [
        {
          "output_type": "execute_result",
          "data": {
            "text/plain": [
              "Index(['A', 'B', 'C', 'D'], dtype='object')"
            ]
          },
          "metadata": {},
          "execution_count": 8
        }
      ]
    },
    {
      "cell_type": "code",
      "metadata": {
        "id": "TB-CHW85x5rA",
        "colab": {
          "base_uri": "https://localhost:8080/"
        },
        "outputId": "c2abea57-3af9-45dc-eba3-42d826e41a71"
      },
      "source": [
        "df.info()"
      ],
      "execution_count": 9,
      "outputs": [
        {
          "output_type": "stream",
          "name": "stdout",
          "text": [
            "<class 'pandas.core.frame.DataFrame'>\n",
            "DatetimeIndex: 6 entries, 2021-09-27 to 2021-10-02\n",
            "Freq: D\n",
            "Data columns (total 4 columns):\n",
            " #   Column  Non-Null Count  Dtype  \n",
            "---  ------  --------------  -----  \n",
            " 0   A       6 non-null      float64\n",
            " 1   B       6 non-null      float64\n",
            " 2   C       6 non-null      float64\n",
            " 3   D       6 non-null      float64\n",
            "dtypes: float64(4)\n",
            "memory usage: 240.0 bytes\n"
          ]
        }
      ]
    },
    {
      "cell_type": "code",
      "metadata": {
        "id": "PEzVmjUAx5q7",
        "colab": {
          "base_uri": "https://localhost:8080/",
          "height": 297
        },
        "outputId": "55958aa6-e7e2-4836-debf-88b5275ba89a"
      },
      "source": [
        "# describe() shows a quick statistic summary of your data:\n",
        "df.describe()"
      ],
      "execution_count": 10,
      "outputs": [
        {
          "output_type": "execute_result",
          "data": {
            "text/html": [
              "<div>\n",
              "<style scoped>\n",
              "    .dataframe tbody tr th:only-of-type {\n",
              "        vertical-align: middle;\n",
              "    }\n",
              "\n",
              "    .dataframe tbody tr th {\n",
              "        vertical-align: top;\n",
              "    }\n",
              "\n",
              "    .dataframe thead th {\n",
              "        text-align: right;\n",
              "    }\n",
              "</style>\n",
              "<table border=\"1\" class=\"dataframe\">\n",
              "  <thead>\n",
              "    <tr style=\"text-align: right;\">\n",
              "      <th></th>\n",
              "      <th>A</th>\n",
              "      <th>B</th>\n",
              "      <th>C</th>\n",
              "      <th>D</th>\n",
              "    </tr>\n",
              "  </thead>\n",
              "  <tbody>\n",
              "    <tr>\n",
              "      <th>count</th>\n",
              "      <td>6.000000</td>\n",
              "      <td>6.000000</td>\n",
              "      <td>6.000000</td>\n",
              "      <td>6.000000</td>\n",
              "    </tr>\n",
              "    <tr>\n",
              "      <th>mean</th>\n",
              "      <td>0.620599</td>\n",
              "      <td>0.100510</td>\n",
              "      <td>-0.439543</td>\n",
              "      <td>-0.852922</td>\n",
              "    </tr>\n",
              "    <tr>\n",
              "      <th>std</th>\n",
              "      <td>0.981874</td>\n",
              "      <td>0.437939</td>\n",
              "      <td>0.458094</td>\n",
              "      <td>0.909835</td>\n",
              "    </tr>\n",
              "    <tr>\n",
              "      <th>min</th>\n",
              "      <td>-0.882165</td>\n",
              "      <td>-0.656820</td>\n",
              "      <td>-0.897810</td>\n",
              "      <td>-2.059851</td>\n",
              "    </tr>\n",
              "    <tr>\n",
              "      <th>25%</th>\n",
              "      <td>0.125861</td>\n",
              "      <td>-0.076295</td>\n",
              "      <td>-0.732049</td>\n",
              "      <td>-1.388697</td>\n",
              "    </tr>\n",
              "    <tr>\n",
              "      <th>50%</th>\n",
              "      <td>0.707970</td>\n",
              "      <td>0.331393</td>\n",
              "      <td>-0.537183</td>\n",
              "      <td>-0.843801</td>\n",
              "    </tr>\n",
              "    <tr>\n",
              "      <th>75%</th>\n",
              "      <td>1.431970</td>\n",
              "      <td>0.376878</td>\n",
              "      <td>-0.315080</td>\n",
              "      <td>-0.480639</td>\n",
              "    </tr>\n",
              "    <tr>\n",
              "      <th>max</th>\n",
              "      <td>1.584692</td>\n",
              "      <td>0.417245</td>\n",
              "      <td>0.372968</td>\n",
              "      <td>0.559837</td>\n",
              "    </tr>\n",
              "  </tbody>\n",
              "</table>\n",
              "</div>"
            ],
            "text/plain": [
              "              A         B         C         D\n",
              "count  6.000000  6.000000  6.000000  6.000000\n",
              "mean   0.620599  0.100510 -0.439543 -0.852922\n",
              "std    0.981874  0.437939  0.458094  0.909835\n",
              "min   -0.882165 -0.656820 -0.897810 -2.059851\n",
              "25%    0.125861 -0.076295 -0.732049 -1.388697\n",
              "50%    0.707970  0.331393 -0.537183 -0.843801\n",
              "75%    1.431970  0.376878 -0.315080 -0.480639\n",
              "max    1.584692  0.417245  0.372968  0.559837"
            ]
          },
          "metadata": {},
          "execution_count": 10
        }
      ]
    },
    {
      "cell_type": "code",
      "metadata": {
        "id": "ExhpF6H8dDKo",
        "colab": {
          "base_uri": "https://localhost:8080/",
          "height": 173
        },
        "outputId": "df2c888c-8a37-4843-e4a7-7e88cc7128fa"
      },
      "source": [
        "df.describe().T"
      ],
      "execution_count": 11,
      "outputs": [
        {
          "output_type": "execute_result",
          "data": {
            "text/html": [
              "<div>\n",
              "<style scoped>\n",
              "    .dataframe tbody tr th:only-of-type {\n",
              "        vertical-align: middle;\n",
              "    }\n",
              "\n",
              "    .dataframe tbody tr th {\n",
              "        vertical-align: top;\n",
              "    }\n",
              "\n",
              "    .dataframe thead th {\n",
              "        text-align: right;\n",
              "    }\n",
              "</style>\n",
              "<table border=\"1\" class=\"dataframe\">\n",
              "  <thead>\n",
              "    <tr style=\"text-align: right;\">\n",
              "      <th></th>\n",
              "      <th>count</th>\n",
              "      <th>mean</th>\n",
              "      <th>std</th>\n",
              "      <th>min</th>\n",
              "      <th>25%</th>\n",
              "      <th>50%</th>\n",
              "      <th>75%</th>\n",
              "      <th>max</th>\n",
              "    </tr>\n",
              "  </thead>\n",
              "  <tbody>\n",
              "    <tr>\n",
              "      <th>A</th>\n",
              "      <td>6.0</td>\n",
              "      <td>0.620599</td>\n",
              "      <td>0.981874</td>\n",
              "      <td>-0.882165</td>\n",
              "      <td>0.125861</td>\n",
              "      <td>0.707970</td>\n",
              "      <td>1.431970</td>\n",
              "      <td>1.584692</td>\n",
              "    </tr>\n",
              "    <tr>\n",
              "      <th>B</th>\n",
              "      <td>6.0</td>\n",
              "      <td>0.100510</td>\n",
              "      <td>0.437939</td>\n",
              "      <td>-0.656820</td>\n",
              "      <td>-0.076295</td>\n",
              "      <td>0.331393</td>\n",
              "      <td>0.376878</td>\n",
              "      <td>0.417245</td>\n",
              "    </tr>\n",
              "    <tr>\n",
              "      <th>C</th>\n",
              "      <td>6.0</td>\n",
              "      <td>-0.439543</td>\n",
              "      <td>0.458094</td>\n",
              "      <td>-0.897810</td>\n",
              "      <td>-0.732049</td>\n",
              "      <td>-0.537183</td>\n",
              "      <td>-0.315080</td>\n",
              "      <td>0.372968</td>\n",
              "    </tr>\n",
              "    <tr>\n",
              "      <th>D</th>\n",
              "      <td>6.0</td>\n",
              "      <td>-0.852922</td>\n",
              "      <td>0.909835</td>\n",
              "      <td>-2.059851</td>\n",
              "      <td>-1.388697</td>\n",
              "      <td>-0.843801</td>\n",
              "      <td>-0.480639</td>\n",
              "      <td>0.559837</td>\n",
              "    </tr>\n",
              "  </tbody>\n",
              "</table>\n",
              "</div>"
            ],
            "text/plain": [
              "   count      mean       std       min       25%       50%       75%       max\n",
              "A    6.0  0.620599  0.981874 -0.882165  0.125861  0.707970  1.431970  1.584692\n",
              "B    6.0  0.100510  0.437939 -0.656820 -0.076295  0.331393  0.376878  0.417245\n",
              "C    6.0 -0.439543  0.458094 -0.897810 -0.732049 -0.537183 -0.315080  0.372968\n",
              "D    6.0 -0.852922  0.909835 -2.059851 -1.388697 -0.843801 -0.480639  0.559837"
            ]
          },
          "metadata": {},
          "execution_count": 11
        }
      ]
    },
    {
      "cell_type": "code",
      "metadata": {
        "id": "Br9VwFVex5rE",
        "colab": {
          "base_uri": "https://localhost:8080/",
          "height": 173
        },
        "outputId": "ac1d1a1c-d1e6-4239-d792-0cf21579c1bc"
      },
      "source": [
        "# Transposing your dataframe:\n",
        "df.T"
      ],
      "execution_count": 12,
      "outputs": [
        {
          "output_type": "execute_result",
          "data": {
            "text/html": [
              "<div>\n",
              "<style scoped>\n",
              "    .dataframe tbody tr th:only-of-type {\n",
              "        vertical-align: middle;\n",
              "    }\n",
              "\n",
              "    .dataframe tbody tr th {\n",
              "        vertical-align: top;\n",
              "    }\n",
              "\n",
              "    .dataframe thead th {\n",
              "        text-align: right;\n",
              "    }\n",
              "</style>\n",
              "<table border=\"1\" class=\"dataframe\">\n",
              "  <thead>\n",
              "    <tr style=\"text-align: right;\">\n",
              "      <th></th>\n",
              "      <th>2021-09-27</th>\n",
              "      <th>2021-09-28</th>\n",
              "      <th>2021-09-29</th>\n",
              "      <th>2021-09-30</th>\n",
              "      <th>2021-10-01</th>\n",
              "      <th>2021-10-02</th>\n",
              "    </tr>\n",
              "  </thead>\n",
              "  <tbody>\n",
              "    <tr>\n",
              "      <th>A</th>\n",
              "      <td>0.157145</td>\n",
              "      <td>1.489694</td>\n",
              "      <td>-0.882165</td>\n",
              "      <td>1.258796</td>\n",
              "      <td>0.115433</td>\n",
              "      <td>1.584692</td>\n",
              "    </tr>\n",
              "    <tr>\n",
              "      <th>B</th>\n",
              "      <td>-0.656820</td>\n",
              "      <td>0.320003</td>\n",
              "      <td>0.342783</td>\n",
              "      <td>0.388243</td>\n",
              "      <td>0.417245</td>\n",
              "      <td>-0.208394</td>\n",
              "    </tr>\n",
              "    <tr>\n",
              "      <th>C</th>\n",
              "      <td>-0.392772</td>\n",
              "      <td>-0.897810</td>\n",
              "      <td>0.372968</td>\n",
              "      <td>-0.748868</td>\n",
              "      <td>-0.289182</td>\n",
              "      <td>-0.681593</td>\n",
              "    </tr>\n",
              "    <tr>\n",
              "      <th>D</th>\n",
              "      <td>-0.428795</td>\n",
              "      <td>-1.051432</td>\n",
              "      <td>-2.059851</td>\n",
              "      <td>-1.501119</td>\n",
              "      <td>0.559837</td>\n",
              "      <td>-0.636170</td>\n",
              "    </tr>\n",
              "  </tbody>\n",
              "</table>\n",
              "</div>"
            ],
            "text/plain": [
              "   2021-09-27  2021-09-28  2021-09-29  2021-09-30  2021-10-01  2021-10-02\n",
              "A    0.157145    1.489694   -0.882165    1.258796    0.115433    1.584692\n",
              "B   -0.656820    0.320003    0.342783    0.388243    0.417245   -0.208394\n",
              "C   -0.392772   -0.897810    0.372968   -0.748868   -0.289182   -0.681593\n",
              "D   -0.428795   -1.051432   -2.059851   -1.501119    0.559837   -0.636170"
            ]
          },
          "metadata": {},
          "execution_count": 12
        }
      ]
    },
    {
      "cell_type": "code",
      "metadata": {
        "id": "vkg1gQUVLoy9",
        "colab": {
          "base_uri": "https://localhost:8080/"
        },
        "outputId": "65600fbf-4529-415a-e591-2ba3f16dd77e"
      },
      "source": [
        "df.T.index"
      ],
      "execution_count": 13,
      "outputs": [
        {
          "output_type": "execute_result",
          "data": {
            "text/plain": [
              "Index(['A', 'B', 'C', 'D'], dtype='object')"
            ]
          },
          "metadata": {},
          "execution_count": 13
        }
      ]
    },
    {
      "cell_type": "markdown",
      "metadata": {
        "id": "A4lHGd4px5rU"
      },
      "source": [
        "### Sorting"
      ]
    },
    {
      "cell_type": "markdown",
      "metadata": {
        "id": "jlXuIbzD6oUD"
      },
      "source": [
        "#### Sort by index\n",
        "- sort_index(axis=0, ascending=False)\n",
        "- sort_index(axis=1, ascending=False)\n",
        "\n",
        "> Axis=0 Column-Wise Operation (수직으로)\n",
        "\n",
        "> Axis=1 Row-Wise Operation (수평으로)"
      ]
    },
    {
      "cell_type": "code",
      "metadata": {
        "id": "RM9Rlk64x5rW",
        "colab": {
          "base_uri": "https://localhost:8080/"
        },
        "outputId": "61c26ce3-da74-42af-9938-c96265187a13"
      },
      "source": [
        "# Sorting by an axis:\n",
        "df, df.sort_index(axis=0) #, ascending=False)"
      ],
      "execution_count": 14,
      "outputs": [
        {
          "output_type": "execute_result",
          "data": {
            "text/plain": [
              "(                   A         B         C         D\n",
              " 2021-09-27  0.157145 -0.656820 -0.392772 -0.428795\n",
              " 2021-09-28  1.489694  0.320003 -0.897810 -1.051432\n",
              " 2021-09-29 -0.882165  0.342783  0.372968 -2.059851\n",
              " 2021-09-30  1.258796  0.388243 -0.748868 -1.501119\n",
              " 2021-10-01  0.115433  0.417245 -0.289182  0.559837\n",
              " 2021-10-02  1.584692 -0.208394 -0.681593 -0.636170,\n",
              "                    A         B         C         D\n",
              " 2021-09-27  0.157145 -0.656820 -0.392772 -0.428795\n",
              " 2021-09-28  1.489694  0.320003 -0.897810 -1.051432\n",
              " 2021-09-29 -0.882165  0.342783  0.372968 -2.059851\n",
              " 2021-09-30  1.258796  0.388243 -0.748868 -1.501119\n",
              " 2021-10-01  0.115433  0.417245 -0.289182  0.559837\n",
              " 2021-10-02  1.584692 -0.208394 -0.681593 -0.636170)"
            ]
          },
          "metadata": {},
          "execution_count": 14
        }
      ]
    },
    {
      "cell_type": "code",
      "metadata": {
        "id": "w_7d__Hsx5rb",
        "colab": {
          "base_uri": "https://localhost:8080/"
        },
        "outputId": "77df6a01-7e55-4ded-e66d-7e6b57e84128"
      },
      "source": [
        "df,df.sort_index(axis=1, ascending=False)"
      ],
      "execution_count": 15,
      "outputs": [
        {
          "output_type": "execute_result",
          "data": {
            "text/plain": [
              "(                   A         B         C         D\n",
              " 2021-09-27  0.157145 -0.656820 -0.392772 -0.428795\n",
              " 2021-09-28  1.489694  0.320003 -0.897810 -1.051432\n",
              " 2021-09-29 -0.882165  0.342783  0.372968 -2.059851\n",
              " 2021-09-30  1.258796  0.388243 -0.748868 -1.501119\n",
              " 2021-10-01  0.115433  0.417245 -0.289182  0.559837\n",
              " 2021-10-02  1.584692 -0.208394 -0.681593 -0.636170,\n",
              "                    D         C         B         A\n",
              " 2021-09-27 -0.428795 -0.392772 -0.656820  0.157145\n",
              " 2021-09-28 -1.051432 -0.897810  0.320003  1.489694\n",
              " 2021-09-29 -2.059851  0.372968  0.342783 -0.882165\n",
              " 2021-09-30 -1.501119 -0.748868  0.388243  1.258796\n",
              " 2021-10-01  0.559837 -0.289182  0.417245  0.115433\n",
              " 2021-10-02 -0.636170 -0.681593 -0.208394  1.584692)"
            ]
          },
          "metadata": {},
          "execution_count": 15
        }
      ]
    },
    {
      "cell_type": "markdown",
      "metadata": {
        "id": "8J59I-KW6yNK"
      },
      "source": [
        "#### Sort by value\n",
        "- sort_values(by='column')"
      ]
    },
    {
      "cell_type": "code",
      "metadata": {
        "id": "VJw7_sTLx5rg",
        "colab": {
          "base_uri": "https://localhost:8080/"
        },
        "outputId": "4ba17e88-27bb-45aa-862b-7f907749d4b6"
      },
      "source": [
        "# Sorting by values:\n",
        "df,df.sort_values(by='B') #, ascending=False)"
      ],
      "execution_count": 16,
      "outputs": [
        {
          "output_type": "execute_result",
          "data": {
            "text/plain": [
              "(                   A         B         C         D\n",
              " 2021-09-27  0.157145 -0.656820 -0.392772 -0.428795\n",
              " 2021-09-28  1.489694  0.320003 -0.897810 -1.051432\n",
              " 2021-09-29 -0.882165  0.342783  0.372968 -2.059851\n",
              " 2021-09-30  1.258796  0.388243 -0.748868 -1.501119\n",
              " 2021-10-01  0.115433  0.417245 -0.289182  0.559837\n",
              " 2021-10-02  1.584692 -0.208394 -0.681593 -0.636170,\n",
              "                    A         B         C         D\n",
              " 2021-09-27  0.157145 -0.656820 -0.392772 -0.428795\n",
              " 2021-10-02  1.584692 -0.208394 -0.681593 -0.636170\n",
              " 2021-09-28  1.489694  0.320003 -0.897810 -1.051432\n",
              " 2021-09-29 -0.882165  0.342783  0.372968 -2.059851\n",
              " 2021-09-30  1.258796  0.388243 -0.748868 -1.501119\n",
              " 2021-10-01  0.115433  0.417245 -0.289182  0.559837)"
            ]
          },
          "metadata": {},
          "execution_count": 16
        }
      ]
    },
    {
      "cell_type": "markdown",
      "metadata": {
        "id": "rBW0-saPPGbN"
      },
      "source": [
        "## indexing and slicing of DataFrame"
      ]
    },
    {
      "cell_type": "markdown",
      "metadata": {
        "id": "oH89Wa-ix5rq"
      },
      "source": [
        "#### Selecting data by indexing and slicing\n",
        "- indexing\n",
        "- slicing\n"
      ]
    },
    {
      "cell_type": "code",
      "metadata": {
        "id": "YufIBMYzx5ru",
        "colab": {
          "base_uri": "https://localhost:8080/"
        },
        "outputId": "6918b809-708f-4459-b99d-36babdd1af4e"
      },
      "source": [
        "# Selecting a single column, which yields a Series\n",
        "df['A']"
      ],
      "execution_count": 17,
      "outputs": [
        {
          "output_type": "execute_result",
          "data": {
            "text/plain": [
              "2021-09-27    0.157145\n",
              "2021-09-28    1.489694\n",
              "2021-09-29   -0.882165\n",
              "2021-09-30    1.258796\n",
              "2021-10-01    0.115433\n",
              "2021-10-02    1.584692\n",
              "Freq: D, Name: A, dtype: float64"
            ]
          },
          "metadata": {},
          "execution_count": 17
        }
      ]
    },
    {
      "cell_type": "code",
      "metadata": {
        "id": "ijxuNMS5x5r3",
        "colab": {
          "base_uri": "https://localhost:8080/",
          "height": 142
        },
        "outputId": "f92ad65a-743c-4bec-d08b-a94dc14b712a"
      },
      "source": [
        "# Selecting via [], which slices the rows.\n",
        "df[0:3]"
      ],
      "execution_count": 18,
      "outputs": [
        {
          "output_type": "execute_result",
          "data": {
            "text/html": [
              "<div>\n",
              "<style scoped>\n",
              "    .dataframe tbody tr th:only-of-type {\n",
              "        vertical-align: middle;\n",
              "    }\n",
              "\n",
              "    .dataframe tbody tr th {\n",
              "        vertical-align: top;\n",
              "    }\n",
              "\n",
              "    .dataframe thead th {\n",
              "        text-align: right;\n",
              "    }\n",
              "</style>\n",
              "<table border=\"1\" class=\"dataframe\">\n",
              "  <thead>\n",
              "    <tr style=\"text-align: right;\">\n",
              "      <th></th>\n",
              "      <th>A</th>\n",
              "      <th>B</th>\n",
              "      <th>C</th>\n",
              "      <th>D</th>\n",
              "    </tr>\n",
              "  </thead>\n",
              "  <tbody>\n",
              "    <tr>\n",
              "      <th>2021-09-27</th>\n",
              "      <td>0.157145</td>\n",
              "      <td>-0.656820</td>\n",
              "      <td>-0.392772</td>\n",
              "      <td>-0.428795</td>\n",
              "    </tr>\n",
              "    <tr>\n",
              "      <th>2021-09-28</th>\n",
              "      <td>1.489694</td>\n",
              "      <td>0.320003</td>\n",
              "      <td>-0.897810</td>\n",
              "      <td>-1.051432</td>\n",
              "    </tr>\n",
              "    <tr>\n",
              "      <th>2021-09-29</th>\n",
              "      <td>-0.882165</td>\n",
              "      <td>0.342783</td>\n",
              "      <td>0.372968</td>\n",
              "      <td>-2.059851</td>\n",
              "    </tr>\n",
              "  </tbody>\n",
              "</table>\n",
              "</div>"
            ],
            "text/plain": [
              "                   A         B         C         D\n",
              "2021-09-27  0.157145 -0.656820 -0.392772 -0.428795\n",
              "2021-09-28  1.489694  0.320003 -0.897810 -1.051432\n",
              "2021-09-29 -0.882165  0.342783  0.372968 -2.059851"
            ]
          },
          "metadata": {},
          "execution_count": 18
        }
      ]
    },
    {
      "cell_type": "code",
      "metadata": {
        "id": "T8XP7m9nx5r9",
        "colab": {
          "base_uri": "https://localhost:8080/",
          "height": 49
        },
        "outputId": "def52a73-1ffa-4226-85b6-e0453a5b52ed"
      },
      "source": [
        "df['20200927':'20201001'] # 인덱스가 아닌 값인 경우는 지정된 범위가 다 선택된다."
      ],
      "execution_count": 19,
      "outputs": [
        {
          "output_type": "execute_result",
          "data": {
            "text/html": [
              "<div>\n",
              "<style scoped>\n",
              "    .dataframe tbody tr th:only-of-type {\n",
              "        vertical-align: middle;\n",
              "    }\n",
              "\n",
              "    .dataframe tbody tr th {\n",
              "        vertical-align: top;\n",
              "    }\n",
              "\n",
              "    .dataframe thead th {\n",
              "        text-align: right;\n",
              "    }\n",
              "</style>\n",
              "<table border=\"1\" class=\"dataframe\">\n",
              "  <thead>\n",
              "    <tr style=\"text-align: right;\">\n",
              "      <th></th>\n",
              "      <th>A</th>\n",
              "      <th>B</th>\n",
              "      <th>C</th>\n",
              "      <th>D</th>\n",
              "    </tr>\n",
              "  </thead>\n",
              "  <tbody>\n",
              "  </tbody>\n",
              "</table>\n",
              "</div>"
            ],
            "text/plain": [
              "Empty DataFrame\n",
              "Columns: [A, B, C, D]\n",
              "Index: []"
            ]
          },
          "metadata": {},
          "execution_count": 19
        }
      ]
    },
    {
      "cell_type": "markdown",
      "metadata": {
        "id": "E7-V96t9x5sB"
      },
      "source": [
        "#### Selecting data by label [중요!!]\n",
        "\n",
        "> **loc, iloc**\n"
      ]
    },
    {
      "cell_type": "code",
      "metadata": {
        "id": "TV4dnwU-x5sC",
        "colab": {
          "base_uri": "https://localhost:8080/",
          "height": 235
        },
        "outputId": "21db4821-b36e-44bf-bf40-35bfcca3d428"
      },
      "source": [
        "df"
      ],
      "execution_count": 20,
      "outputs": [
        {
          "output_type": "execute_result",
          "data": {
            "text/html": [
              "<div>\n",
              "<style scoped>\n",
              "    .dataframe tbody tr th:only-of-type {\n",
              "        vertical-align: middle;\n",
              "    }\n",
              "\n",
              "    .dataframe tbody tr th {\n",
              "        vertical-align: top;\n",
              "    }\n",
              "\n",
              "    .dataframe thead th {\n",
              "        text-align: right;\n",
              "    }\n",
              "</style>\n",
              "<table border=\"1\" class=\"dataframe\">\n",
              "  <thead>\n",
              "    <tr style=\"text-align: right;\">\n",
              "      <th></th>\n",
              "      <th>A</th>\n",
              "      <th>B</th>\n",
              "      <th>C</th>\n",
              "      <th>D</th>\n",
              "    </tr>\n",
              "  </thead>\n",
              "  <tbody>\n",
              "    <tr>\n",
              "      <th>2021-09-27</th>\n",
              "      <td>0.157145</td>\n",
              "      <td>-0.656820</td>\n",
              "      <td>-0.392772</td>\n",
              "      <td>-0.428795</td>\n",
              "    </tr>\n",
              "    <tr>\n",
              "      <th>2021-09-28</th>\n",
              "      <td>1.489694</td>\n",
              "      <td>0.320003</td>\n",
              "      <td>-0.897810</td>\n",
              "      <td>-1.051432</td>\n",
              "    </tr>\n",
              "    <tr>\n",
              "      <th>2021-09-29</th>\n",
              "      <td>-0.882165</td>\n",
              "      <td>0.342783</td>\n",
              "      <td>0.372968</td>\n",
              "      <td>-2.059851</td>\n",
              "    </tr>\n",
              "    <tr>\n",
              "      <th>2021-09-30</th>\n",
              "      <td>1.258796</td>\n",
              "      <td>0.388243</td>\n",
              "      <td>-0.748868</td>\n",
              "      <td>-1.501119</td>\n",
              "    </tr>\n",
              "    <tr>\n",
              "      <th>2021-10-01</th>\n",
              "      <td>0.115433</td>\n",
              "      <td>0.417245</td>\n",
              "      <td>-0.289182</td>\n",
              "      <td>0.559837</td>\n",
              "    </tr>\n",
              "    <tr>\n",
              "      <th>2021-10-02</th>\n",
              "      <td>1.584692</td>\n",
              "      <td>-0.208394</td>\n",
              "      <td>-0.681593</td>\n",
              "      <td>-0.636170</td>\n",
              "    </tr>\n",
              "  </tbody>\n",
              "</table>\n",
              "</div>"
            ],
            "text/plain": [
              "                   A         B         C         D\n",
              "2021-09-27  0.157145 -0.656820 -0.392772 -0.428795\n",
              "2021-09-28  1.489694  0.320003 -0.897810 -1.051432\n",
              "2021-09-29 -0.882165  0.342783  0.372968 -2.059851\n",
              "2021-09-30  1.258796  0.388243 -0.748868 -1.501119\n",
              "2021-10-01  0.115433  0.417245 -0.289182  0.559837\n",
              "2021-10-02  1.584692 -0.208394 -0.681593 -0.636170"
            ]
          },
          "metadata": {},
          "execution_count": 20
        }
      ]
    },
    {
      "cell_type": "code",
      "metadata": {
        "id": "iPZE3U5cx5sG",
        "colab": {
          "base_uri": "https://localhost:8080/"
        },
        "outputId": "238875c3-14c2-4cbc-ae67-559f415c04e3"
      },
      "source": [
        "df.loc[dates[0]]   # loc()"
      ],
      "execution_count": 21,
      "outputs": [
        {
          "output_type": "execute_result",
          "data": {
            "text/plain": [
              "A    0.157145\n",
              "B   -0.656820\n",
              "C   -0.392772\n",
              "D   -0.428795\n",
              "Name: 2021-09-27 00:00:00, dtype: float64"
            ]
          },
          "metadata": {},
          "execution_count": 21
        }
      ]
    },
    {
      "cell_type": "code",
      "metadata": {
        "id": "jteYZDQnx5sL",
        "colab": {
          "base_uri": "https://localhost:8080/",
          "height": 235
        },
        "outputId": "20d54206-f2f6-4bbf-d1ef-0907bb319a42"
      },
      "source": [
        "# Selecting on a multi-axis by label:\n",
        "df.loc[:,['A','B']]"
      ],
      "execution_count": 22,
      "outputs": [
        {
          "output_type": "execute_result",
          "data": {
            "text/html": [
              "<div>\n",
              "<style scoped>\n",
              "    .dataframe tbody tr th:only-of-type {\n",
              "        vertical-align: middle;\n",
              "    }\n",
              "\n",
              "    .dataframe tbody tr th {\n",
              "        vertical-align: top;\n",
              "    }\n",
              "\n",
              "    .dataframe thead th {\n",
              "        text-align: right;\n",
              "    }\n",
              "</style>\n",
              "<table border=\"1\" class=\"dataframe\">\n",
              "  <thead>\n",
              "    <tr style=\"text-align: right;\">\n",
              "      <th></th>\n",
              "      <th>A</th>\n",
              "      <th>B</th>\n",
              "    </tr>\n",
              "  </thead>\n",
              "  <tbody>\n",
              "    <tr>\n",
              "      <th>2021-09-27</th>\n",
              "      <td>0.157145</td>\n",
              "      <td>-0.656820</td>\n",
              "    </tr>\n",
              "    <tr>\n",
              "      <th>2021-09-28</th>\n",
              "      <td>1.489694</td>\n",
              "      <td>0.320003</td>\n",
              "    </tr>\n",
              "    <tr>\n",
              "      <th>2021-09-29</th>\n",
              "      <td>-0.882165</td>\n",
              "      <td>0.342783</td>\n",
              "    </tr>\n",
              "    <tr>\n",
              "      <th>2021-09-30</th>\n",
              "      <td>1.258796</td>\n",
              "      <td>0.388243</td>\n",
              "    </tr>\n",
              "    <tr>\n",
              "      <th>2021-10-01</th>\n",
              "      <td>0.115433</td>\n",
              "      <td>0.417245</td>\n",
              "    </tr>\n",
              "    <tr>\n",
              "      <th>2021-10-02</th>\n",
              "      <td>1.584692</td>\n",
              "      <td>-0.208394</td>\n",
              "    </tr>\n",
              "  </tbody>\n",
              "</table>\n",
              "</div>"
            ],
            "text/plain": [
              "                   A         B\n",
              "2021-09-27  0.157145 -0.656820\n",
              "2021-09-28  1.489694  0.320003\n",
              "2021-09-29 -0.882165  0.342783\n",
              "2021-09-30  1.258796  0.388243\n",
              "2021-10-01  0.115433  0.417245\n",
              "2021-10-02  1.584692 -0.208394"
            ]
          },
          "metadata": {},
          "execution_count": 22
        }
      ]
    },
    {
      "cell_type": "markdown",
      "metadata": {
        "id": "QqYJvRLnx5sP"
      },
      "source": [
        "#### [DIY: 도전코딩]\n",
        "\n",
        "> Select data for first two days AND comumn 3,4 from df."
      ]
    },
    {
      "cell_type": "code",
      "metadata": {
        "id": "jSUlF4icx5sQ"
      },
      "source": [
        "# df.loc[0:2,['C','D']] *필기\n",
        "# df.loc['20200928':'20200930',['C','D']]\n",
        "# df.loc[dates[:2],['C','D']]"
      ],
      "execution_count": 23,
      "outputs": []
    },
    {
      "cell_type": "markdown",
      "metadata": {
        "id": "-BGWuIwpx5sV"
      },
      "source": [
        "#### Selecting data by position (iloc())\n",
        "- index 사용"
      ]
    },
    {
      "cell_type": "code",
      "metadata": {
        "id": "gYtgID9rx5sW",
        "colab": {
          "base_uri": "https://localhost:8080/",
          "height": 235
        },
        "outputId": "abd99e78-c9f4-42d9-cf14-9b79724f8787"
      },
      "source": [
        "df"
      ],
      "execution_count": 24,
      "outputs": [
        {
          "output_type": "execute_result",
          "data": {
            "text/html": [
              "<div>\n",
              "<style scoped>\n",
              "    .dataframe tbody tr th:only-of-type {\n",
              "        vertical-align: middle;\n",
              "    }\n",
              "\n",
              "    .dataframe tbody tr th {\n",
              "        vertical-align: top;\n",
              "    }\n",
              "\n",
              "    .dataframe thead th {\n",
              "        text-align: right;\n",
              "    }\n",
              "</style>\n",
              "<table border=\"1\" class=\"dataframe\">\n",
              "  <thead>\n",
              "    <tr style=\"text-align: right;\">\n",
              "      <th></th>\n",
              "      <th>A</th>\n",
              "      <th>B</th>\n",
              "      <th>C</th>\n",
              "      <th>D</th>\n",
              "    </tr>\n",
              "  </thead>\n",
              "  <tbody>\n",
              "    <tr>\n",
              "      <th>2021-09-27</th>\n",
              "      <td>0.157145</td>\n",
              "      <td>-0.656820</td>\n",
              "      <td>-0.392772</td>\n",
              "      <td>-0.428795</td>\n",
              "    </tr>\n",
              "    <tr>\n",
              "      <th>2021-09-28</th>\n",
              "      <td>1.489694</td>\n",
              "      <td>0.320003</td>\n",
              "      <td>-0.897810</td>\n",
              "      <td>-1.051432</td>\n",
              "    </tr>\n",
              "    <tr>\n",
              "      <th>2021-09-29</th>\n",
              "      <td>-0.882165</td>\n",
              "      <td>0.342783</td>\n",
              "      <td>0.372968</td>\n",
              "      <td>-2.059851</td>\n",
              "    </tr>\n",
              "    <tr>\n",
              "      <th>2021-09-30</th>\n",
              "      <td>1.258796</td>\n",
              "      <td>0.388243</td>\n",
              "      <td>-0.748868</td>\n",
              "      <td>-1.501119</td>\n",
              "    </tr>\n",
              "    <tr>\n",
              "      <th>2021-10-01</th>\n",
              "      <td>0.115433</td>\n",
              "      <td>0.417245</td>\n",
              "      <td>-0.289182</td>\n",
              "      <td>0.559837</td>\n",
              "    </tr>\n",
              "    <tr>\n",
              "      <th>2021-10-02</th>\n",
              "      <td>1.584692</td>\n",
              "      <td>-0.208394</td>\n",
              "      <td>-0.681593</td>\n",
              "      <td>-0.636170</td>\n",
              "    </tr>\n",
              "  </tbody>\n",
              "</table>\n",
              "</div>"
            ],
            "text/plain": [
              "                   A         B         C         D\n",
              "2021-09-27  0.157145 -0.656820 -0.392772 -0.428795\n",
              "2021-09-28  1.489694  0.320003 -0.897810 -1.051432\n",
              "2021-09-29 -0.882165  0.342783  0.372968 -2.059851\n",
              "2021-09-30  1.258796  0.388243 -0.748868 -1.501119\n",
              "2021-10-01  0.115433  0.417245 -0.289182  0.559837\n",
              "2021-10-02  1.584692 -0.208394 -0.681593 -0.636170"
            ]
          },
          "metadata": {},
          "execution_count": 24
        }
      ]
    },
    {
      "cell_type": "code",
      "metadata": {
        "id": "PNgZ3u8-x5sa",
        "colab": {
          "base_uri": "https://localhost:8080/"
        },
        "outputId": "ad958353-8922-4040-a319-cc67db01b67a"
      },
      "source": [
        "df.iloc[3]  # 결과는 차원축소형으로 표현됨."
      ],
      "execution_count": 26,
      "outputs": [
        {
          "output_type": "execute_result",
          "data": {
            "text/plain": [
              "A    1.258796\n",
              "B    0.388243\n",
              "C   -0.748868\n",
              "D   -1.501119\n",
              "Name: 2021-09-30 00:00:00, dtype: float64"
            ]
          },
          "metadata": {},
          "execution_count": 26
        }
      ]
    },
    {
      "cell_type": "code",
      "metadata": {
        "id": "12eWuxQ_x5sh"
      },
      "source": [
        "# [다시 도전] \n",
        "# Select data for first two days AND comumn 3,4 from df.\n",
        "# Use iloc\n",
        "# df.iloc[:2,2:4]"
      ],
      "execution_count": 25,
      "outputs": []
    },
    {
      "cell_type": "code",
      "metadata": {
        "id": "_S-omW3hx5sn"
      },
      "source": [
        "# Select one item\n",
        "df.iloc[1,1]"
      ],
      "execution_count": null,
      "outputs": []
    },
    {
      "cell_type": "code",
      "metadata": {
        "id": "fjAsIAidfVUQ"
      },
      "source": [
        "# [DIY: 다시 도전] iloc사용.\n",
        "# Select data for first three days from df\n",
        "# Your code\n",
        "df[:3,:]"
      ],
      "execution_count": null,
      "outputs": []
    },
    {
      "cell_type": "markdown",
      "metadata": {
        "id": "fDoWVVGHx5su"
      },
      "source": [
        "#### Selecting data by Boolean indexing"
      ]
    },
    {
      "cell_type": "code",
      "metadata": {
        "id": "CG7LipUrx5sv",
        "colab": {
          "base_uri": "https://localhost:8080/",
          "height": 235
        },
        "outputId": "0fc3d639-f602-4b6d-e17c-67e61419f6c5"
      },
      "source": [
        "df"
      ],
      "execution_count": 27,
      "outputs": [
        {
          "output_type": "execute_result",
          "data": {
            "text/html": [
              "<div>\n",
              "<style scoped>\n",
              "    .dataframe tbody tr th:only-of-type {\n",
              "        vertical-align: middle;\n",
              "    }\n",
              "\n",
              "    .dataframe tbody tr th {\n",
              "        vertical-align: top;\n",
              "    }\n",
              "\n",
              "    .dataframe thead th {\n",
              "        text-align: right;\n",
              "    }\n",
              "</style>\n",
              "<table border=\"1\" class=\"dataframe\">\n",
              "  <thead>\n",
              "    <tr style=\"text-align: right;\">\n",
              "      <th></th>\n",
              "      <th>A</th>\n",
              "      <th>B</th>\n",
              "      <th>C</th>\n",
              "      <th>D</th>\n",
              "    </tr>\n",
              "  </thead>\n",
              "  <tbody>\n",
              "    <tr>\n",
              "      <th>2021-09-27</th>\n",
              "      <td>0.157145</td>\n",
              "      <td>-0.656820</td>\n",
              "      <td>-0.392772</td>\n",
              "      <td>-0.428795</td>\n",
              "    </tr>\n",
              "    <tr>\n",
              "      <th>2021-09-28</th>\n",
              "      <td>1.489694</td>\n",
              "      <td>0.320003</td>\n",
              "      <td>-0.897810</td>\n",
              "      <td>-1.051432</td>\n",
              "    </tr>\n",
              "    <tr>\n",
              "      <th>2021-09-29</th>\n",
              "      <td>-0.882165</td>\n",
              "      <td>0.342783</td>\n",
              "      <td>0.372968</td>\n",
              "      <td>-2.059851</td>\n",
              "    </tr>\n",
              "    <tr>\n",
              "      <th>2021-09-30</th>\n",
              "      <td>1.258796</td>\n",
              "      <td>0.388243</td>\n",
              "      <td>-0.748868</td>\n",
              "      <td>-1.501119</td>\n",
              "    </tr>\n",
              "    <tr>\n",
              "      <th>2021-10-01</th>\n",
              "      <td>0.115433</td>\n",
              "      <td>0.417245</td>\n",
              "      <td>-0.289182</td>\n",
              "      <td>0.559837</td>\n",
              "    </tr>\n",
              "    <tr>\n",
              "      <th>2021-10-02</th>\n",
              "      <td>1.584692</td>\n",
              "      <td>-0.208394</td>\n",
              "      <td>-0.681593</td>\n",
              "      <td>-0.636170</td>\n",
              "    </tr>\n",
              "  </tbody>\n",
              "</table>\n",
              "</div>"
            ],
            "text/plain": [
              "                   A         B         C         D\n",
              "2021-09-27  0.157145 -0.656820 -0.392772 -0.428795\n",
              "2021-09-28  1.489694  0.320003 -0.897810 -1.051432\n",
              "2021-09-29 -0.882165  0.342783  0.372968 -2.059851\n",
              "2021-09-30  1.258796  0.388243 -0.748868 -1.501119\n",
              "2021-10-01  0.115433  0.417245 -0.289182  0.559837\n",
              "2021-10-02  1.584692 -0.208394 -0.681593 -0.636170"
            ]
          },
          "metadata": {},
          "execution_count": 27
        }
      ]
    },
    {
      "cell_type": "code",
      "metadata": {
        "id": "U5If1VEYx5sy",
        "colab": {
          "base_uri": "https://localhost:8080/",
          "height": 204
        },
        "outputId": "f554c530-b6bb-496b-c1ce-ea3e0087e857"
      },
      "source": [
        "df[df.A > 0]"
      ],
      "execution_count": 28,
      "outputs": [
        {
          "output_type": "execute_result",
          "data": {
            "text/html": [
              "<div>\n",
              "<style scoped>\n",
              "    .dataframe tbody tr th:only-of-type {\n",
              "        vertical-align: middle;\n",
              "    }\n",
              "\n",
              "    .dataframe tbody tr th {\n",
              "        vertical-align: top;\n",
              "    }\n",
              "\n",
              "    .dataframe thead th {\n",
              "        text-align: right;\n",
              "    }\n",
              "</style>\n",
              "<table border=\"1\" class=\"dataframe\">\n",
              "  <thead>\n",
              "    <tr style=\"text-align: right;\">\n",
              "      <th></th>\n",
              "      <th>A</th>\n",
              "      <th>B</th>\n",
              "      <th>C</th>\n",
              "      <th>D</th>\n",
              "    </tr>\n",
              "  </thead>\n",
              "  <tbody>\n",
              "    <tr>\n",
              "      <th>2021-09-27</th>\n",
              "      <td>0.157145</td>\n",
              "      <td>-0.656820</td>\n",
              "      <td>-0.392772</td>\n",
              "      <td>-0.428795</td>\n",
              "    </tr>\n",
              "    <tr>\n",
              "      <th>2021-09-28</th>\n",
              "      <td>1.489694</td>\n",
              "      <td>0.320003</td>\n",
              "      <td>-0.897810</td>\n",
              "      <td>-1.051432</td>\n",
              "    </tr>\n",
              "    <tr>\n",
              "      <th>2021-09-30</th>\n",
              "      <td>1.258796</td>\n",
              "      <td>0.388243</td>\n",
              "      <td>-0.748868</td>\n",
              "      <td>-1.501119</td>\n",
              "    </tr>\n",
              "    <tr>\n",
              "      <th>2021-10-01</th>\n",
              "      <td>0.115433</td>\n",
              "      <td>0.417245</td>\n",
              "      <td>-0.289182</td>\n",
              "      <td>0.559837</td>\n",
              "    </tr>\n",
              "    <tr>\n",
              "      <th>2021-10-02</th>\n",
              "      <td>1.584692</td>\n",
              "      <td>-0.208394</td>\n",
              "      <td>-0.681593</td>\n",
              "      <td>-0.636170</td>\n",
              "    </tr>\n",
              "  </tbody>\n",
              "</table>\n",
              "</div>"
            ],
            "text/plain": [
              "                   A         B         C         D\n",
              "2021-09-27  0.157145 -0.656820 -0.392772 -0.428795\n",
              "2021-09-28  1.489694  0.320003 -0.897810 -1.051432\n",
              "2021-09-30  1.258796  0.388243 -0.748868 -1.501119\n",
              "2021-10-01  0.115433  0.417245 -0.289182  0.559837\n",
              "2021-10-02  1.584692 -0.208394 -0.681593 -0.636170"
            ]
          },
          "metadata": {},
          "execution_count": 28
        }
      ]
    },
    {
      "cell_type": "code",
      "metadata": {
        "id": "8WkB7Q5rx5s1",
        "colab": {
          "base_uri": "https://localhost:8080/",
          "height": 235
        },
        "outputId": "b64b4b6c-8d71-4157-ce76-1710e25f16d7"
      },
      "source": [
        "df[df > 0]"
      ],
      "execution_count": 29,
      "outputs": [
        {
          "output_type": "execute_result",
          "data": {
            "text/html": [
              "<div>\n",
              "<style scoped>\n",
              "    .dataframe tbody tr th:only-of-type {\n",
              "        vertical-align: middle;\n",
              "    }\n",
              "\n",
              "    .dataframe tbody tr th {\n",
              "        vertical-align: top;\n",
              "    }\n",
              "\n",
              "    .dataframe thead th {\n",
              "        text-align: right;\n",
              "    }\n",
              "</style>\n",
              "<table border=\"1\" class=\"dataframe\">\n",
              "  <thead>\n",
              "    <tr style=\"text-align: right;\">\n",
              "      <th></th>\n",
              "      <th>A</th>\n",
              "      <th>B</th>\n",
              "      <th>C</th>\n",
              "      <th>D</th>\n",
              "    </tr>\n",
              "  </thead>\n",
              "  <tbody>\n",
              "    <tr>\n",
              "      <th>2021-09-27</th>\n",
              "      <td>0.157145</td>\n",
              "      <td>NaN</td>\n",
              "      <td>NaN</td>\n",
              "      <td>NaN</td>\n",
              "    </tr>\n",
              "    <tr>\n",
              "      <th>2021-09-28</th>\n",
              "      <td>1.489694</td>\n",
              "      <td>0.320003</td>\n",
              "      <td>NaN</td>\n",
              "      <td>NaN</td>\n",
              "    </tr>\n",
              "    <tr>\n",
              "      <th>2021-09-29</th>\n",
              "      <td>NaN</td>\n",
              "      <td>0.342783</td>\n",
              "      <td>0.372968</td>\n",
              "      <td>NaN</td>\n",
              "    </tr>\n",
              "    <tr>\n",
              "      <th>2021-09-30</th>\n",
              "      <td>1.258796</td>\n",
              "      <td>0.388243</td>\n",
              "      <td>NaN</td>\n",
              "      <td>NaN</td>\n",
              "    </tr>\n",
              "    <tr>\n",
              "      <th>2021-10-01</th>\n",
              "      <td>0.115433</td>\n",
              "      <td>0.417245</td>\n",
              "      <td>NaN</td>\n",
              "      <td>0.559837</td>\n",
              "    </tr>\n",
              "    <tr>\n",
              "      <th>2021-10-02</th>\n",
              "      <td>1.584692</td>\n",
              "      <td>NaN</td>\n",
              "      <td>NaN</td>\n",
              "      <td>NaN</td>\n",
              "    </tr>\n",
              "  </tbody>\n",
              "</table>\n",
              "</div>"
            ],
            "text/plain": [
              "                   A         B         C         D\n",
              "2021-09-27  0.157145       NaN       NaN       NaN\n",
              "2021-09-28  1.489694  0.320003       NaN       NaN\n",
              "2021-09-29       NaN  0.342783  0.372968       NaN\n",
              "2021-09-30  1.258796  0.388243       NaN       NaN\n",
              "2021-10-01  0.115433  0.417245       NaN  0.559837\n",
              "2021-10-02  1.584692       NaN       NaN       NaN"
            ]
          },
          "metadata": {},
          "execution_count": 29
        }
      ]
    },
    {
      "cell_type": "code",
      "metadata": {
        "id": "3SgxeatQ8pP0"
      },
      "source": [
        ""
      ],
      "execution_count": null,
      "outputs": []
    }
  ]
}