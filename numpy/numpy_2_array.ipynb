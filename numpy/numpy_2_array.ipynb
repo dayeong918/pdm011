{
  "nbformat": 4,
  "nbformat_minor": 0,
  "metadata": {
    "kernelspec": {
      "display_name": "Python 3",
      "language": "python",
      "name": "python3"
    },
    "language_info": {
      "codemirror_mode": {
        "name": "ipython",
        "version": 3
      },
      "file_extension": ".py",
      "mimetype": "text/x-python",
      "name": "python",
      "nbconvert_exporter": "python",
      "pygments_lexer": "ipython3",
      "version": "3.7.5"
    },
    "colab": {
      "name": "numpy_2_array.ipynb",
      "provenance": [],
      "collapsed_sections": [],
      "include_colab_link": true
    }
  },
  "cells": [
    {
      "cell_type": "markdown",
      "metadata": {
        "id": "view-in-github",
        "colab_type": "text"
      },
      "source": [
        "<a href=\"https://colab.research.google.com/github/dayeong918/pdm011/blob/main/numpy/numpy_2_array.ipynb\" target=\"_parent\"><img src=\"https://colab.research.google.com/assets/colab-badge.svg\" alt=\"Open In Colab\"/></a>"
      ]
    },
    {
      "cell_type": "markdown",
      "metadata": {
        "id": "qLtLw3l3DC1l"
      },
      "source": [
        "# numpy array\n",
        "\n",
        "- 생성\n",
        "- 구조 살펴보기\n",
        "- 수학연산 (columnwise, rowwise)"
      ]
    },
    {
      "cell_type": "code",
      "metadata": {
        "id": "1ZpPRcynDC1l",
        "colab": {
          "base_uri": "https://localhost:8080/"
        },
        "outputId": "9cfcd3f8-2196-4c56-a486-2cc0eefe7559"
      },
      "source": [
        "from numpy import asarray\n",
        "# define data as a list\n",
        "data = [[1,2,3], [4,5,6]] # 2차원 리스트.\n",
        "# convert to a numpy array\n",
        "data = asarray(data)\n",
        "# summarize the array content\n",
        "print(data)\n",
        "# summarize the array shape\n",
        "print(data.shape) #2행 3열.\n",
        "\n",
        "#AttributeError: 'list' object has no attribute 'shape' / .shape(데이터의 크기, 구조 확인) , data가 리스트여서 오류."
      ],
      "execution_count": null,
      "outputs": [
        {
          "output_type": "stream",
          "name": "stdout",
          "text": [
            "[[1 2 3]\n",
            " [4 5 6]]\n",
            "(2, 3)\n"
          ]
        }
      ]
    },
    {
      "cell_type": "markdown",
      "metadata": {
        "id": "1pmgPh3DDC1p"
      },
      "source": [
        "## Print rows"
      ]
    },
    {
      "cell_type": "code",
      "metadata": {
        "id": "0rLupYCmDC1q",
        "colab": {
          "base_uri": "https://localhost:8080/"
        },
        "outputId": "a79e571e-dff6-43cd-fac3-c764753e3da9"
      },
      "source": [
        "# enumerate rows in a numpy array\n",
        "from numpy import asarray\n",
        "# define data as a list\n",
        "data = [[1,2,3], [4,5,6]] \n",
        "# data.shape # Error!\n",
        "# convert to a numpy array\n",
        "data = asarray(data) # numpy 배열 객체로 바뀐다.\n",
        "# step through rows\n",
        "\n",
        "for row in range(data.shape[0]):\n",
        "\tprint(data[row])"
      ],
      "execution_count": null,
      "outputs": [
        {
          "output_type": "stream",
          "name": "stdout",
          "text": [
            "[1 2 3]\n",
            "[4 5 6]\n"
          ]
        }
      ]
    },
    {
      "cell_type": "code",
      "metadata": {
        "colab": {
          "base_uri": "https://localhost:8080/"
        },
        "id": "VmcOsIsOkOYa",
        "outputId": "4c94ba4a-515c-425e-caca-7073db275057"
      },
      "source": [
        "data.shape\n",
        "data.shape[0],data.shape[1] # 튜플의 indexing, slicing."
      ],
      "execution_count": null,
      "outputs": [
        {
          "output_type": "execute_result",
          "data": {
            "text/plain": [
              "(2, 3)"
            ]
          },
          "metadata": {},
          "execution_count": 10
        }
      ]
    },
    {
      "cell_type": "markdown",
      "metadata": {
        "id": "S1Bl58KpDC1s"
      },
      "source": [
        "## Print columns"
      ]
    },
    {
      "cell_type": "code",
      "metadata": {
        "id": "2jS_7YIWDC1t",
        "colab": {
          "base_uri": "https://localhost:8080/"
        },
        "outputId": "6d95ae81-f17b-419c-c831-057d97742c1d"
      },
      "source": [
        "# enumerate rows in a numpy array\n",
        "from numpy import asarray\n",
        "# define data as a list\n",
        "data = [[1,2,3], [4,5,6]]\n",
        "# convert to a numpy array\n",
        "data = asarray(data)\n",
        "print(data)\n",
        "# step through columns\n",
        "for col in range(data.shape[1]):\n",
        "\tprint(data[:,col]) # print: 셀 열을 바꿔줌."
      ],
      "execution_count": null,
      "outputs": [
        {
          "output_type": "stream",
          "name": "stdout",
          "text": [
            "[[1 2 3]\n",
            " [4 5 6]]\n",
            "[1 4]\n",
            "[2 5]\n",
            "[3 6]\n"
          ]
        }
      ]
    },
    {
      "cell_type": "markdown",
      "metadata": {
        "id": "BTdfAyqRlVM1"
      },
      "source": [
        "---"
      ]
    },
    {
      "cell_type": "markdown",
      "metadata": {
        "id": "tGhULkDaDC1v"
      },
      "source": [
        "## NumPy Array Operations By Row and Column\n",
        "- axis=None: Apply operation array-wise.\n",
        "- axis=0: Apply operation column-wise, across all rows for each column.\n",
        "- axis=1: Apply operation row-wise, across all columns for each row."
      ]
    },
    {
      "cell_type": "code",
      "metadata": {
        "id": "nFCQ6buxDC1v",
        "colab": {
          "base_uri": "https://localhost:8080/"
        },
        "outputId": "25188780-2d93-43cc-a83c-0b10a49dcd4e"
      },
      "source": [
        "# sum values array-wise\n",
        "from numpy import asarray\n",
        "# define data as a list\n",
        "data = [[1,2,3], [4,5,6]]\n",
        "# convert to a numpy array\n",
        "data = asarray(data)\n",
        "# summarize the array content\n",
        "print(data)\n",
        "# sum data by array\n",
        "result = data.sum(axis=None) #배열에 sum이라는 함수를 설계했을 때, default axis option이 None이다.\n",
        "# summarize the result\n",
        "print(result)"
      ],
      "execution_count": null,
      "outputs": [
        {
          "output_type": "stream",
          "name": "stdout",
          "text": [
            "[[1 2 3]\n",
            " [4 5 6]]\n",
            "21\n"
          ]
        }
      ]
    },
    {
      "cell_type": "markdown",
      "metadata": {
        "id": "Mcmj1qCwDC1y"
      },
      "source": [
        "### Axis=0 Column-Wise Operation (수직으로)"
      ]
    },
    {
      "cell_type": "code",
      "metadata": {
        "id": "irwyItrKDC10",
        "colab": {
          "base_uri": "https://localhost:8080/"
        },
        "outputId": "0e7cc99a-6244-4247-8f86-cec7b0dbbd11"
      },
      "source": [
        "# sum values column-wise\n",
        "from numpy import asarray\n",
        "# define data as a list\n",
        "data = [[1,2,3], [4,5,6]]\n",
        "# convert to a numpy array\n",
        "data = asarray(data)\n",
        "# summarize the array content\n",
        "print(data)\n",
        "# sum data by column\n",
        "result = data.sum(axis=0) \n",
        "# summarize the result\n",
        "print(result)"
      ],
      "execution_count": null,
      "outputs": [
        {
          "output_type": "stream",
          "name": "stdout",
          "text": [
            "[[1 2 3]\n",
            " [4 5 6]]\n",
            "[5 7 9]\n"
          ]
        }
      ]
    },
    {
      "cell_type": "markdown",
      "metadata": {
        "id": "OXNCVoP1DC13"
      },
      "source": [
        "### Axis=1 Row-Wise Operation (수평으로)"
      ]
    },
    {
      "cell_type": "code",
      "metadata": {
        "id": "QmStdHwqDC13",
        "colab": {
          "base_uri": "https://localhost:8080/"
        },
        "outputId": "c33adea4-cea6-4942-faf4-a7b9691bf186"
      },
      "source": [
        "# sum values row-wise\n",
        "from numpy import asarray\n",
        "# define data as a list\n",
        "data = [[1,2,3], [4,5,6]]\n",
        "# convert to a numpy array\n",
        "data = asarray(data)\n",
        "# summarize the array content\n",
        "print(data)\n",
        "# sum data by row\n",
        "result = data.sum()\n",
        "# summarize the result\n",
        "print(result)"
      ],
      "execution_count": null,
      "outputs": [
        {
          "output_type": "stream",
          "name": "stdout",
          "text": [
            "[[1 2 3]\n",
            " [4 5 6]]\n",
            "21\n"
          ]
        }
      ]
    },
    {
      "cell_type": "markdown",
      "metadata": {
        "id": "WD-mr8TylTH-"
      },
      "source": [
        "---"
      ]
    },
    {
      "cell_type": "markdown",
      "metadata": {
        "id": "JNfFF_h-DC2A"
      },
      "source": [
        "## [Challenge]\n",
        "- 3d-array\n",
        "    * axis = 0\n",
        "    * axis = 1\n",
        "    * axis = 2\n",
        "    * axis = (0,1)"
      ]
    },
    {
      "cell_type": "markdown",
      "metadata": {
        "id": "w7qMCHmrGHTQ"
      },
      "source": [
        "## [DIY: 도전하기]\n",
        "\n",
        "- 3차원 배열을 리스트로부터 만드시오.\n",
        "- [참고: numpy_sum_axis](http://taewan.kim/post/numpy_sum_axis/)"
      ]
    },
    {
      "cell_type": "code",
      "metadata": {
        "id": "dMOzrginDC2A",
        "outputId": "ff0036ec-5f9a-4f47-ce11-8cbbbaedc7a0",
        "colab": {
          "base_uri": "https://localhost:8080/"
        }
      },
      "source": [
        "# Make 3d-array in numpy\n",
        "import numpy as np\n",
        "#from numpy import asarray\n",
        "\n",
        "data = [[[1,2,3], [4,5,6],[7,8,9],[10,11,12],[13,14,15],[16,17,18],[19,20,21],[22,23,24],[25,26,27]]]\n",
        "print(type(data))\n",
        "data = np.asarray(data)\n",
        "print(data)"
      ],
      "execution_count": 40,
      "outputs": [
        {
          "output_type": "stream",
          "name": "stdout",
          "text": [
            "<class 'list'>\n",
            "[[[ 1  2  3]\n",
            "  [ 4  5  6]\n",
            "  [ 7  8  9]\n",
            "  [10 11 12]\n",
            "  [13 14 15]\n",
            "  [16 17 18]\n",
            "  [19 20 21]\n",
            "  [22 23 24]\n",
            "  [25 26 27]]]\n"
          ]
        }
      ]
    },
    {
      "cell_type": "code",
      "metadata": {
        "id": "psor8pNWet4z",
        "outputId": "2db7c4c9-4352-46c2-de5d-1374c928af73",
        "colab": {
          "base_uri": "https://localhost:8080/"
        }
      },
      "source": [
        "print(type(data))\n",
        "print(data.ndim)\n",
        "len(data), len(data[0]), len(data[0][0]) #깊이, 행, 열\n",
        "print(data.shape)"
      ],
      "execution_count": 41,
      "outputs": [
        {
          "output_type": "stream",
          "name": "stdout",
          "text": [
            "<class 'numpy.ndarray'>\n",
            "3\n",
            "(1, 9, 3)\n"
          ]
        }
      ]
    }
  ]
}