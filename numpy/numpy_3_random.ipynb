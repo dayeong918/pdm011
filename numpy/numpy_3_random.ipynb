{
  "nbformat": 4,
  "nbformat_minor": 0,
  "metadata": {
    "colab": {
      "name": "numpy_3_random.ipynb",
      "provenance": [],
      "collapsed_sections": [],
      "include_colab_link": true
    },
    "kernelspec": {
      "name": "python3",
      "display_name": "Python 3"
    }
  },
  "cells": [
    {
      "cell_type": "markdown",
      "metadata": {
        "id": "view-in-github",
        "colab_type": "text"
      },
      "source": [
        "<a href=\"https://colab.research.google.com/github/dayeong918/pdm011/blob/main/numpy/numpy_3_random.ipynb\" target=\"_parent\"><img src=\"https://colab.research.google.com/assets/colab-badge.svg\" alt=\"Open In Colab\"/></a>"
      ]
    },
    {
      "cell_type": "markdown",
      "metadata": {
        "id": "_zrirXHfgmyY"
      },
      "source": [
        "# numpy\n",
        "## random 서브모듈\n",
        "> [데이터싸이언스 스쿨:난수발생](https://datascienceschool.net/01%20python/03.05%20%EB%82%9C%EC%88%98%20%EB%B0%9C%EC%83%9D%EA%B3%BC%20%EC%B9%B4%EC%9A%B4%ED%8C%85.html)"
      ]
    },
    {
      "cell_type": "code",
      "metadata": {
        "id": "kQbzzSMZG2PX"
      },
      "source": [
        "import numpy as np"
      ],
      "execution_count": 1,
      "outputs": []
    },
    {
      "cell_type": "markdown",
      "metadata": {
        "id": "1Ry0YHkNFis5"
      },
      "source": [
        "## 난수 생성\n",
        "> NumPy의 random 서브모듈은 난수를 생성하는 다양한 명령을 제공.\n",
        "\n",
        "- rand: 0부터 1사이의 균일 분포 (uniform distribution)\n",
        "- randn: 가우시안 표준 정규 분포 (normal distribution, Gaussian)\n",
        "- randint: 균일 분포의 정수 난수 (uniform int)\n",
        "\n",
        "> randn()은 평균 0, 표준편차 1 인 가우시안 정규분포를 생성."
      ]
    },
    {
      "cell_type": "markdown",
      "metadata": {
        "id": "CtO1VxvurziR"
      },
      "source": [
        "### rand: 0부터 1사이의 균일 분포 (uniform distribution)"
      ]
    },
    {
      "cell_type": "code",
      "metadata": {
        "id": "LA1oF6aEG7kJ",
        "colab": {
          "base_uri": "https://localhost:8080/"
        },
        "outputId": "df5b3410-2b2e-4dcd-8b12-7db80f343c2a"
      },
      "source": [
        "np.random.rand(5)"
      ],
      "execution_count": 2,
      "outputs": [
        {
          "output_type": "execute_result",
          "data": {
            "text/plain": [
              "array([0.51510254, 0.27661799, 0.14872175, 0.43253575, 0.21579139])"
            ]
          },
          "metadata": {},
          "execution_count": 2
        }
      ]
    },
    {
      "cell_type": "code",
      "metadata": {
        "id": "H6f4ix3NHCyR",
        "colab": {
          "base_uri": "https://localhost:8080/"
        },
        "outputId": "8eb4c3fe-7f43-4d2d-dbb2-29da8a71382b"
      },
      "source": [
        "np.random.rand(5)"
      ],
      "execution_count": 3,
      "outputs": [
        {
          "output_type": "execute_result",
          "data": {
            "text/plain": [
              "array([0.31836409, 0.7150868 , 0.04793603, 0.54327006, 0.90326875])"
            ]
          },
          "metadata": {},
          "execution_count": 3
        }
      ]
    },
    {
      "cell_type": "markdown",
      "metadata": {
        "id": "c88F6gf8r4K2"
      },
      "source": [
        "### randn: 가우시안 표준 정규 분포 (normal distribution, Gaussian)"
      ]
    },
    {
      "cell_type": "code",
      "metadata": {
        "id": "rtVfCL-uP2Tw",
        "colab": {
          "base_uri": "https://localhost:8080/"
        },
        "outputId": "3d9e164b-542e-49af-84d0-0afad83b1bd5"
      },
      "source": [
        "np.random.randn(5)"
      ],
      "execution_count": 4,
      "outputs": [
        {
          "output_type": "execute_result",
          "data": {
            "text/plain": [
              "array([-1.78304332, -0.22944645, -0.25710452, -1.24532953,  1.2551463 ])"
            ]
          },
          "metadata": {},
          "execution_count": 4
        }
      ]
    },
    {
      "cell_type": "markdown",
      "metadata": {
        "id": "wsvTzTFSsBSJ"
      },
      "source": [
        "### randint: 균일 분포의 정수 난수 (uniform int)\n",
        "- numpy.random.randint(low, high=None, size=None, dtype='l')"
      ]
    },
    {
      "cell_type": "code",
      "metadata": {
        "id": "WSvAH8uVs2Vb",
        "colab": {
          "base_uri": "https://localhost:8080/"
        },
        "outputId": "c68129e2-5f4a-442d-8e5f-3e85f40c3821"
      },
      "source": [
        "np.random.randint(5)"
      ],
      "execution_count": 5,
      "outputs": [
        {
          "output_type": "execute_result",
          "data": {
            "text/plain": [
              "1"
            ]
          },
          "metadata": {},
          "execution_count": 5
        }
      ]
    },
    {
      "cell_type": "code",
      "metadata": {
        "id": "McWHW15uQDPr",
        "colab": {
          "base_uri": "https://localhost:8080/"
        },
        "outputId": "1503cca9-ebed-4c86-cecc-84e596e1d1c8"
      },
      "source": [
        "np.random.randint(5,9) "
      ],
      "execution_count": 6,
      "outputs": [
        {
          "output_type": "execute_result",
          "data": {
            "text/plain": [
              "8"
            ]
          },
          "metadata": {},
          "execution_count": 6
        }
      ]
    },
    {
      "cell_type": "code",
      "metadata": {
        "id": "oBsWu9FmQQSC",
        "colab": {
          "base_uri": "https://localhost:8080/"
        },
        "outputId": "9f70279e-9beb-455b-82d8-9a918e049166"
      },
      "source": [
        "np.random.randint(0,10,5)"
      ],
      "execution_count": 7,
      "outputs": [
        {
          "output_type": "execute_result",
          "data": {
            "text/plain": [
              "array([0, 4, 2, 2, 5])"
            ]
          },
          "metadata": {},
          "execution_count": 7
        }
      ]
    },
    {
      "cell_type": "code",
      "metadata": {
        "id": "0kNuJxjaQYEu",
        "colab": {
          "base_uri": "https://localhost:8080/"
        },
        "outputId": "b6fc84ed-0634-4225-8b1e-59b796e2e7c3"
      },
      "source": [
        "np.random.randint(0,10,5)"
      ],
      "execution_count": 8,
      "outputs": [
        {
          "output_type": "execute_result",
          "data": {
            "text/plain": [
              "array([3, 7, 4, 1, 9])"
            ]
          },
          "metadata": {},
          "execution_count": 8
        }
      ]
    },
    {
      "cell_type": "markdown",
      "metadata": {
        "id": "K58DiNYUmANL"
      },
      "source": [
        "---"
      ]
    },
    {
      "cell_type": "markdown",
      "metadata": {
        "id": "xU5NWjQ3F_ld"
      },
      "source": [
        "## 난수 생성 seed 설정\n",
        "- numpy.random.seed(seed=None)\n",
        "- np.random.seed(number)"
      ]
    },
    {
      "cell_type": "code",
      "metadata": {
        "id": "AxUeYmQSQawG"
      },
      "source": [
        "np.random.seed()"
      ],
      "execution_count": 9,
      "outputs": []
    },
    {
      "cell_type": "code",
      "metadata": {
        "id": "C33YjKqvRJ33",
        "colab": {
          "base_uri": "https://localhost:8080/"
        },
        "outputId": "55feb33c-4f9f-4d0e-833f-811ccb6edf46"
      },
      "source": [
        "np.random.rand(5)"
      ],
      "execution_count": 10,
      "outputs": [
        {
          "output_type": "execute_result",
          "data": {
            "text/plain": [
              "array([0.73408808, 0.14973226, 0.23327201, 0.74259066, 0.39109759])"
            ]
          },
          "metadata": {},
          "execution_count": 10
        }
      ]
    },
    {
      "cell_type": "code",
      "metadata": {
        "id": "Ne8rIyN9RO81",
        "colab": {
          "base_uri": "https://localhost:8080/"
        },
        "outputId": "a2260578-386f-49a1-8938-41834ae1591b"
      },
      "source": [
        "np.random.rand(5)"
      ],
      "execution_count": 11,
      "outputs": [
        {
          "output_type": "execute_result",
          "data": {
            "text/plain": [
              "array([0.47418598, 0.38914814, 0.58091373, 0.03569594, 0.4956397 ])"
            ]
          },
          "metadata": {},
          "execution_count": 11
        }
      ]
    },
    {
      "cell_type": "markdown",
      "metadata": {
        "id": "wnQ4gFoltu81"
      },
      "source": [
        "### 동일한 무작위수 생성\n",
        "- seed를 고정하고 무작위수 생성"
      ]
    },
    {
      "cell_type": "code",
      "metadata": {
        "id": "LGPOJGfgRSWx"
      },
      "source": [
        "np.random.seed(1234)"
      ],
      "execution_count": 26,
      "outputs": []
    },
    {
      "cell_type": "code",
      "metadata": {
        "id": "t2PNRUpfRXZk",
        "colab": {
          "base_uri": "https://localhost:8080/"
        },
        "outputId": "8778ecf2-8c65-47f7-8795-39247205568d"
      },
      "source": [
        "np.random.rand(5)"
      ],
      "execution_count": 13,
      "outputs": [
        {
          "output_type": "execute_result",
          "data": {
            "text/plain": [
              "array([0.19151945, 0.62210877, 0.43772774, 0.78535858, 0.77997581])"
            ]
          },
          "metadata": {},
          "execution_count": 13
        }
      ]
    },
    {
      "cell_type": "code",
      "metadata": {
        "id": "x8yKednV8CZy",
        "colab": {
          "base_uri": "https://localhost:8080/"
        },
        "outputId": "aa49b2f1-c6df-42b6-c6f8-420e3558d314"
      },
      "source": [
        "np.random.rand(5)"
      ],
      "execution_count": 14,
      "outputs": [
        {
          "output_type": "execute_result",
          "data": {
            "text/plain": [
              "array([0.27259261, 0.27646426, 0.80187218, 0.95813935, 0.87593263])"
            ]
          },
          "metadata": {},
          "execution_count": 14
        }
      ]
    },
    {
      "cell_type": "code",
      "metadata": {
        "id": "bo2A_ntYRcKw"
      },
      "source": [
        "np.random.seed(1234)"
      ],
      "execution_count": 15,
      "outputs": []
    },
    {
      "cell_type": "code",
      "metadata": {
        "id": "U5qXdwYQRYeT",
        "colab": {
          "base_uri": "https://localhost:8080/"
        },
        "outputId": "f2ec3ddc-a7ef-4797-c274-3ab725a51fcf"
      },
      "source": [
        "np.random.rand(5)"
      ],
      "execution_count": 16,
      "outputs": [
        {
          "output_type": "execute_result",
          "data": {
            "text/plain": [
              "array([0.19151945, 0.62210877, 0.43772774, 0.78535858, 0.77997581])"
            ]
          },
          "metadata": {},
          "execution_count": 16
        }
      ]
    },
    {
      "cell_type": "markdown",
      "metadata": {
        "id": "pwMXGAwmRhpW"
      },
      "source": [
        "### seed 고정 후에 randint(5)"
      ]
    },
    {
      "cell_type": "code",
      "metadata": {
        "id": "tqmTOMMVRhGW",
        "colab": {
          "base_uri": "https://localhost:8080/"
        },
        "outputId": "fbd05157-0662-48de-f72a-bd225f835835"
      },
      "source": [
        "np.random.seed(5678)\n",
        "np.random.randint(1,10,5)"
      ],
      "execution_count": 17,
      "outputs": [
        {
          "output_type": "execute_result",
          "data": {
            "text/plain": [
              "array([5, 8, 3, 5, 4])"
            ]
          },
          "metadata": {},
          "execution_count": 17
        }
      ]
    },
    {
      "cell_type": "code",
      "metadata": {
        "id": "YxQYjcOLSA-Z",
        "colab": {
          "base_uri": "https://localhost:8080/"
        },
        "outputId": "c363bb21-f4ec-4db6-a528-522fa78d5256"
      },
      "source": [
        "np.random.randint(1,10,5)"
      ],
      "execution_count": 18,
      "outputs": [
        {
          "output_type": "execute_result",
          "data": {
            "text/plain": [
              "array([6, 3, 7, 4, 1])"
            ]
          },
          "metadata": {},
          "execution_count": 18
        }
      ]
    },
    {
      "cell_type": "code",
      "metadata": {
        "id": "aQYF5QpGSD6p",
        "colab": {
          "base_uri": "https://localhost:8080/"
        },
        "outputId": "baf8770a-f9f9-4ddb-a4a1-3f8b2b748a38"
      },
      "source": [
        "np.random.seed(5678)\n",
        "np.random.randint(1,10,5)"
      ],
      "execution_count": 19,
      "outputs": [
        {
          "output_type": "execute_result",
          "data": {
            "text/plain": [
              "array([5, 8, 3, 5, 4])"
            ]
          },
          "metadata": {},
          "execution_count": 19
        }
      ]
    },
    {
      "cell_type": "code",
      "metadata": {
        "id": "cfIhMEcVSGKa",
        "colab": {
          "base_uri": "https://localhost:8080/"
        },
        "outputId": "aad23d8a-95e9-4b58-9d07-a17d6debfcef"
      },
      "source": [
        "np.random.seed(5678)\n",
        "np.random.randint(1,10,5)"
      ],
      "execution_count": 22,
      "outputs": [
        {
          "output_type": "execute_result",
          "data": {
            "text/plain": [
              "array([5, 8, 3, 5, 4])"
            ]
          },
          "metadata": {},
          "execution_count": 22
        }
      ]
    },
    {
      "cell_type": "code",
      "metadata": {
        "id": "Ik9a-QkcfLwy",
        "colab": {
          "base_uri": "https://localhost:8080/"
        },
        "outputId": "7d048c0c-b3f0-4e76-86fe-382c6883ac6c"
      },
      "source": [
        "# seed 변경\n",
        "np.random.seed(0)\n",
        "np.random.randint(1,10,5)"
      ],
      "execution_count": 20,
      "outputs": [
        {
          "output_type": "execute_result",
          "data": {
            "text/plain": [
              "array([6, 1, 4, 4, 8])"
            ]
          },
          "metadata": {},
          "execution_count": 20
        }
      ]
    },
    {
      "cell_type": "markdown",
      "metadata": {
        "id": "Zg3g31drmDMI"
      },
      "source": [
        "---\n",
        "---"
      ]
    },
    {
      "cell_type": "markdown",
      "metadata": {
        "id": "YNVh_pbhfROq"
      },
      "source": [
        "## DIY: 도전 코딩 - numpy 정리 과제\n",
        "- 생성된 마구잡이수를 조사하고 사용하기 \n",
        "- 9월19일 자정 마감."
      ]
    },
    {
      "cell_type": "markdown",
      "metadata": {
        "id": "vxNHFDSIgMmC"
      },
      "source": [
        "### [도전 1.] 0부터 9까지의 마구잡이 정수를 1000개 만들고 각 수의 빈도를 구하시오. "
      ]
    },
    {
      "cell_type": "code",
      "metadata": {
        "id": "qkDfXH1xgjBz",
        "colab": {
          "base_uri": "https://localhost:8080/"
        },
        "outputId": "af99b77b-ecd3-4cda-b755-8ef924f29777"
      },
      "source": [
        "# n1000=\n",
        "n1000 = np.random.randint(0,10,1000)\n",
        "n1000"
      ],
      "execution_count": 29,
      "outputs": [
        {
          "output_type": "execute_result",
          "data": {
            "text/plain": [
              "array([5, 7, 0, 2, 3, 4, 8, 4, 3, 1, 8, 9, 1, 7, 2, 8, 5, 9, 3, 0, 0, 2,\n",
              "       3, 1, 6, 8, 7, 0, 1, 9, 7, 0, 1, 4, 8, 1, 9, 0, 2, 6, 2, 5, 6, 3,\n",
              "       5, 0, 0, 2, 1, 1, 1, 3, 8, 2, 2, 5, 4, 9, 4, 1, 3, 8, 4, 4, 0, 4,\n",
              "       5, 6, 9, 4, 5, 6, 6, 6, 7, 1, 1, 0, 5, 9, 2, 1, 3, 1, 5, 0, 3, 2,\n",
              "       0, 5, 4, 8, 3, 0, 7, 9, 6, 3, 4, 3, 7, 0, 9, 7, 3, 7, 6, 0, 4, 4,\n",
              "       3, 2, 7, 0, 0, 0, 4, 2, 3, 7, 9, 6, 9, 1, 3, 2, 6, 2, 1, 6, 7, 0,\n",
              "       3, 3, 6, 8, 0, 8, 9, 2, 9, 7, 6, 5, 8, 2, 6, 0, 6, 9, 5, 4, 0, 1,\n",
              "       8, 8, 6, 9, 5, 5, 1, 8, 5, 9, 4, 8, 4, 4, 7, 1, 9, 0, 1, 6, 8, 3,\n",
              "       1, 3, 6, 3, 5, 0, 3, 5, 1, 3, 8, 0, 7, 3, 3, 2, 4, 8, 8, 0, 7, 8,\n",
              "       0, 8, 6, 4, 2, 3, 0, 3, 1, 1, 6, 7, 8, 4, 9, 0, 4, 0, 9, 9, 8, 7,\n",
              "       1, 9, 6, 7, 7, 5, 7, 8, 1, 1, 9, 3, 9, 3, 3, 5, 8, 7, 3, 9, 0, 3,\n",
              "       9, 7, 0, 1, 3, 8, 0, 3, 5, 7, 1, 4, 5, 0, 1, 7, 9, 7, 3, 3, 9, 1,\n",
              "       7, 1, 5, 6, 8, 4, 9, 2, 0, 6, 1, 7, 0, 5, 4, 7, 7, 4, 8, 0, 7, 7,\n",
              "       6, 2, 2, 3, 2, 3, 5, 7, 2, 3, 7, 5, 7, 8, 9, 9, 7, 4, 9, 7, 8, 0,\n",
              "       2, 1, 7, 6, 5, 1, 8, 8, 1, 8, 6, 3, 5, 6, 0, 1, 2, 6, 5, 5, 5, 6,\n",
              "       0, 0, 6, 2, 0, 5, 2, 3, 7, 6, 6, 3, 3, 4, 4, 0, 7, 3, 3, 4, 6, 1,\n",
              "       9, 4, 6, 8, 7, 9, 3, 0, 4, 0, 9, 8, 8, 4, 8, 6, 9, 5, 1, 6, 2, 9,\n",
              "       5, 5, 9, 8, 2, 4, 2, 3, 1, 5, 1, 7, 5, 4, 7, 6, 7, 6, 5, 8, 3, 3,\n",
              "       8, 0, 8, 1, 0, 8, 6, 9, 6, 1, 9, 5, 3, 8, 6, 0, 4, 1, 8, 9, 9, 3,\n",
              "       0, 5, 7, 4, 5, 3, 6, 0, 2, 0, 4, 1, 3, 0, 7, 4, 0, 8, 8, 3, 6, 0,\n",
              "       1, 7, 5, 3, 5, 1, 3, 5, 7, 4, 9, 6, 6, 2, 1, 5, 2, 4, 3, 3, 7, 3,\n",
              "       1, 4, 4, 5, 9, 7, 9, 2, 2, 7, 9, 5, 0, 2, 7, 8, 8, 5, 4, 8, 1, 4,\n",
              "       5, 9, 9, 9, 4, 7, 4, 9, 3, 9, 4, 1, 7, 6, 4, 5, 9, 1, 9, 6, 4, 6,\n",
              "       0, 9, 1, 3, 7, 7, 9, 4, 3, 8, 8, 8, 9, 5, 5, 3, 7, 6, 5, 1, 0, 9,\n",
              "       4, 3, 9, 3, 3, 4, 0, 6, 8, 2, 0, 7, 6, 8, 7, 4, 1, 2, 7, 0, 2, 7,\n",
              "       7, 3, 8, 0, 6, 2, 5, 1, 9, 1, 9, 8, 2, 7, 2, 0, 4, 8, 2, 2, 3, 3,\n",
              "       4, 8, 1, 3, 3, 6, 9, 8, 8, 7, 0, 1, 3, 3, 7, 1, 6, 7, 2, 4, 6, 6,\n",
              "       5, 9, 4, 5, 3, 5, 4, 6, 7, 4, 6, 8, 0, 1, 1, 1, 2, 4, 4, 0, 7, 3,\n",
              "       1, 4, 0, 3, 4, 2, 3, 5, 0, 1, 6, 0, 5, 7, 0, 1, 1, 4, 1, 6, 7, 2,\n",
              "       4, 8, 4, 8, 7, 1, 6, 9, 3, 5, 7, 0, 0, 2, 8, 1, 3, 6, 9, 9, 0, 5,\n",
              "       4, 3, 3, 0, 4, 1, 0, 3, 1, 8, 5, 9, 9, 2, 6, 2, 1, 0, 3, 6, 4, 4,\n",
              "       5, 6, 3, 2, 0, 6, 0, 7, 3, 1, 8, 5, 6, 1, 2, 4, 1, 0, 5, 4, 0, 9,\n",
              "       5, 3, 5, 1, 6, 3, 8, 1, 0, 3, 7, 6, 5, 6, 2, 4, 5, 5, 3, 8, 1, 7,\n",
              "       4, 9, 8, 4, 9, 7, 0, 2, 5, 9, 5, 6, 4, 7, 0, 8, 7, 4, 2, 8, 3, 2,\n",
              "       5, 1, 9, 6, 5, 4, 7, 4, 3, 4, 5, 6, 5, 6, 9, 3, 5, 4, 6, 6, 5, 3,\n",
              "       2, 0, 5, 7, 4, 7, 8, 7, 8, 9, 9, 9, 2, 3, 1, 8, 5, 3, 4, 4, 0, 8,\n",
              "       4, 7, 8, 8, 0, 3, 7, 3, 3, 5, 8, 0, 9, 9, 6, 2, 5, 0, 8, 8, 5, 7,\n",
              "       6, 1, 4, 1, 4, 4, 9, 6, 5, 1, 3, 0, 1, 1, 8, 5, 6, 6, 1, 9, 3, 0,\n",
              "       6, 4, 1, 4, 5, 4, 7, 8, 3, 6, 8, 4, 8, 9, 3, 7, 8, 9, 7, 9, 1, 5,\n",
              "       1, 6, 6, 3, 7, 6, 9, 5, 1, 4, 5, 8, 5, 4, 4, 7, 3, 8, 4, 7, 5, 1,\n",
              "       5, 6, 0, 9, 2, 9, 9, 5, 4, 1, 1, 4, 7, 8, 4, 2, 8, 8, 1, 4, 0, 4,\n",
              "       5, 3, 2, 9, 5, 0, 4, 6, 9, 6, 9, 0, 2, 0, 0, 3, 1, 1, 4, 5, 9, 2,\n",
              "       1, 4, 4, 7, 2, 7, 1, 5, 6, 3, 3, 3, 4, 6, 6, 1, 9, 8, 4, 1, 7, 9,\n",
              "       2, 1, 8, 9, 7, 7, 4, 5, 0, 3, 2, 5, 4, 9, 0, 9, 2, 6, 0, 4, 8, 1,\n",
              "       9, 0, 6, 1, 8, 7, 3, 4, 2, 5, 8, 9, 0, 0, 6, 1, 6, 3, 4, 4, 7, 1,\n",
              "       2, 1, 1, 8, 0, 1, 3, 7, 4, 7])"
            ]
          },
          "metadata": {},
          "execution_count": 29
        }
      ]
    },
    {
      "cell_type": "code",
      "metadata": {
        "id": "9_6nzbQD3FZi",
        "colab": {
          "base_uri": "https://localhost:8080/"
        },
        "outputId": "63eb1d48-05ed-4de6-acc3-4171b76bcfaa"
      },
      "source": [
        "np.unique(n1000)"
      ],
      "execution_count": 28,
      "outputs": [
        {
          "output_type": "execute_result",
          "data": {
            "text/plain": [
              "array([0, 1, 2, 3, 4, 5, 6, 7, 8, 9])"
            ]
          },
          "metadata": {},
          "execution_count": 28
        }
      ]
    },
    {
      "cell_type": "code",
      "metadata": {
        "id": "eiw9R1243Rzp"
      },
      "source": [
        "# 각 수의 빈도"
      ],
      "execution_count": 25,
      "outputs": []
    },
    {
      "cell_type": "markdown",
      "metadata": {
        "id": "cIhlY6-GghMN"
      },
      "source": [
        "### [도전 2.] 0부터 9까지의 마구잡이 정수를 1000개 만들고 각 수가 처음 출현하는 인덱스를 구하시오.\n",
        "> 0이 처음 나타날 때의 인덱스, 1이 처음 나타날 때의 인덱스, ... "
      ]
    },
    {
      "cell_type": "code",
      "metadata": {
        "id": "oA1ec_RjgL3X"
      },
      "source": [
        "# 각 수가 처음 출현하는 인덱스\n"
      ],
      "execution_count": null,
      "outputs": []
    },
    {
      "cell_type": "code",
      "metadata": {
        "id": "yubibMMZ4AZS"
      },
      "source": [
        "# n1000[index]"
      ],
      "execution_count": null,
      "outputs": []
    },
    {
      "cell_type": "markdown",
      "metadata": {
        "id": "sadkRzWjgiTM"
      },
      "source": [
        "### [도전 3.] seed를 1234로 고정하고, 위의 도전1,2를 다시 해보시오. "
      ]
    },
    {
      "cell_type": "markdown",
      "metadata": {
        "id": "zAGojAainnox"
      },
      "source": [
        "### [도전 4.] 0부터 999까지의 마구잡이 정수로 구성되는 28X28 이차원배열을 만드시오.\n",
        "- 시드를 고정 : np.random.seed(1234)\n",
        "1. 각 행의 최대값, 최소갑을 구하시오.\n",
        "2. 배열 전체의 최대값, 최소값을 구하시오.\n",
        "3. 배열전체의 최대값, 최소값의 index를 각각 찾으시오."
      ]
    },
    {
      "cell_type": "markdown",
      "metadata": {
        "id": "VoSu8rNOnwPU"
      },
      "source": [
        "---\n",
        "---"
      ]
    },
    {
      "cell_type": "markdown",
      "metadata": {
        "id": "ozoCcRquhg4p"
      },
      "source": [
        "## python graphics\n",
        "- matplotlib\n",
        "> import matplotlib.pyplot as plt"
      ]
    },
    {
      "cell_type": "markdown",
      "metadata": {
        "id": "h6yEJiGJ4Lbk"
      },
      "source": [
        "### 무작위수 분포 그려보기"
      ]
    },
    {
      "cell_type": "code",
      "metadata": {
        "id": "ngcwuNlfhrIQ"
      },
      "source": [
        "import matplotlib.pyplot as plt"
      ],
      "execution_count": null,
      "outputs": []
    },
    {
      "cell_type": "code",
      "metadata": {
        "id": "jr30IHxvJDuE"
      },
      "source": [
        "plt.hist(n1000,label=range(0,10), color='red')\n",
        "# plt.show()"
      ],
      "execution_count": null,
      "outputs": []
    },
    {
      "cell_type": "markdown",
      "metadata": {
        "id": "b-JcgSU-Ktyz"
      },
      "source": [
        "### [도전] 균일분포와 정규분포를 비교하는 그림을 그리시오."
      ]
    },
    {
      "cell_type": "code",
      "metadata": {
        "id": "k0XaT2f9JGZy"
      },
      "source": [
        "plt.hist(np.random.rand(1000))"
      ],
      "execution_count": null,
      "outputs": []
    },
    {
      "cell_type": "code",
      "metadata": {
        "id": "T8SCqKVeMhBF"
      },
      "source": [
        "plt.hist(np.random.randn(1000))"
      ],
      "execution_count": null,
      "outputs": []
    },
    {
      "cell_type": "markdown",
      "metadata": {
        "id": "LYthn3089aqD"
      },
      "source": [
        "## 보충 코드"
      ]
    },
    {
      "cell_type": "code",
      "metadata": {
        "id": "BUkVDXTJMkwc"
      },
      "source": [
        "n1000 = np.random.randint(0,10,1000)"
      ],
      "execution_count": 30,
      "outputs": []
    },
    {
      "cell_type": "code",
      "metadata": {
        "id": "xza_yV8nMshU"
      },
      "source": [
        "value, count= np.unique(n1000, return_counts=True)"
      ],
      "execution_count": 31,
      "outputs": []
    },
    {
      "cell_type": "code",
      "metadata": {
        "id": "al1pM1aK9Vk7"
      },
      "source": [
        ""
      ],
      "execution_count": null,
      "outputs": []
    }
  ]
}