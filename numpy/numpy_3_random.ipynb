{
  "nbformat": 4,
  "nbformat_minor": 0,
  "metadata": {
    "colab": {
      "name": "numpy_3_random.ipynb",
      "provenance": [],
      "collapsed_sections": [],
      "include_colab_link": true
    },
    "kernelspec": {
      "name": "python3",
      "display_name": "Python 3"
    }
  },
  "cells": [
    {
      "cell_type": "markdown",
      "metadata": {
        "id": "view-in-github",
        "colab_type": "text"
      },
      "source": [
        "<a href=\"https://colab.research.google.com/github/dayeong918/pdm011/blob/main/numpy/numpy_3_random.ipynb\" target=\"_parent\"><img src=\"https://colab.research.google.com/assets/colab-badge.svg\" alt=\"Open In Colab\"/></a>"
      ]
    },
    {
      "cell_type": "markdown",
      "metadata": {
        "id": "_zrirXHfgmyY"
      },
      "source": [
        "# numpy\n",
        "## random 서브모듈\n",
        "> [데이터싸이언스 스쿨:난수발생](https://datascienceschool.net/01%20python/03.05%20%EB%82%9C%EC%88%98%20%EB%B0%9C%EC%83%9D%EA%B3%BC%20%EC%B9%B4%EC%9A%B4%ED%8C%85.html)"
      ]
    },
    {
      "cell_type": "code",
      "metadata": {
        "id": "kQbzzSMZG2PX"
      },
      "source": [
        "import numpy as np"
      ],
      "execution_count": 1,
      "outputs": []
    },
    {
      "cell_type": "markdown",
      "metadata": {
        "id": "1Ry0YHkNFis5"
      },
      "source": [
        "## 난수 생성\n",
        "> NumPy의 random 서브모듈은 난수를 생성하는 다양한 명령을 제공.\n",
        "\n",
        "- rand: 0부터 1사이의 균일 분포 (uniform distribution)\n",
        "- randn: 가우시안 표준 정규 분포 (normal distribution, Gaussian)\n",
        "- randint: 균일 분포의 정수 난수 (uniform int)\n",
        "\n",
        "> randn()은 평균 0, 표준편차 1 인 가우시안 정규분포를 생성."
      ]
    },
    {
      "cell_type": "markdown",
      "metadata": {
        "id": "CtO1VxvurziR"
      },
      "source": [
        "### rand: 0부터 1사이의 균일 분포 (uniform distribution)"
      ]
    },
    {
      "cell_type": "code",
      "metadata": {
        "id": "LA1oF6aEG7kJ",
        "colab": {
          "base_uri": "https://localhost:8080/"
        },
        "outputId": "acec3102-12e8-4424-ae08-adedd9606772"
      },
      "source": [
        "np.random.rand(5)"
      ],
      "execution_count": 2,
      "outputs": [
        {
          "output_type": "execute_result",
          "data": {
            "text/plain": [
              "array([0.26098285, 0.28247806, 0.68927679, 0.61163188, 0.78291677])"
            ]
          },
          "metadata": {},
          "execution_count": 2
        }
      ]
    },
    {
      "cell_type": "code",
      "metadata": {
        "id": "H6f4ix3NHCyR",
        "colab": {
          "base_uri": "https://localhost:8080/"
        },
        "outputId": "c28b1950-1994-410a-aad7-a30ec7d8abfe"
      },
      "source": [
        "np.random.rand(5)"
      ],
      "execution_count": 3,
      "outputs": [
        {
          "output_type": "execute_result",
          "data": {
            "text/plain": [
              "array([0.27505978, 0.24109968, 0.08455014, 0.04286911, 0.65621831])"
            ]
          },
          "metadata": {},
          "execution_count": 3
        }
      ]
    },
    {
      "cell_type": "markdown",
      "metadata": {
        "id": "c88F6gf8r4K2"
      },
      "source": [
        "### randn: 가우시안 표준 정규 분포 (normal distribution, Gaussian)"
      ]
    },
    {
      "cell_type": "code",
      "metadata": {
        "id": "rtVfCL-uP2Tw",
        "colab": {
          "base_uri": "https://localhost:8080/"
        },
        "outputId": "fb8bbefd-cd86-4e59-98b3-36963e873ef5"
      },
      "source": [
        "np.random.randn(5)"
      ],
      "execution_count": 4,
      "outputs": [
        {
          "output_type": "execute_result",
          "data": {
            "text/plain": [
              "array([ 0.23193828,  1.04253924,  0.50244332, -1.19480063,  0.04584193])"
            ]
          },
          "metadata": {},
          "execution_count": 4
        }
      ]
    },
    {
      "cell_type": "markdown",
      "metadata": {
        "id": "wsvTzTFSsBSJ"
      },
      "source": [
        "### randint: 균일 분포의 정수 난수 (uniform int)\n",
        "- numpy.random.randint(low, high=None, size=None, dtype='l')"
      ]
    },
    {
      "cell_type": "code",
      "metadata": {
        "id": "WSvAH8uVs2Vb",
        "colab": {
          "base_uri": "https://localhost:8080/"
        },
        "outputId": "8e998a7c-46e9-4602-8992-5ec9e1d02bf5"
      },
      "source": [
        "np.random.randint(5)"
      ],
      "execution_count": 5,
      "outputs": [
        {
          "output_type": "execute_result",
          "data": {
            "text/plain": [
              "2"
            ]
          },
          "metadata": {},
          "execution_count": 5
        }
      ]
    },
    {
      "cell_type": "code",
      "metadata": {
        "id": "yxHhSg1XmMR6",
        "outputId": "cbd3264a-cff3-4ed7-9a0e-1a139f486059",
        "colab": {
          "base_uri": "https://localhost:8080/"
        }
      },
      "source": [
        "np.random.randint(1, 7)"
      ],
      "execution_count": 10,
      "outputs": [
        {
          "output_type": "execute_result",
          "data": {
            "text/plain": [
              "3"
            ]
          },
          "metadata": {},
          "execution_count": 10
        }
      ]
    },
    {
      "cell_type": "code",
      "metadata": {
        "id": "McWHW15uQDPr",
        "colab": {
          "base_uri": "https://localhost:8080/"
        },
        "outputId": "d4aa3828-1866-4f6e-fb66-49295326ecd8"
      },
      "source": [
        "np.random.randint(5,9) "
      ],
      "execution_count": 6,
      "outputs": [
        {
          "output_type": "execute_result",
          "data": {
            "text/plain": [
              "8"
            ]
          },
          "metadata": {},
          "execution_count": 6
        }
      ]
    },
    {
      "cell_type": "code",
      "metadata": {
        "id": "oBsWu9FmQQSC",
        "colab": {
          "base_uri": "https://localhost:8080/"
        },
        "outputId": "13c19b3e-acb8-41fb-a77d-e4fb4ab1c01a"
      },
      "source": [
        "np.random.randint(0,10,5)"
      ],
      "execution_count": 7,
      "outputs": [
        {
          "output_type": "execute_result",
          "data": {
            "text/plain": [
              "array([2, 6, 3, 7, 6])"
            ]
          },
          "metadata": {},
          "execution_count": 7
        }
      ]
    },
    {
      "cell_type": "code",
      "metadata": {
        "id": "0kNuJxjaQYEu",
        "colab": {
          "base_uri": "https://localhost:8080/"
        },
        "outputId": "065cedae-5e0a-4571-c926-252972edc7ed"
      },
      "source": [
        "np.random.randint(0,10,5)"
      ],
      "execution_count": 8,
      "outputs": [
        {
          "output_type": "execute_result",
          "data": {
            "text/plain": [
              "array([7, 7, 0, 2, 0])"
            ]
          },
          "metadata": {},
          "execution_count": 8
        }
      ]
    },
    {
      "cell_type": "markdown",
      "metadata": {
        "id": "K58DiNYUmANL"
      },
      "source": [
        "---"
      ]
    },
    {
      "cell_type": "markdown",
      "metadata": {
        "id": "xU5NWjQ3F_ld"
      },
      "source": [
        "## 난수 생성 seed 설정\n",
        "- numpy.random.seed(seed=None)\n",
        "- np.random.seed(number)"
      ]
    },
    {
      "cell_type": "code",
      "metadata": {
        "id": "AxUeYmQSQawG"
      },
      "source": [
        "np.random.seed()"
      ],
      "execution_count": 11,
      "outputs": []
    },
    {
      "cell_type": "code",
      "metadata": {
        "id": "C33YjKqvRJ33",
        "colab": {
          "base_uri": "https://localhost:8080/"
        },
        "outputId": "c7a0b45f-0534-4f6c-8008-d9586e2aac73"
      },
      "source": [
        "np.random.rand(5)"
      ],
      "execution_count": 12,
      "outputs": [
        {
          "output_type": "execute_result",
          "data": {
            "text/plain": [
              "array([0.84056384, 0.2143343 , 0.6155276 , 0.163228  , 0.00317548])"
            ]
          },
          "metadata": {},
          "execution_count": 12
        }
      ]
    },
    {
      "cell_type": "code",
      "metadata": {
        "id": "Ne8rIyN9RO81",
        "colab": {
          "base_uri": "https://localhost:8080/"
        },
        "outputId": "38994856-1da8-4e0f-eca4-342c6b2b5ae5"
      },
      "source": [
        "np.random.rand(5)"
      ],
      "execution_count": 13,
      "outputs": [
        {
          "output_type": "execute_result",
          "data": {
            "text/plain": [
              "array([0.33728019, 0.00366128, 0.55775746, 0.71632937, 0.54097355])"
            ]
          },
          "metadata": {},
          "execution_count": 13
        }
      ]
    },
    {
      "cell_type": "markdown",
      "metadata": {
        "id": "wnQ4gFoltu81"
      },
      "source": [
        "### 동일한 무작위수 생성\n",
        "- seed를 고정하고 무작위수 생성"
      ]
    },
    {
      "cell_type": "code",
      "metadata": {
        "id": "LGPOJGfgRSWx"
      },
      "source": [
        "np.random.seed(1234)"
      ],
      "execution_count": 14,
      "outputs": []
    },
    {
      "cell_type": "code",
      "metadata": {
        "id": "t2PNRUpfRXZk",
        "colab": {
          "base_uri": "https://localhost:8080/"
        },
        "outputId": "9d8d6984-735d-46a6-eba1-a83374297c4a"
      },
      "source": [
        "np.random.rand(5)"
      ],
      "execution_count": 15,
      "outputs": [
        {
          "output_type": "execute_result",
          "data": {
            "text/plain": [
              "array([0.19151945, 0.62210877, 0.43772774, 0.78535858, 0.77997581])"
            ]
          },
          "metadata": {},
          "execution_count": 15
        }
      ]
    },
    {
      "cell_type": "code",
      "metadata": {
        "id": "x8yKednV8CZy",
        "colab": {
          "base_uri": "https://localhost:8080/"
        },
        "outputId": "5c44642a-0491-49fd-e84b-dd88dcd84981"
      },
      "source": [
        "np.random.rand(5)"
      ],
      "execution_count": 16,
      "outputs": [
        {
          "output_type": "execute_result",
          "data": {
            "text/plain": [
              "array([0.27259261, 0.27646426, 0.80187218, 0.95813935, 0.87593263])"
            ]
          },
          "metadata": {},
          "execution_count": 16
        }
      ]
    },
    {
      "cell_type": "code",
      "metadata": {
        "id": "bo2A_ntYRcKw"
      },
      "source": [
        "np.random.seed(1234)"
      ],
      "execution_count": 17,
      "outputs": []
    },
    {
      "cell_type": "code",
      "metadata": {
        "id": "U5qXdwYQRYeT",
        "colab": {
          "base_uri": "https://localhost:8080/"
        },
        "outputId": "6117855a-75cd-461f-cab2-59e50a7e8277"
      },
      "source": [
        "np.random.rand(5)"
      ],
      "execution_count": 18,
      "outputs": [
        {
          "output_type": "execute_result",
          "data": {
            "text/plain": [
              "array([0.19151945, 0.62210877, 0.43772774, 0.78535858, 0.77997581])"
            ]
          },
          "metadata": {},
          "execution_count": 18
        }
      ]
    },
    {
      "cell_type": "markdown",
      "metadata": {
        "id": "pwMXGAwmRhpW"
      },
      "source": [
        "### seed 고정 후에 randint(5)"
      ]
    },
    {
      "cell_type": "code",
      "metadata": {
        "id": "tqmTOMMVRhGW",
        "colab": {
          "base_uri": "https://localhost:8080/"
        },
        "outputId": "351ce89b-3aa0-4c14-c7d1-ce982f5f74a7"
      },
      "source": [
        "np.random.seed(5678)\n",
        "np.random.randint(1,10,5)"
      ],
      "execution_count": 19,
      "outputs": [
        {
          "output_type": "execute_result",
          "data": {
            "text/plain": [
              "array([5, 8, 3, 5, 4])"
            ]
          },
          "metadata": {},
          "execution_count": 19
        }
      ]
    },
    {
      "cell_type": "code",
      "metadata": {
        "id": "YxQYjcOLSA-Z",
        "colab": {
          "base_uri": "https://localhost:8080/"
        },
        "outputId": "0dcb084d-f474-48eb-f12d-cddb48e8712b"
      },
      "source": [
        "np.random.randint(1,10,5)"
      ],
      "execution_count": 20,
      "outputs": [
        {
          "output_type": "execute_result",
          "data": {
            "text/plain": [
              "array([6, 3, 7, 4, 1])"
            ]
          },
          "metadata": {},
          "execution_count": 20
        }
      ]
    },
    {
      "cell_type": "code",
      "metadata": {
        "id": "aQYF5QpGSD6p",
        "colab": {
          "base_uri": "https://localhost:8080/"
        },
        "outputId": "b03db584-e317-48d0-ae49-49c50dbf5d89"
      },
      "source": [
        "np.random.seed(5678)\n",
        "np.random.randint(1,10,5)"
      ],
      "execution_count": 21,
      "outputs": [
        {
          "output_type": "execute_result",
          "data": {
            "text/plain": [
              "array([5, 8, 3, 5, 4])"
            ]
          },
          "metadata": {},
          "execution_count": 21
        }
      ]
    },
    {
      "cell_type": "code",
      "metadata": {
        "id": "cfIhMEcVSGKa",
        "colab": {
          "base_uri": "https://localhost:8080/"
        },
        "outputId": "5367731e-3fbe-40d6-afb5-360629d9914a"
      },
      "source": [
        "np.random.seed(5678)\n",
        "np.random.randint(1,10,5)"
      ],
      "execution_count": 22,
      "outputs": [
        {
          "output_type": "execute_result",
          "data": {
            "text/plain": [
              "array([5, 8, 3, 5, 4])"
            ]
          },
          "metadata": {},
          "execution_count": 22
        }
      ]
    },
    {
      "cell_type": "code",
      "metadata": {
        "id": "Ik9a-QkcfLwy",
        "colab": {
          "base_uri": "https://localhost:8080/"
        },
        "outputId": "074b8162-02f3-4bea-8ecf-63793269922e"
      },
      "source": [
        "# seed 변경\n",
        "np.random.seed(0)\n",
        "np.random.randint(1,10,5)"
      ],
      "execution_count": 23,
      "outputs": [
        {
          "output_type": "execute_result",
          "data": {
            "text/plain": [
              "array([6, 1, 4, 4, 8])"
            ]
          },
          "metadata": {},
          "execution_count": 23
        }
      ]
    },
    {
      "cell_type": "markdown",
      "metadata": {
        "id": "Zg3g31drmDMI"
      },
      "source": [
        "---\n",
        "---"
      ]
    },
    {
      "cell_type": "markdown",
      "metadata": {
        "id": "YNVh_pbhfROq"
      },
      "source": [
        "## DIY: 도전 코딩 - numpy 정리 과제\n",
        "- 생성된 마구잡이수를 조사하고 사용하기 \n",
        "- 9월19일 자정 마감."
      ]
    },
    {
      "cell_type": "markdown",
      "metadata": {
        "id": "vxNHFDSIgMmC"
      },
      "source": [
        "### [도전 1.] 0부터 9까지의 마구잡이 정수를 1000개 만들고 각 수의 빈도를 구하시오. "
      ]
    },
    {
      "cell_type": "code",
      "metadata": {
        "id": "qkDfXH1xgjBz",
        "colab": {
          "base_uri": "https://localhost:8080/"
        },
        "outputId": "cdcb020c-2f56-4b3a-bd1b-4a4d758b6251"
      },
      "source": [
        "# n1000=\n",
        "n1000 = np.random.randint(0,10,1000)\n",
        "n1000"
      ],
      "execution_count": 24,
      "outputs": [
        {
          "output_type": "execute_result",
          "data": {
            "text/plain": [
              "array([9, 3, 5, 2, 4, 7, 6, 8, 8, 1, 6, 7, 7, 8, 1, 5, 9, 8, 9, 4, 3, 0,\n",
              "       3, 5, 0, 2, 3, 8, 1, 3, 3, 3, 7, 0, 1, 9, 9, 0, 4, 7, 3, 2, 7, 2,\n",
              "       0, 0, 4, 5, 5, 6, 8, 4, 1, 4, 9, 8, 1, 1, 7, 9, 9, 3, 6, 7, 2, 0,\n",
              "       3, 5, 9, 4, 4, 6, 4, 4, 3, 4, 4, 8, 4, 3, 7, 5, 5, 0, 1, 5, 9, 3,\n",
              "       0, 5, 0, 1, 2, 4, 2, 0, 3, 2, 0, 7, 5, 9, 0, 2, 7, 2, 9, 2, 3, 3,\n",
              "       2, 3, 4, 1, 2, 9, 1, 4, 6, 8, 2, 3, 0, 0, 6, 0, 6, 3, 3, 8, 8, 8,\n",
              "       2, 3, 2, 0, 8, 8, 3, 8, 2, 8, 4, 3, 0, 4, 3, 6, 9, 8, 0, 8, 5, 9,\n",
              "       0, 9, 6, 5, 3, 1, 8, 0, 4, 9, 6, 5, 7, 8, 8, 9, 2, 8, 6, 6, 9, 1,\n",
              "       6, 8, 8, 3, 2, 3, 6, 3, 6, 5, 7, 0, 8, 4, 6, 5, 8, 2, 3, 9, 7, 5,\n",
              "       3, 4, 5, 3, 3, 7, 9, 9, 9, 7, 3, 2, 3, 9, 7, 7, 5, 1, 2, 2, 8, 1,\n",
              "       5, 8, 4, 0, 2, 5, 5, 0, 8, 1, 1, 0, 3, 8, 8, 4, 4, 0, 9, 3, 7, 3,\n",
              "       2, 1, 1, 2, 1, 4, 2, 5, 5, 5, 2, 5, 7, 7, 6, 1, 6, 7, 2, 3, 1, 9,\n",
              "       5, 9, 9, 2, 0, 9, 1, 9, 0, 6, 0, 4, 8, 4, 3, 3, 8, 8, 7, 0, 3, 8,\n",
              "       7, 7, 1, 8, 4, 7, 0, 4, 9, 0, 6, 4, 2, 4, 6, 3, 3, 7, 8, 5, 0, 8,\n",
              "       5, 4, 7, 4, 1, 3, 3, 9, 2, 5, 2, 3, 5, 7, 2, 7, 1, 6, 5, 0, 0, 3,\n",
              "       1, 9, 9, 6, 6, 7, 8, 8, 7, 0, 8, 6, 8, 9, 8, 3, 6, 1, 7, 4, 9, 2,\n",
              "       0, 8, 2, 7, 8, 4, 4, 1, 7, 6, 9, 4, 1, 5, 9, 7, 1, 3, 5, 7, 3, 6,\n",
              "       6, 7, 9, 1, 9, 6, 0, 3, 8, 4, 1, 4, 5, 0, 3, 1, 4, 4, 4, 0, 0, 8,\n",
              "       4, 6, 9, 3, 3, 2, 1, 2, 1, 3, 4, 1, 1, 0, 7, 8, 4, 3, 5, 6, 3, 2,\n",
              "       9, 8, 1, 4, 0, 8, 3, 9, 5, 5, 1, 7, 8, 6, 4, 7, 3, 5, 3, 6, 4, 7,\n",
              "       3, 0, 5, 9, 3, 7, 5, 5, 8, 0, 8, 3, 6, 9, 3, 2, 7, 0, 3, 0, 3, 6,\n",
              "       1, 9, 2, 9, 4, 9, 1, 3, 2, 4, 9, 7, 4, 9, 4, 1, 2, 7, 2, 3, 9, 7,\n",
              "       6, 6, 2, 3, 6, 0, 8, 0, 7, 6, 5, 9, 6, 5, 2, 7, 1, 9, 2, 2, 5, 6,\n",
              "       4, 2, 2, 1, 0, 9, 0, 2, 8, 3, 0, 8, 8, 1, 0, 5, 8, 2, 3, 5, 3, 8,\n",
              "       6, 4, 6, 3, 6, 2, 6, 5, 5, 9, 4, 6, 5, 1, 3, 3, 8, 9, 5, 5, 6, 0,\n",
              "       9, 7, 5, 1, 5, 6, 6, 8, 7, 5, 3, 2, 9, 9, 3, 2, 5, 4, 1, 5, 8, 3,\n",
              "       5, 8, 4, 1, 7, 8, 1, 2, 1, 1, 7, 5, 0, 4, 1, 1, 6, 6, 0, 2, 3, 7,\n",
              "       9, 2, 4, 9, 0, 6, 9, 2, 4, 7, 3, 0, 5, 4, 0, 2, 3, 1, 7, 1, 3, 4,\n",
              "       1, 7, 4, 0, 2, 7, 4, 0, 2, 6, 9, 2, 4, 9, 9, 5, 4, 4, 9, 8, 1, 5,\n",
              "       7, 0, 1, 3, 9, 2, 8, 2, 4, 8, 2, 9, 8, 7, 8, 2, 3, 3, 6, 0, 3, 6,\n",
              "       3, 9, 6, 3, 2, 2, 2, 6, 4, 6, 0, 4, 9, 2, 1, 6, 1, 7, 5, 6, 1, 6,\n",
              "       6, 6, 6, 2, 5, 2, 2, 3, 2, 9, 3, 8, 5, 4, 5, 1, 5, 8, 2, 9, 9, 5,\n",
              "       6, 4, 0, 8, 5, 5, 5, 1, 0, 0, 0, 0, 0, 7, 6, 3, 5, 4, 3, 4, 5, 1,\n",
              "       3, 6, 7, 4, 0, 0, 7, 3, 3, 0, 0, 9, 4, 4, 5, 8, 8, 0, 1, 5, 9, 9,\n",
              "       6, 1, 4, 0, 4, 7, 7, 7, 6, 2, 6, 0, 2, 7, 7, 2, 6, 1, 3, 7, 0, 5,\n",
              "       4, 5, 5, 3, 8, 0, 1, 5, 4, 1, 5, 0, 6, 8, 8, 6, 3, 4, 4, 3, 6, 5,\n",
              "       9, 8, 1, 3, 8, 1, 5, 8, 0, 3, 7, 1, 7, 8, 0, 7, 5, 9, 9, 6, 8, 7,\n",
              "       5, 9, 1, 0, 0, 5, 6, 3, 6, 1, 7, 7, 0, 7, 6, 0, 4, 2, 7, 5, 2, 8,\n",
              "       5, 6, 6, 4, 1, 5, 4, 5, 5, 6, 3, 8, 1, 4, 2, 9, 7, 4, 1, 8, 2, 3,\n",
              "       3, 4, 1, 6, 2, 5, 4, 9, 1, 5, 9, 4, 5, 7, 4, 4, 2, 2, 1, 3, 0, 1,\n",
              "       9, 1, 6, 9, 8, 6, 3, 0, 7, 3, 2, 5, 9, 7, 3, 4, 7, 6, 7, 3, 6, 9,\n",
              "       3, 7, 1, 3, 7, 8, 8, 4, 5, 3, 6, 9, 6, 2, 9, 3, 5, 7, 9, 0, 7, 1,\n",
              "       2, 5, 0, 5, 8, 9, 8, 2, 5, 3, 1, 7, 3, 8, 5, 5, 1, 9, 7, 2, 1, 0,\n",
              "       1, 0, 1, 1, 6, 8, 8, 3, 2, 0, 7, 4, 6, 0, 5, 3, 3, 9, 4, 9, 0, 6,\n",
              "       5, 3, 0, 0, 1, 2, 0, 2, 2, 9, 6, 7, 8, 9, 8, 2, 4, 7, 7, 5, 7, 2,\n",
              "       4, 1, 1, 1, 7, 9, 0, 9, 0, 2])"
            ]
          },
          "metadata": {},
          "execution_count": 24
        }
      ]
    },
    {
      "cell_type": "code",
      "metadata": {
        "id": "9_6nzbQD3FZi",
        "colab": {
          "base_uri": "https://localhost:8080/"
        },
        "outputId": "ff4f1aa5-8bd7-4aa3-b16a-6ebeaac3c99f"
      },
      "source": [
        "np.unique(n1000)"
      ],
      "execution_count": 25,
      "outputs": [
        {
          "output_type": "execute_result",
          "data": {
            "text/plain": [
              "array([0, 1, 2, 3, 4, 5, 6, 7, 8, 9])"
            ]
          },
          "metadata": {},
          "execution_count": 25
        }
      ]
    },
    {
      "cell_type": "code",
      "metadata": {
        "id": "eiw9R1243Rzp",
        "outputId": "d6053870-4d14-42cd-a00a-3baa60062448",
        "colab": {
          "base_uri": "https://localhost:8080/"
        }
      },
      "source": [
        "# 각 수의 빈도\n",
        "# 0 ~ 9 까지의 숫자의 빈도.\n",
        "num, unique_array = np.unique(n1000,return_counts=True)\n",
        "print(num, unique_array)\n",
        "\n",
        "for i in range(0,10):\n",
        "  print(num[i],\"의 빈도 수 : \",unique_array[i])"
      ],
      "execution_count": 41,
      "outputs": [
        {
          "output_type": "stream",
          "name": "stdout",
          "text": [
            "[0 1 2 3 4 5 6 7 8 9] [100  96  98 120  99 104  94  96  95  98]\n",
            "0 의 빈도 수 :  100\n",
            "1 의 빈도 수 :  96\n",
            "2 의 빈도 수 :  98\n",
            "3 의 빈도 수 :  120\n",
            "4 의 빈도 수 :  99\n",
            "5 의 빈도 수 :  104\n",
            "6 의 빈도 수 :  94\n",
            "7 의 빈도 수 :  96\n",
            "8 의 빈도 수 :  95\n",
            "9 의 빈도 수 :  98\n"
          ]
        }
      ]
    },
    {
      "cell_type": "markdown",
      "metadata": {
        "id": "cIhlY6-GghMN"
      },
      "source": [
        "### [도전 2.] 0부터 9까지의 마구잡이 정수를 1000개 만들고 각 수가 처음 출현하는 인덱스를 구하시오.\n",
        "> 0이 처음 나타날 때의 인덱스, 1이 처음 나타날 때의 인덱스, ... "
      ]
    },
    {
      "cell_type": "code",
      "metadata": {
        "id": "oA1ec_RjgL3X",
        "outputId": "e923bd1b-c9b6-4538-a767-ce71ba0a64d2",
        "colab": {
          "base_uri": "https://localhost:8080/"
        }
      },
      "source": [
        "# 각 수가 처음 출현하는 인덱스\n",
        "n1000[0], n1000[800]"
      ],
      "execution_count": 42,
      "outputs": [
        {
          "output_type": "execute_result",
          "data": {
            "text/plain": [
              "(9, 0)"
            ]
          },
          "metadata": {},
          "execution_count": 42
        }
      ]
    },
    {
      "cell_type": "code",
      "metadata": {
        "id": "yubibMMZ4AZS",
        "outputId": "35c5cd20-62a4-4d36-bfa9-e1c5109d0a01",
        "colab": {
          "base_uri": "https://localhost:8080/"
        }
      },
      "source": [
        "# n1000[index]\n",
        "# np.unique \n",
        "# return_index = True인 경우 고유한 값이 처음 나타나는 인덱스 배열을 반환한다.\n",
        "num, frst_index = np.unique(n1000,return_counts=True)\n",
        "print(frst_index)\n",
        "\n",
        "for i in range(0,10) :\n",
        "  print(num[i], \" : \",frst_index[i])"
      ],
      "execution_count": 48,
      "outputs": [
        {
          "output_type": "stream",
          "name": "stdout",
          "text": [
            "[ 93 107 107 108  97  98  89  95  90 116]\n",
            "0  :  93\n",
            "1  :  107\n",
            "2  :  107\n",
            "3  :  108\n",
            "4  :  97\n",
            "5  :  98\n",
            "6  :  89\n",
            "7  :  95\n",
            "8  :  90\n",
            "9  :  116\n"
          ]
        }
      ]
    },
    {
      "cell_type": "markdown",
      "metadata": {
        "id": "sadkRzWjgiTM"
      },
      "source": [
        "### [도전 3.] seed를 1234로 고정하고, 위의 도전1,2를 다시 해보시오. "
      ]
    },
    {
      "cell_type": "code",
      "metadata": {
        "id": "yHO5jObyqbIr"
      },
      "source": [
        "np.random.seed(1234)"
      ],
      "execution_count": 49,
      "outputs": []
    },
    {
      "cell_type": "code",
      "metadata": {
        "id": "IczR7jR5sKYX",
        "outputId": "f0ec646e-203d-498c-91d9-26b66b7887b7",
        "colab": {
          "base_uri": "https://localhost:8080/"
        }
      },
      "source": [
        "# [도전 1.] 0부터 9까지의 마구잡이 정수를 1000개 만들고 각 수의 빈도를 구하시오.\n",
        "# 정수 1000개 (0~9)\n",
        "n1000 = np.random.randint(0,10,1000)\n",
        "n1000"
      ],
      "execution_count": 52,
      "outputs": [
        {
          "output_type": "execute_result",
          "data": {
            "text/plain": [
              "array([5, 7, 0, 2, 3, 4, 8, 4, 3, 1, 8, 9, 1, 7, 2, 8, 5, 9, 3, 0, 0, 2,\n",
              "       3, 1, 6, 8, 7, 0, 1, 9, 7, 0, 1, 4, 8, 1, 9, 0, 2, 6, 2, 5, 6, 3,\n",
              "       5, 0, 0, 2, 1, 1, 1, 3, 8, 2, 2, 5, 4, 9, 4, 1, 3, 8, 4, 4, 0, 4,\n",
              "       5, 6, 9, 4, 5, 6, 6, 6, 7, 1, 1, 0, 5, 9, 2, 1, 3, 1, 5, 0, 3, 2,\n",
              "       0, 5, 4, 8, 3, 0, 7, 9, 6, 3, 4, 3, 7, 0, 9, 7, 3, 7, 6, 0, 4, 4,\n",
              "       3, 2, 7, 0, 0, 0, 4, 2, 3, 7, 9, 6, 9, 1, 3, 2, 6, 2, 1, 6, 7, 0,\n",
              "       3, 3, 6, 8, 0, 8, 9, 2, 9, 7, 6, 5, 8, 2, 6, 0, 6, 9, 5, 4, 0, 1,\n",
              "       8, 8, 6, 9, 5, 5, 1, 8, 5, 9, 4, 8, 4, 4, 7, 1, 9, 0, 1, 6, 8, 3,\n",
              "       1, 3, 6, 3, 5, 0, 3, 5, 1, 3, 8, 0, 7, 3, 3, 2, 4, 8, 8, 0, 7, 8,\n",
              "       0, 8, 6, 4, 2, 3, 0, 3, 1, 1, 6, 7, 8, 4, 9, 0, 4, 0, 9, 9, 8, 7,\n",
              "       1, 9, 6, 7, 7, 5, 7, 8, 1, 1, 9, 3, 9, 3, 3, 5, 8, 7, 3, 9, 0, 3,\n",
              "       9, 7, 0, 1, 3, 8, 0, 3, 5, 7, 1, 4, 5, 0, 1, 7, 9, 7, 3, 3, 9, 1,\n",
              "       7, 1, 5, 6, 8, 4, 9, 2, 0, 6, 1, 7, 0, 5, 4, 7, 7, 4, 8, 0, 7, 7,\n",
              "       6, 2, 2, 3, 2, 3, 5, 7, 2, 3, 7, 5, 7, 8, 9, 9, 7, 4, 9, 7, 8, 0,\n",
              "       2, 1, 7, 6, 5, 1, 8, 8, 1, 8, 6, 3, 5, 6, 0, 1, 2, 6, 5, 5, 5, 6,\n",
              "       0, 0, 6, 2, 0, 5, 2, 3, 7, 6, 6, 3, 3, 4, 4, 0, 7, 3, 3, 4, 6, 1,\n",
              "       9, 4, 6, 8, 7, 9, 3, 0, 4, 0, 9, 8, 8, 4, 8, 6, 9, 5, 1, 6, 2, 9,\n",
              "       5, 5, 9, 8, 2, 4, 2, 3, 1, 5, 1, 7, 5, 4, 7, 6, 7, 6, 5, 8, 3, 3,\n",
              "       8, 0, 8, 1, 0, 8, 6, 9, 6, 1, 9, 5, 3, 8, 6, 0, 4, 1, 8, 9, 9, 3,\n",
              "       0, 5, 7, 4, 5, 3, 6, 0, 2, 0, 4, 1, 3, 0, 7, 4, 0, 8, 8, 3, 6, 0,\n",
              "       1, 7, 5, 3, 5, 1, 3, 5, 7, 4, 9, 6, 6, 2, 1, 5, 2, 4, 3, 3, 7, 3,\n",
              "       1, 4, 4, 5, 9, 7, 9, 2, 2, 7, 9, 5, 0, 2, 7, 8, 8, 5, 4, 8, 1, 4,\n",
              "       5, 9, 9, 9, 4, 7, 4, 9, 3, 9, 4, 1, 7, 6, 4, 5, 9, 1, 9, 6, 4, 6,\n",
              "       0, 9, 1, 3, 7, 7, 9, 4, 3, 8, 8, 8, 9, 5, 5, 3, 7, 6, 5, 1, 0, 9,\n",
              "       4, 3, 9, 3, 3, 4, 0, 6, 8, 2, 0, 7, 6, 8, 7, 4, 1, 2, 7, 0, 2, 7,\n",
              "       7, 3, 8, 0, 6, 2, 5, 1, 9, 1, 9, 8, 2, 7, 2, 0, 4, 8, 2, 2, 3, 3,\n",
              "       4, 8, 1, 3, 3, 6, 9, 8, 8, 7, 0, 1, 3, 3, 7, 1, 6, 7, 2, 4, 6, 6,\n",
              "       5, 9, 4, 5, 3, 5, 4, 6, 7, 4, 6, 8, 0, 1, 1, 1, 2, 4, 4, 0, 7, 3,\n",
              "       1, 4, 0, 3, 4, 2, 3, 5, 0, 1, 6, 0, 5, 7, 0, 1, 1, 4, 1, 6, 7, 2,\n",
              "       4, 8, 4, 8, 7, 1, 6, 9, 3, 5, 7, 0, 0, 2, 8, 1, 3, 6, 9, 9, 0, 5,\n",
              "       4, 3, 3, 0, 4, 1, 0, 3, 1, 8, 5, 9, 9, 2, 6, 2, 1, 0, 3, 6, 4, 4,\n",
              "       5, 6, 3, 2, 0, 6, 0, 7, 3, 1, 8, 5, 6, 1, 2, 4, 1, 0, 5, 4, 0, 9,\n",
              "       5, 3, 5, 1, 6, 3, 8, 1, 0, 3, 7, 6, 5, 6, 2, 4, 5, 5, 3, 8, 1, 7,\n",
              "       4, 9, 8, 4, 9, 7, 0, 2, 5, 9, 5, 6, 4, 7, 0, 8, 7, 4, 2, 8, 3, 2,\n",
              "       5, 1, 9, 6, 5, 4, 7, 4, 3, 4, 5, 6, 5, 6, 9, 3, 5, 4, 6, 6, 5, 3,\n",
              "       2, 0, 5, 7, 4, 7, 8, 7, 8, 9, 9, 9, 2, 3, 1, 8, 5, 3, 4, 4, 0, 8,\n",
              "       4, 7, 8, 8, 0, 3, 7, 3, 3, 5, 8, 0, 9, 9, 6, 2, 5, 0, 8, 8, 5, 7,\n",
              "       6, 1, 4, 1, 4, 4, 9, 6, 5, 1, 3, 0, 1, 1, 8, 5, 6, 6, 1, 9, 3, 0,\n",
              "       6, 4, 1, 4, 5, 4, 7, 8, 3, 6, 8, 4, 8, 9, 3, 7, 8, 9, 7, 9, 1, 5,\n",
              "       1, 6, 6, 3, 7, 6, 9, 5, 1, 4, 5, 8, 5, 4, 4, 7, 3, 8, 4, 7, 5, 1,\n",
              "       5, 6, 0, 9, 2, 9, 9, 5, 4, 1, 1, 4, 7, 8, 4, 2, 8, 8, 1, 4, 0, 4,\n",
              "       5, 3, 2, 9, 5, 0, 4, 6, 9, 6, 9, 0, 2, 0, 0, 3, 1, 1, 4, 5, 9, 2,\n",
              "       1, 4, 4, 7, 2, 7, 1, 5, 6, 3, 3, 3, 4, 6, 6, 1, 9, 8, 4, 1, 7, 9,\n",
              "       2, 1, 8, 9, 7, 7, 4, 5, 0, 3, 2, 5, 4, 9, 0, 9, 2, 6, 0, 4, 8, 1,\n",
              "       9, 0, 6, 1, 8, 7, 3, 4, 2, 5, 8, 9, 0, 0, 6, 1, 6, 3, 4, 4, 7, 1,\n",
              "       2, 1, 1, 8, 0, 1, 3, 7, 4, 7])"
            ]
          },
          "metadata": {},
          "execution_count": 52
        }
      ]
    },
    {
      "cell_type": "code",
      "metadata": {
        "id": "QICS5I0Es5DU",
        "outputId": "db441b1d-bd56-433a-ff38-dd5679b3e150",
        "colab": {
          "base_uri": "https://localhost:8080/"
        }
      },
      "source": [
        "# [도전 1.] 0부터 9까지의 마구잡이 정수를 1000개 만들고 각 수의 빈도를 구하시오.\n",
        "\n",
        "num2, unique_array2 = np.unique(n1000,return_counts=True)\n",
        "print(num2, unique_array2)\n",
        "\n",
        "for i in range(0,10):\n",
        "  print(num2[i],\"의 빈도 수 : \",unique_array2[i])"
      ],
      "execution_count": 53,
      "outputs": [
        {
          "output_type": "stream",
          "name": "stdout",
          "text": [
            "[0 1 2 3 4 5 6 7 8 9] [102 109  71 113 115  99  97 101  96  97]\n",
            "0 의 빈도 수 :  102\n",
            "1 의 빈도 수 :  109\n",
            "2 의 빈도 수 :  71\n",
            "3 의 빈도 수 :  113\n",
            "4 의 빈도 수 :  115\n",
            "5 의 빈도 수 :  99\n",
            "6 의 빈도 수 :  97\n",
            "7 의 빈도 수 :  101\n",
            "8 의 빈도 수 :  96\n",
            "9 의 빈도 수 :  97\n"
          ]
        }
      ]
    },
    {
      "cell_type": "code",
      "metadata": {
        "id": "Tq5y48XwsKLH",
        "outputId": "7c177d9e-3fab-43b4-81e8-367f0b8c340a",
        "colab": {
          "base_uri": "https://localhost:8080/"
        }
      },
      "source": [
        "# [도전 2.] 0부터 9까지의 마구잡이 정수를 1000개 만들고 각 수가 처음 출현하는 인덱스를 구하시오\n",
        "num2, frst_index2 = np.unique(n1000,return_counts=True)\n",
        "print(frst_index2)\n",
        "\n",
        "for i in range(0,10) :\n",
        "  print(num2[i], \" : \",frst_index2[i])"
      ],
      "execution_count": 54,
      "outputs": [
        {
          "output_type": "stream",
          "name": "stdout",
          "text": [
            "[102 109  71 113 115  99  97 101  96  97]\n",
            "0  :  102\n",
            "1  :  109\n",
            "2  :  71\n",
            "3  :  113\n",
            "4  :  115\n",
            "5  :  99\n",
            "6  :  97\n",
            "7  :  101\n",
            "8  :  96\n",
            "9  :  97\n"
          ]
        }
      ]
    },
    {
      "cell_type": "markdown",
      "metadata": {
        "id": "zAGojAainnox"
      },
      "source": [
        "### [도전 4.] 0부터 999까지의 마구잡이 정수로 구성되는 28X28 이차원배열을 만드시오.\n",
        "- 시드를 고정 : np.random.seed(1234)\n",
        "1. 각 행의 최대값, 최소갑을 구하시오.\n",
        "2. 배열 전체의 최대값, 최소값을 구하시오.\n",
        "3. 배열전체의 최대값, 최소값의 index를 각각 찾으시오."
      ]
    },
    {
      "cell_type": "markdown",
      "metadata": {
        "id": "VoSu8rNOnwPU"
      },
      "source": [
        "---\n",
        "---"
      ]
    },
    {
      "cell_type": "code",
      "metadata": {
        "id": "RJ-ACAh2sHFY",
        "outputId": "273943e7-030f-4ac3-d456-8dea56cd0ae5",
        "colab": {
          "base_uri": "https://localhost:8080/"
        }
      },
      "source": [
        "import numpy as np\n",
        "\n",
        "np.random.seed(1234)\n",
        "n1000 = np.random.randint(0,999,size=(28,28)) # 0~999, (28X28)\n",
        "print(n1000.ndim) # 2차원 배열\n",
        "print(n1000) "
      ],
      "execution_count": 60,
      "outputs": [
        {
          "output_type": "stream",
          "name": "stdout",
          "text": [
            "2\n",
            "[[815 723 294  53 204 372 664 655 689 279 233 154  30 683 158 748 892 794\n",
            "  374 442 120 880 476 325 336 969 383 246]\n",
            " [510 431 562 752 763  76 293 802 934 506 195 743 139 640 745 843 336   3\n",
            "  258 275 908 961 459 371 619 465  14 243]\n",
            " [455 828 490 619 942 924  81 855 781 116 608 908 197 625 991 997 671 761\n",
            "  601  84  45 528  41 840 440 236 838 952]\n",
            " [ 86 940 986 979 303 689  18 597 686 482 805 365 806 135 996 707 901 750\n",
            "  559 244 374 687 911 546  10 284   4  82]\n",
            " [103 345 311 235 334 663 434 761 574 183 340 617 256 633 354 761 346 417\n",
            "  882 377 497 789 967 196 119 465 250 436]\n",
            " [448 469 372 873 626 425   1 142 771 798 396 713 877 787  26 992  68 891\n",
            "  996 832 150 440 980 136 684 753 920 990]\n",
            " [745 527 840 898 400 619 130 754 591 195  46 482 825 439 292 600 673 377\n",
            "  682 514 471 365 212 291 786 332 965 117]\n",
            " [593 208 520 493  75  15 788 784 448 573 881 864 638 211 313 561 318 953\n",
            "  211 667 343 233 931 164 596 317 540 257]\n",
            " [779 702 509 657 286 806  98 921 568 487 408  12 460 864 520 303 855 793\n",
            "  749 789 150 429 531  41 431 932 551 913]\n",
            " [295 955 210 379 165  98  87 550 904 694 657 553 303 659 939 940 547 938\n",
            "  404 794 345 107 919 642 744 577 729 283]\n",
            " [974 580 987 316 874 259 209 687 957 447  32 887 909 312  48 617 314 350\n",
            "  931 953 316 595 505 368 757 649 572 178]\n",
            " [819 433 106 711 721 260   3 127 600 558 606 509 431 575  84   5 723 380\n",
            "  584 840 447 696 526 337 739 316 358 264]\n",
            " [ 41 673 837 728 575 877 628 785 513   1 130 691 333 692 114 861 654 237\n",
            "  943 203 193 669 521 608 336 946 785  31]\n",
            " [508 863 381 970 494 907 418 565 857 472 920 478 991 439 565  23 383 186\n",
            "  224 784 758 774 465 462 953 132 814 459]\n",
            " [390 727 402 944 935 144 994 584 174 564 424 243 941 770 700 788 615 471\n",
            "  458 507 844 826 384 554 913 177  16 944]\n",
            " [ 80 849 460 863 191 561 527 665 468 873 409 325 306 110 655 852 717  46\n",
            "  763 529 896 707 677  82 542 666 316 943]\n",
            " [963 435 933 900 549 506 875 292 592 517 822 759 730 191 211 844 140 545\n",
            "   85 388 101 617 433 814 695 102 611 787]\n",
            " [943 364 252 810 304 763 364  90 432   2  35  46 161 508  38 737 707 430\n",
            "  826 933 454 162 374 198 809 922  10 855]\n",
            " [280 457 524 700 257 861 179 758 134  18 946 429 548 634 857 627 814  43\n",
            "  973 744  55 917 542 462  97 698 381 291]\n",
            " [465 563 560 734 478 898 429 575   0 223  19 517 674 922 399 134 575 635\n",
            "  358 102 468 657 848 343 212 810  26 731]\n",
            " [481 888 606 213 238  25 172 653 557 182 715 306 862 300  88  74 332 407\n",
            "  105 138 599 893 567 828 211  15 926 710]\n",
            " [549 566 715  79 568   6 309 457 865 745 434  74 705 302 321 261 464 130\n",
            "  835 447 936 152 129 253 451 231   3 621]\n",
            " [229 510 961 997 970 620 534 857 251 269 565 303 960 268  81 531  53 861\n",
            "  360  41 217 215 184 136 249 526 756 260]\n",
            " [988 289  53 654 475 299 796  68 710 714 856 747 263 233 559  84 383 284\n",
            "  273 701 391 695 448 751 884  31 886 698]\n",
            " [561 251 745 476 539 353 798  43 961 729 816 792 737  15   3  26 583 338\n",
            "  872 943 893 847 451 562 236 370 179 692]\n",
            " [177 998 941  43 707 891 623 618 773  91 254 546 332 820 594 193 947 185\n",
            "  327 825 983 274 773 151 781  59 974 666]\n",
            " [863 661 296 997 528 372 144 249 835 609 223 720 144 604 430 502 333 452\n",
            "  211 532 635 751 762 747 321 184  54 168]\n",
            " [647 529  79 629 939 173 877 295 569  13 897 591 748 629 390 379 149 625\n",
            "  966 416 249 242 732 994 812 625 676 473]]\n"
          ]
        }
      ]
    },
    {
      "cell_type": "markdown",
      "metadata": {
        "id": "mUnsvOzpvFl6"
      },
      "source": [
        "#### 1. 각 행의 최대값, 최소값을 구하시오."
      ]
    },
    {
      "cell_type": "code",
      "metadata": {
        "id": "PJsQQ7BgtlRh",
        "outputId": "75591605-3eb6-468f-89e8-f52466bc5be7",
        "colab": {
          "base_uri": "https://localhost:8080/"
        }
      },
      "source": [
        "np.min(n1000)\n",
        "np.max(n1000)\n",
        "\n",
        "print(np.amax(n1000,axis=0))\n",
        "print(np.amin(n1000,axis=0))"
      ],
      "execution_count": 65,
      "outputs": [
        {
          "output_type": "stream",
          "name": "stdout",
          "text": [
            "[988 998 987 997 970 924 994 921 961 873 946 908 991 922 996 997 947 953\n",
            " 996 953 983 961 980 994 953 969 974 990]\n",
            "[ 41 208  53  43  75   6   1  43   0   1  19  12  30  15   3   5  53   3\n",
            "  85  41  45 107  41  41  10  15   3  31]\n"
          ]
        }
      ]
    },
    {
      "cell_type": "markdown",
      "metadata": {
        "id": "nt8AYBeuwGcq"
      },
      "source": [
        "#### 2. 배열 전체의 최대값, 최소값을 구하시오."
      ]
    },
    {
      "cell_type": "code",
      "metadata": {
        "id": "eE4VAvnAwJb2",
        "outputId": "42f8d78a-417a-4354-fb69-c070057483a8",
        "colab": {
          "base_uri": "https://localhost:8080/"
        }
      },
      "source": [
        "print(n1000.min())\n",
        "print(n1000.max())"
      ],
      "execution_count": 66,
      "outputs": [
        {
          "output_type": "stream",
          "name": "stdout",
          "text": [
            "0\n",
            "998\n"
          ]
        }
      ]
    },
    {
      "cell_type": "markdown",
      "metadata": {
        "id": "eHa2ZIZtwJ5c"
      },
      "source": [
        "#### 3. 배열전체의 최대값, 최소값의 index를 각각 찾으시오."
      ]
    },
    {
      "cell_type": "code",
      "metadata": {
        "id": "tCrYNPvFwMwO",
        "outputId": "8aa5429b-3a9b-4fc8-f2d4-b44b0fc44010",
        "colab": {
          "base_uri": "https://localhost:8080/"
        }
      },
      "source": [
        "print(n1000.argmin())\n",
        "print(n1000.argmax())"
      ],
      "execution_count": 67,
      "outputs": [
        {
          "output_type": "stream",
          "name": "stdout",
          "text": [
            "540\n",
            "701\n"
          ]
        }
      ]
    },
    {
      "cell_type": "markdown",
      "metadata": {
        "id": "ozoCcRquhg4p"
      },
      "source": [
        "## python graphics\n",
        "- matplotlib\n",
        "> import matplotlib.pyplot as plt"
      ]
    },
    {
      "cell_type": "markdown",
      "metadata": {
        "id": "h6yEJiGJ4Lbk"
      },
      "source": [
        "### 무작위수 분포 그려보기"
      ]
    },
    {
      "cell_type": "code",
      "metadata": {
        "id": "ngcwuNlfhrIQ"
      },
      "source": [
        "import matplotlib.pyplot as plt"
      ],
      "execution_count": 68,
      "outputs": []
    },
    {
      "cell_type": "code",
      "metadata": {
        "id": "jr30IHxvJDuE",
        "outputId": "c3f96d9d-58d9-43d4-e0e0-87480687dbf0",
        "colab": {
          "base_uri": "https://localhost:8080/",
          "height": 265
        }
      },
      "source": [
        "plt.hist(n1000,label=range(0,10), color='red')\n",
        "plt.show()"
      ],
      "execution_count": 20,
      "outputs": [
        {
          "output_type": "display_data",
          "data": {
            "image/png": "[encoded data removed]",
            "text/plain": [
              "<Figure size 432x288 with 1 Axes>"
            ]
          },
          "metadata": {
            "needs_background": "light"
          }
        }
      ]
    },
    {
      "cell_type": "markdown",
      "metadata": {
        "id": "b-JcgSU-Ktyz"
      },
      "source": [
        "### [도전] 균일분포와 정규분포를 비교하는 그림을 그리시오."
      ]
    },
    {
      "cell_type": "code",
      "metadata": {
        "id": "k0XaT2f9JGZy",
        "outputId": "a6f65294-40dc-42d6-e891-9599ba078837",
        "colab": {
          "base_uri": "https://localhost:8080/",
          "height": 350
        }
      },
      "source": [
        "plt.hist(np.random.rand(1000))"
      ],
      "execution_count": 69,
      "outputs": [
        {
          "output_type": "execute_result",
          "data": {
            "text/plain": [
              "(array([122., 107.,  90.,  86., 111.,  93.,  87.,  93., 111., 100.]),\n",
              " array([0.00154376, 0.10138576, 0.20122775, 0.30106975, 0.40091175,\n",
              "        0.50075374, 0.60059574, 0.70043774, 0.80027973, 0.90012173,\n",
              "        0.99996372]),\n",
              " <a list of 10 Patch objects>)"
            ]
          },
          "metadata": {},
          "execution_count": 69
        },
        {
          "output_type": "display_data",
          "data": {
            "image/png": "[encoded data removed]",
            "text/plain": [
              "<Figure size 432x288 with 1 Axes>"
            ]
          },
          "metadata": {
            "needs_background": "light"
          }
        }
      ]
    },
    {
      "cell_type": "code",
      "metadata": {
        "id": "T8SCqKVeMhBF",
        "outputId": "400d11f8-b7df-40e6-add1-f8214dd0c68d",
        "colab": {
          "base_uri": "https://localhost:8080/",
          "height": 350
        }
      },
      "source": [
        "plt.hist(np.random.randn(1000))"
      ],
      "execution_count": 70,
      "outputs": [
        {
          "output_type": "execute_result",
          "data": {
            "text/plain": [
              "(array([  3.,   2.,  30.,  90., 206., 267., 223., 133.,  39.,   7.]),\n",
              " array([-3.98136477, -3.2703616 , -2.55935843, -1.84835526, -1.13735209,\n",
              "        -0.42634893,  0.28465424,  0.99565741,  1.70666058,  2.41766375,\n",
              "         3.12866692]),\n",
              " <a list of 10 Patch objects>)"
            ]
          },
          "metadata": {},
          "execution_count": 70
        },
        {
          "output_type": "display_data",
          "data": {
            "image/png": "[encoded data removed]",
            "text/plain": [
              "<Figure size 432x288 with 1 Axes>"
            ]
          },
          "metadata": {
            "needs_background": "light"
          }
        }
      ]
    },
    {
      "cell_type": "markdown",
      "metadata": {
        "id": "LYthn3089aqD"
      },
      "source": [
        "## 보충 코드"
      ]
    },
    {
      "cell_type": "code",
      "metadata": {
        "id": "BUkVDXTJMkwc"
      },
      "source": [
        "n1000 = np.random.randint(0,10,1000)"
      ],
      "execution_count": 71,
      "outputs": []
    },
    {
      "cell_type": "code",
      "metadata": {
        "id": "xza_yV8nMshU"
      },
      "source": [
        "value, count= np.unique(n1000, return_counts=True)"
      ],
      "execution_count": 72,
      "outputs": []
    }
  ]
}