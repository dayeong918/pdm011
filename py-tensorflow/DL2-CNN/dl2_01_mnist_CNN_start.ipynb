{
  "nbformat": 4,
  "nbformat_minor": 0,
  "metadata": {
    "accelerator": "GPU",
    "colab": {
      "name": "dl2-01-mnist-CNN-start.ipynb",
      "provenance": [],
      "collapsed_sections": [],
      "include_colab_link": true
    },
    "interpreter": {
      "hash": "3834ce636a3ba6c6c2bd8b9b527c48eede78c367f849f6cce666ea7f1d26e2fb"
    },
    "kernelspec": {
      "display_name": "Python 3.8.5 64-bit ('base': conda)",
      "name": "python3"
    },
    "language_info": {
      "codemirror_mode": {
        "name": "ipython",
        "version": 3
      },
      "file_extension": ".py",
      "mimetype": "text/x-python",
      "name": "python",
      "nbconvert_exporter": "python",
      "pygments_lexer": "ipython3",
      "version": "3.8.5"
    }
  },
  "cells": [
    {
      "cell_type": "markdown",
      "metadata": {
        "id": "view-in-github",
        "colab_type": "text"
      },
      "source": [
        "<a href=\"https://colab.research.google.com/github/dayeong918/pdm011/blob/main/py-tensorflow/DL2-CNN/dl2_01_mnist_CNN_start.ipynb\" target=\"_parent\"><img src=\"https://colab.research.google.com/assets/colab-badge.svg\" alt=\"Open In Colab\"/></a>"
      ]
    },
    {
      "cell_type": "markdown",
      "metadata": {
        "id": "rswfCVLZ-QW0"
      },
      "source": [
        "# **CNN model of mnist dataset**\n",
        "- Conv2D + FCN\n",
        "    * Conv2D : 2차원 합성곱 필터링 + 풀링(Pooling)\n",
        "    - > 2차원 필터로 영상을 대표하는 특징을 추출\n",
        "    * FCN : 1차원 완전연결신경망\n",
        "    - > Conv2D에서 추출된 대표 특징들을 이용하여 FCN으로 최종 학습 완료\n",
        "\n",
        "***\n",
        "\n",
        "![mnist_NN_2_layers](https://img1.daumcdn.net/thumb/R1280x0/?scode=mtistory2&fname=https%3A%2F%2Fblog.kakaocdn.net%2Fdn%2FdJp5Z6%2FbtqAPebnF3x%2FQCe5vVcskhmxe964bGz4iK%2Fimg.png)\n",
        "\n",
        "(source: https://img1.daumcdn.net/thumb/R1280x0/?scode=mtistory2&fname=https%3A%2F%2Fblog.kakaocdn.net%2Fdn%2FdJp5Z6%2FbtqAPebnF3x%2FQCe5vVcskhmxe964bGz4iK%2Fimg.png)"
      ]
    },
    {
      "cell_type": "code",
      "metadata": {
        "id": "8GgGzPXPVyfa",
        "colab": {
          "base_uri": "https://localhost:8080/"
        },
        "outputId": "1def50f2-79bf-425e-8046-adf09522889f"
      },
      "source": [
        "import numpy as np\n",
        "import tensorflow as tf\n",
        "from tensorflow import keras\n",
        "import pandas as pd\n",
        "import matplotlib.pyplot as plt\n",
        "# %matplotlib inline\n",
        "\n",
        "print(tf.__version__)"
      ],
      "execution_count": 1,
      "outputs": [
        {
          "output_type": "stream",
          "name": "stdout",
          "text": [
            "2.7.0\n"
          ]
        }
      ]
    },
    {
      "cell_type": "markdown",
      "metadata": {
        "id": "-0IOOUM14Jk1"
      },
      "source": [
        "## **데이터 로딩, 정규화**"
      ]
    },
    {
      "cell_type": "code",
      "metadata": {
        "id": "N1ogJ7I64Fz-",
        "colab": {
          "base_uri": "https://localhost:8080/"
        },
        "outputId": "772eff1c-d144-46ad-8db8-089dba9d49b1"
      },
      "source": [
        "from keras.datasets import mnist\n",
        "\n",
        "(X_train0, y_train0), (X_test0, y_test0) = mnist.load_data()\n",
        "\n",
        "# Reshape\n",
        "X_train = X_train0.reshape(60000,28,28,1)\n",
        "X_test = X_test0.reshape(10000,28,28,1)\n",
        "\n",
        "# Normalization\n",
        "X_train, X_test = X_train/255.0, X_test/255.0 # 정규화\n",
        "\n",
        "print(\"X_train={0}\".format(X_train.shape))\n",
        "print(\"y_train={0}\".format(y_train0.shape)) \n",
        "print(\"X_test={0}\".format(X_test.shape))\n",
        "print(\"y_test={0}\".format(y_test0.shape))"
      ],
      "execution_count": 2,
      "outputs": [
        {
          "output_type": "stream",
          "name": "stdout",
          "text": [
            "Downloading data from https://storage.googleapis.com/tensorflow/tf-keras-datasets/mnist.npz\n",
            "11493376/11490434 [==============================] - 0s 0us/step\n",
            "11501568/11490434 [==============================] - 0s 0us/step\n",
            "X_train=(60000, 28, 28, 1)\n",
            "y_train=(60000,)\n",
            "X_test=(10000, 28, 28, 1)\n",
            "y_test=(10000,)\n"
          ]
        }
      ]
    },
    {
      "cell_type": "code",
      "metadata": {
        "id": "F46-QZqJHiQ6",
        "colab": {
          "base_uri": "https://localhost:8080/"
        },
        "outputId": "59623287-1be7-4705-85a7-f20de5ddac46"
      },
      "source": [
        "# One-Hot-Encoding\n",
        "# Use function to_categorical() to do One-Hot-Encoding\n",
        "# tf.keras.utils.to_categorical\n",
        "from tensorflow.keras.utils import to_categorical\n",
        "\n",
        "y_train = to_categorical(y_train0, 10)\n",
        "y_test = to_categorical(y_test0, 10)\n",
        "y_train.shape,y_test.shape"
      ],
      "execution_count": 3,
      "outputs": [
        {
          "output_type": "execute_result",
          "data": {
            "text/plain": [
              "((60000, 10), (10000, 10))"
            ]
          },
          "metadata": {},
          "execution_count": 3
        }
      ]
    },
    {
      "cell_type": "markdown",
      "metadata": {
        "id": "5z7SozStigmF"
      },
      "source": [
        "### Display numbers\n",
        "- 10 representative numbers"
      ]
    },
    {
      "cell_type": "code",
      "metadata": {
        "id": "IK7XT3XoirSL",
        "colab": {
          "base_uri": "https://localhost:8080/",
          "height": 509
        },
        "outputId": "6e47c47e-2eb5-47f8-b83f-9b398704ad2e"
      },
      "source": [
        "class_names = [\"0\",\"1\",\"2\",\"3\",\"4\",\"5\",\"6\",\"7\",\"8\",\"9\"]\n",
        "fig = plt.figure(figsize=(10,6))\n",
        "for i in range(10):\n",
        "    plt.subplot(2, 5, i+1)\n",
        "    num0_9 = X_train0[y_train0 == i]\n",
        "    print(num0_9.shape)\n",
        "    plt.imshow(num0_9[0]) #, cmap='gray') #, interpolation='none')\n",
        "    plt.title(\"Class - %d\" % (i))\n",
        "    plt.xticks([])\n",
        "    plt.yticks([])\n",
        "\n",
        "\n"
      ],
      "execution_count": 4,
      "outputs": [
        {
          "output_type": "stream",
          "name": "stdout",
          "text": [
            "(5923, 28, 28)\n",
            "(6742, 28, 28)\n",
            "(5958, 28, 28)\n",
            "(6131, 28, 28)\n",
            "(5842, 28, 28)\n",
            "(5421, 28, 28)\n",
            "(5918, 28, 28)\n",
            "(6265, 28, 28)\n",
            "(5851, 28, 28)\n",
            "(5949, 28, 28)\n"
          ]
        },
        {
          "output_type": "display_data",
          "data": {
            "image/png": "[encoded data removed]",
            "text/plain": [
              "<Figure size 720x432 with 10 Axes>"
            ]
          },
          "metadata": {}
        }
      ]
    },
    {
      "cell_type": "markdown",
      "metadata": {
        "id": "55DYVfFXi0WR"
      },
      "source": [
        "# Design CNN"
      ]
    },
    {
      "cell_type": "markdown",
      "metadata": {
        "id": "iPcLIcUCcsiG"
      },
      "source": [
        "### import Conv2D, MaxPool2D"
      ]
    },
    {
      "cell_type": "code",
      "metadata": {
        "id": "NzqMC4Xtc3ZE"
      },
      "source": [
        "from keras.layers import Conv2D, MaxPool2D, Flatten"
      ],
      "execution_count": 5,
      "outputs": []
    },
    {
      "cell_type": "markdown",
      "metadata": {
        "id": "pkaGYiPY4L4J"
      },
      "source": [
        "## **CNN1 + FCN2**\n",
        "- CNN1: Conv2D + MaxPooling2D\n",
        "- FCN2: Dense(128) + Output(8) "
      ]
    },
    {
      "cell_type": "code",
      "metadata": {
        "id": "geFXhA13rRTr"
      },
      "source": [
        "# Random number seed\n",
        "np.random.seed(1234)\n",
        "tf.random.set_seed(1234)"
      ],
      "execution_count": 6,
      "outputs": []
    },
    {
      "cell_type": "code",
      "metadata": {
        "id": "-LL0E4UX4Nj-"
      },
      "source": [
        "c1f2 = keras.models.Sequential([ \n",
        "    Conv2D(input_shape=(28,28,1), filters= 32, \n",
        "            kernel_size=(3,3),strides=(1,1),padding='same',activation='relu'),\n",
        "    MaxPool2D(pool_size=(2,2), strides=(2,2)), \n",
        "    Flatten(),\n",
        "    keras.layers.Dense(128, activation='relu'),  \n",
        "    keras.layers.Dropout(0.25), \n",
        "    keras.layers.Dense(10, activation='softmax')\n",
        "])\n",
        "\n",
        "c1f2.compile(optimizer='adam',\n",
        "              loss='categorical_crossentropy',\n",
        "              metrics=['accuracy']) "
      ],
      "execution_count": 13,
      "outputs": []
    },
    {
      "cell_type": "code",
      "metadata": {
        "id": "3r9oCDEN4UGu",
        "colab": {
          "base_uri": "https://localhost:8080/"
        },
        "outputId": "b40e3338-8d00-42e4-f623-ac9f25540d68"
      },
      "source": [
        "c1f2.summary()"
      ],
      "execution_count": 14,
      "outputs": [
        {
          "output_type": "stream",
          "name": "stdout",
          "text": [
            "Model: \"sequential_1\"\n",
            "_________________________________________________________________\n",
            " Layer (type)                Output Shape              Param #   \n",
            "=================================================================\n",
            " conv2d_1 (Conv2D)           (None, 28, 28, 32)        320       \n",
            "                                                                 \n",
            " max_pooling2d_1 (MaxPooling  (None, 14, 14, 32)       0         \n",
            " 2D)                                                             \n",
            "                                                                 \n",
            " flatten (Flatten)           (None, 6272)              0         \n",
            "                                                                 \n",
            " dense_2 (Dense)             (None, 128)               802944    \n",
            "                                                                 \n",
            " dropout_1 (Dropout)         (None, 128)               0         \n",
            "                                                                 \n",
            " dense_3 (Dense)             (None, 10)                1290      \n",
            "                                                                 \n",
            "=================================================================\n",
            "Total params: 804,554\n",
            "Trainable params: 804,554\n",
            "Non-trainable params: 0\n",
            "_________________________________________________________________\n"
          ]
        }
      ]
    },
    {
      "cell_type": "code",
      "metadata": {
        "id": "adOv9IzurRTt",
        "colab": {
          "base_uri": "https://localhost:8080/",
          "height": 754
        },
        "outputId": "d0118ae3-be18-4e1c-907d-5b363459fa5c"
      },
      "source": [
        "# Plot model\n",
        "from tensorflow.keras.utils import plot_model\n",
        "plot_model(c1f2, show_shapes=True, show_layer_names=True, to_file='model_c1f2.png')"
      ],
      "execution_count": 15,
      "outputs": [
        {
          "output_type": "execute_result",
          "data": {
            "image/png": "[encoded data removed]",
            "text/plain": [
              "<IPython.core.display.Image object>"
            ]
          },
          "metadata": {},
          "execution_count": 15
        }
      ]
    },
    {
      "cell_type": "code",
      "metadata": {
        "id": "E5P-W0384WCv",
        "colab": {
          "base_uri": "https://localhost:8080/"
        },
        "outputId": "a78523af-2508-4687-8a34-2305d24d6311"
      },
      "source": [
        "c1f2.fit(X_train, y_train, epochs = 20,  batch_size = 100, \n",
        "            validation_data = (X_test, y_test))\n",
        "\n",
        "# ValueError: Shapes (100, 10) and (100, 14, 14, 10) are incompatible"
      ],
      "execution_count": 16,
      "outputs": [
        {
          "output_type": "stream",
          "name": "stdout",
          "text": [
            "Epoch 1/20\n",
            "600/600 [==============================] - 13s 8ms/step - loss: 0.2245 - accuracy: 0.9349 - val_loss: 0.0724 - val_accuracy: 0.9769\n",
            "Epoch 2/20\n",
            "600/600 [==============================] - 4s 7ms/step - loss: 0.0747 - accuracy: 0.9776 - val_loss: 0.0513 - val_accuracy: 0.9842\n",
            "Epoch 3/20\n",
            "600/600 [==============================] - 5s 8ms/step - loss: 0.0523 - accuracy: 0.9838 - val_loss: 0.0456 - val_accuracy: 0.9847\n",
            "Epoch 4/20\n",
            "600/600 [==============================] - 5s 8ms/step - loss: 0.0407 - accuracy: 0.9877 - val_loss: 0.0376 - val_accuracy: 0.9873\n",
            "Epoch 5/20\n",
            "600/600 [==============================] - 5s 8ms/step - loss: 0.0317 - accuracy: 0.9895 - val_loss: 0.0370 - val_accuracy: 0.9871\n",
            "Epoch 6/20\n",
            "600/600 [==============================] - 4s 7ms/step - loss: 0.0268 - accuracy: 0.9916 - val_loss: 0.0344 - val_accuracy: 0.9887\n",
            "Epoch 7/20\n",
            "600/600 [==============================] - 4s 7ms/step - loss: 0.0227 - accuracy: 0.9929 - val_loss: 0.0349 - val_accuracy: 0.9886\n",
            "Epoch 8/20\n",
            "600/600 [==============================] - 4s 7ms/step - loss: 0.0183 - accuracy: 0.9939 - val_loss: 0.0383 - val_accuracy: 0.9878\n",
            "Epoch 9/20\n",
            "600/600 [==============================] - 4s 7ms/step - loss: 0.0156 - accuracy: 0.9948 - val_loss: 0.0399 - val_accuracy: 0.9874\n",
            "Epoch 10/20\n",
            "600/600 [==============================] - 5s 8ms/step - loss: 0.0135 - accuracy: 0.9956 - val_loss: 0.0424 - val_accuracy: 0.9873\n",
            "Epoch 11/20\n",
            "600/600 [==============================] - 4s 7ms/step - loss: 0.0126 - accuracy: 0.9959 - val_loss: 0.0429 - val_accuracy: 0.9881\n",
            "Epoch 12/20\n",
            "600/600 [==============================] - 5s 8ms/step - loss: 0.0109 - accuracy: 0.9965 - val_loss: 0.0398 - val_accuracy: 0.9890\n",
            "Epoch 13/20\n",
            "600/600 [==============================] - 4s 7ms/step - loss: 0.0102 - accuracy: 0.9967 - val_loss: 0.0421 - val_accuracy: 0.9884\n",
            "Epoch 14/20\n",
            "600/600 [==============================] - 4s 7ms/step - loss: 0.0089 - accuracy: 0.9971 - val_loss: 0.0420 - val_accuracy: 0.9888\n",
            "Epoch 15/20\n",
            "600/600 [==============================] - 5s 8ms/step - loss: 0.0088 - accuracy: 0.9971 - val_loss: 0.0470 - val_accuracy: 0.9884\n",
            "Epoch 16/20\n",
            "600/600 [==============================] - 5s 8ms/step - loss: 0.0073 - accuracy: 0.9976 - val_loss: 0.0480 - val_accuracy: 0.9887\n",
            "Epoch 17/20\n",
            "600/600 [==============================] - 4s 7ms/step - loss: 0.0073 - accuracy: 0.9977 - val_loss: 0.0487 - val_accuracy: 0.9886\n",
            "Epoch 18/20\n",
            "600/600 [==============================] - 4s 7ms/step - loss: 0.0072 - accuracy: 0.9977 - val_loss: 0.0465 - val_accuracy: 0.9895\n",
            "Epoch 19/20\n",
            "600/600 [==============================] - 5s 8ms/step - loss: 0.0062 - accuracy: 0.9979 - val_loss: 0.0434 - val_accuracy: 0.9888\n",
            "Epoch 20/20\n",
            "600/600 [==============================] - 4s 7ms/step - loss: 0.0069 - accuracy: 0.9976 - val_loss: 0.0457 - val_accuracy: 0.9886\n"
          ]
        },
        {
          "output_type": "execute_result",
          "data": {
            "text/plain": [
              "<keras.callbacks.History at 0x7fb38baab890>"
            ]
          },
          "metadata": {},
          "execution_count": 16
        }
      ]
    },
    {
      "cell_type": "code",
      "metadata": {
        "id": "JTLIG-8Y4guU",
        "colab": {
          "base_uri": "https://localhost:8080/"
        },
        "outputId": "9d25b589-eb72-456c-ad37-12fb3d889cf7"
      },
      "source": [
        "c1f2.evaluate(X_test, y_test, batch_size = 100)"
      ],
      "execution_count": 17,
      "outputs": [
        {
          "output_type": "stream",
          "name": "stdout",
          "text": [
            "100/100 [==============================] - 0s 4ms/step - loss: 0.0457 - accuracy: 0.9886\n"
          ]
        },
        {
          "output_type": "execute_result",
          "data": {
            "text/plain": [
              "[0.045652132481336594, 0.9886000156402588]"
            ]
          },
          "metadata": {},
          "execution_count": 17
        }
      ]
    },
    {
      "cell_type": "markdown",
      "metadata": {
        "id": "eFI1qi7DhNfL"
      },
      "source": [
        "---"
      ]
    },
    {
      "cell_type": "markdown",
      "metadata": {
        "id": "zYsilPV-d68h"
      },
      "source": [
        "## **CNN1 + FCN3**"
      ]
    },
    {
      "cell_type": "code",
      "metadata": {
        "id": "8XsCNJuVrRTu"
      },
      "source": [
        "# Random number seed\n",
        "np.random.seed(1234)\n",
        "tf.random.set_seed(1234)"
      ],
      "execution_count": 18,
      "outputs": []
    },
    {
      "cell_type": "code",
      "metadata": {
        "id": "ru3C9Fdb5MJ9"
      },
      "source": [
        "c1f3 = tf.keras.models.Sequential([ \n",
        "    \n",
        "    tf.keras.layers.Flatten(input_shape=(28, 28)),\n",
        "    tf.keras.layers.Dense(256, activation='relu'),  \n",
        "    tf.keras.layers.Dropout(0.25),\n",
        "    tf.keras.layers.Dense(128, activation='relu'),  \n",
        "    tf.keras.layers.Dropout(0.25), \n",
        "    tf.keras.layers.Dense(10, activation='softmax')\n",
        "])\n",
        "\n",
        "c1f3.compile(optimizer='adam',\n",
        "              loss='categorical_crossentropy',\n",
        "              metrics=['accuracy']) "
      ],
      "execution_count": 25,
      "outputs": []
    },
    {
      "cell_type": "code",
      "metadata": {
        "id": "WUKcSnnc5XcD",
        "colab": {
          "base_uri": "https://localhost:8080/"
        },
        "outputId": "ee01beb7-7ecf-45dc-b02f-6ff754b8a75d"
      },
      "source": [
        "c1f3.summary()"
      ],
      "execution_count": 26,
      "outputs": [
        {
          "output_type": "stream",
          "name": "stdout",
          "text": [
            "Model: \"sequential_3\"\n",
            "_________________________________________________________________\n",
            " Layer (type)                Output Shape              Param #   \n",
            "=================================================================\n",
            " flatten_2 (Flatten)         (None, 784)               0         \n",
            "                                                                 \n",
            " dense_7 (Dense)             (None, 256)               200960    \n",
            "                                                                 \n",
            " dropout_4 (Dropout)         (None, 256)               0         \n",
            "                                                                 \n",
            " dense_8 (Dense)             (None, 128)               32896     \n",
            "                                                                 \n",
            " dropout_5 (Dropout)         (None, 128)               0         \n",
            "                                                                 \n",
            " dense_9 (Dense)             (None, 10)                1290      \n",
            "                                                                 \n",
            "=================================================================\n",
            "Total params: 235,146\n",
            "Trainable params: 235,146\n",
            "Non-trainable params: 0\n",
            "_________________________________________________________________\n"
          ]
        }
      ]
    },
    {
      "cell_type": "code",
      "metadata": {
        "id": "WHnUbwan5Zq7",
        "colab": {
          "base_uri": "https://localhost:8080/"
        },
        "outputId": "24332223-e54e-475e-8181-b8811aacef0e"
      },
      "source": [
        "c1f3.fit(X_train,y_train, epochs= 20 , batch_size = 100)"
      ],
      "execution_count": 27,
      "outputs": [
        {
          "output_type": "stream",
          "name": "stdout",
          "text": [
            "Epoch 1/20\n",
            "600/600 [==============================] - 3s 4ms/step - loss: 0.3227 - accuracy: 0.9042\n",
            "Epoch 2/20\n",
            "600/600 [==============================] - 2s 4ms/step - loss: 0.1444 - accuracy: 0.9565\n",
            "Epoch 3/20\n",
            "600/600 [==============================] - 2s 4ms/step - loss: 0.1068 - accuracy: 0.9679\n",
            "Epoch 4/20\n",
            "600/600 [==============================] - 2s 4ms/step - loss: 0.0848 - accuracy: 0.9737\n",
            "Epoch 5/20\n",
            "600/600 [==============================] - 2s 4ms/step - loss: 0.0724 - accuracy: 0.9771\n",
            "Epoch 6/20\n",
            "600/600 [==============================] - 2s 4ms/step - loss: 0.0629 - accuracy: 0.9803\n",
            "Epoch 7/20\n",
            "600/600 [==============================] - 2s 4ms/step - loss: 0.0564 - accuracy: 0.9812\n",
            "Epoch 8/20\n",
            "600/600 [==============================] - 2s 4ms/step - loss: 0.0516 - accuracy: 0.9822\n",
            "Epoch 9/20\n",
            "600/600 [==============================] - 2s 4ms/step - loss: 0.0455 - accuracy: 0.9845\n",
            "Epoch 10/20\n",
            "600/600 [==============================] - 2s 4ms/step - loss: 0.0436 - accuracy: 0.9855\n",
            "Epoch 11/20\n",
            "600/600 [==============================] - 2s 4ms/step - loss: 0.0368 - accuracy: 0.9879\n",
            "Epoch 12/20\n",
            "600/600 [==============================] - 2s 4ms/step - loss: 0.0392 - accuracy: 0.9867\n",
            "Epoch 13/20\n",
            "600/600 [==============================] - 2s 4ms/step - loss: 0.0350 - accuracy: 0.9888\n",
            "Epoch 14/20\n",
            "600/600 [==============================] - 2s 4ms/step - loss: 0.0329 - accuracy: 0.9892\n",
            "Epoch 15/20\n",
            "600/600 [==============================] - 2s 4ms/step - loss: 0.0304 - accuracy: 0.9897\n",
            "Epoch 16/20\n",
            "600/600 [==============================] - 2s 4ms/step - loss: 0.0321 - accuracy: 0.9893\n",
            "Epoch 17/20\n",
            "600/600 [==============================] - 2s 4ms/step - loss: 0.0290 - accuracy: 0.9904\n",
            "Epoch 18/20\n",
            "600/600 [==============================] - 2s 4ms/step - loss: 0.0266 - accuracy: 0.9909\n",
            "Epoch 19/20\n",
            "600/600 [==============================] - 2s 4ms/step - loss: 0.0275 - accuracy: 0.9909\n",
            "Epoch 20/20\n",
            "600/600 [==============================] - 2s 4ms/step - loss: 0.0252 - accuracy: 0.9915\n"
          ]
        },
        {
          "output_type": "execute_result",
          "data": {
            "text/plain": [
              "<keras.callbacks.History at 0x7fb40043dd90>"
            ]
          },
          "metadata": {},
          "execution_count": 27
        }
      ]
    },
    {
      "cell_type": "code",
      "metadata": {
        "id": "kTaGJMFG7FbH",
        "colab": {
          "base_uri": "https://localhost:8080/"
        },
        "outputId": "a87ca2d5-cfac-4422-911a-a8e194c5de6c"
      },
      "source": [
        "c1f3.evaluate(X_test, y_test, batch_size= 100)"
      ],
      "execution_count": 28,
      "outputs": [
        {
          "output_type": "stream",
          "name": "stdout",
          "text": [
            "100/100 [==============================] - 0s 3ms/step - loss: 0.0689 - accuracy: 0.9819\n"
          ]
        },
        {
          "output_type": "execute_result",
          "data": {
            "text/plain": [
              "[0.0689157247543335, 0.9818999767303467]"
            ]
          },
          "metadata": {},
          "execution_count": 28
        }
      ]
    },
    {
      "cell_type": "markdown",
      "metadata": {
        "id": "7Z6DJJUCei-s"
      },
      "source": [
        "## **CNN2 + FCN2**"
      ]
    },
    {
      "cell_type": "code",
      "metadata": {
        "id": "t1Xx45zNrRTv"
      },
      "source": [
        "# Random number seed\n",
        "np.random.seed(1234)\n",
        "tf.random.set_seed(1234)"
      ],
      "execution_count": 29,
      "outputs": []
    },
    {
      "cell_type": "code",
      "metadata": {
        "id": "pV3NFglM7P65"
      },
      "source": [
        "c2f2 = tf.keras.models.Sequential([ \n",
        "    tf.keras.layers.Flatten(input_shape=(28, 28)),\n",
        "    tf.keras.layers.Dense(256, activation='relu'),  \n",
        "    tf.keras.layers.Dropout(0.25),\n",
        "    tf.keras.layers.Dense(128, activation='relu'),  \n",
        "    tf.keras.layers.Dropout(0.25),\n",
        "    tf.keras.layers.Dense(64, activation='relu'),  \n",
        "    tf.keras.layers.Dropout(0.25), \n",
        "    tf.keras.layers.Dense(10, activation='softmax')\n",
        "])\n",
        "\n",
        "c2f2.compile(optimizer='adam',\n",
        "              loss='categorical_crossentropy',\n",
        "              metrics=['accuracy']) "
      ],
      "execution_count": 33,
      "outputs": []
    },
    {
      "cell_type": "code",
      "metadata": {
        "id": "OGtCiKy57YkR",
        "colab": {
          "base_uri": "https://localhost:8080/"
        },
        "outputId": "382507cc-6fde-4a80-8d7d-dc8d056fabaf"
      },
      "source": [
        "c2f2.summary()"
      ],
      "execution_count": 34,
      "outputs": [
        {
          "output_type": "stream",
          "name": "stdout",
          "text": [
            "Model: \"sequential_5\"\n",
            "_________________________________________________________________\n",
            " Layer (type)                Output Shape              Param #   \n",
            "=================================================================\n",
            " flatten_4 (Flatten)         (None, 784)               0         \n",
            "                                                                 \n",
            " dense_14 (Dense)            (None, 256)               200960    \n",
            "                                                                 \n",
            " dropout_9 (Dropout)         (None, 256)               0         \n",
            "                                                                 \n",
            " dense_15 (Dense)            (None, 128)               32896     \n",
            "                                                                 \n",
            " dropout_10 (Dropout)        (None, 128)               0         \n",
            "                                                                 \n",
            " dense_16 (Dense)            (None, 64)                8256      \n",
            "                                                                 \n",
            " dropout_11 (Dropout)        (None, 64)                0         \n",
            "                                                                 \n",
            " dense_17 (Dense)            (None, 10)                650       \n",
            "                                                                 \n",
            "=================================================================\n",
            "Total params: 242,762\n",
            "Trainable params: 242,762\n",
            "Non-trainable params: 0\n",
            "_________________________________________________________________\n"
          ]
        }
      ]
    },
    {
      "cell_type": "code",
      "metadata": {
        "id": "94GWWQt-7eRS",
        "colab": {
          "base_uri": "https://localhost:8080/"
        },
        "outputId": "96b207c7-0ae5-4891-c917-c7b4a451c19a"
      },
      "source": [
        "c2f2.fit(X_train, y_train, epochs = 20 , batch_size = 100)"
      ],
      "execution_count": 35,
      "outputs": [
        {
          "output_type": "stream",
          "name": "stdout",
          "text": [
            "Epoch 1/20\n",
            "600/600 [==============================] - 3s 4ms/step - loss: 0.4233 - accuracy: 0.8715\n",
            "Epoch 2/20\n",
            "600/600 [==============================] - 2s 4ms/step - loss: 0.1714 - accuracy: 0.9512\n",
            "Epoch 3/20\n",
            "600/600 [==============================] - 2s 4ms/step - loss: 0.1288 - accuracy: 0.9632\n",
            "Epoch 4/20\n",
            "600/600 [==============================] - 2s 4ms/step - loss: 0.1047 - accuracy: 0.9695\n",
            "Epoch 5/20\n",
            "600/600 [==============================] - 2s 4ms/step - loss: 0.0921 - accuracy: 0.9723\n",
            "Epoch 6/20\n",
            "600/600 [==============================] - 2s 4ms/step - loss: 0.0777 - accuracy: 0.9769\n",
            "Epoch 7/20\n",
            "600/600 [==============================] - 2s 4ms/step - loss: 0.0710 - accuracy: 0.9788\n",
            "Epoch 8/20\n",
            "600/600 [==============================] - 2s 4ms/step - loss: 0.0667 - accuracy: 0.9799\n",
            "Epoch 9/20\n",
            "600/600 [==============================] - 2s 4ms/step - loss: 0.0596 - accuracy: 0.9818\n",
            "Epoch 10/20\n",
            "600/600 [==============================] - 2s 4ms/step - loss: 0.0557 - accuracy: 0.9836\n",
            "Epoch 11/20\n",
            "600/600 [==============================] - 2s 4ms/step - loss: 0.0526 - accuracy: 0.9835\n",
            "Epoch 12/20\n",
            "600/600 [==============================] - 2s 4ms/step - loss: 0.0487 - accuracy: 0.9857\n",
            "Epoch 13/20\n",
            "600/600 [==============================] - 2s 4ms/step - loss: 0.0461 - accuracy: 0.9859\n",
            "Epoch 14/20\n",
            "600/600 [==============================] - 2s 4ms/step - loss: 0.0438 - accuracy: 0.9865\n",
            "Epoch 15/20\n",
            "600/600 [==============================] - 2s 4ms/step - loss: 0.0384 - accuracy: 0.9879\n",
            "Epoch 16/20\n",
            "600/600 [==============================] - 2s 4ms/step - loss: 0.0392 - accuracy: 0.9885\n",
            "Epoch 17/20\n",
            "600/600 [==============================] - 2s 4ms/step - loss: 0.0377 - accuracy: 0.9883\n",
            "Epoch 18/20\n",
            "600/600 [==============================] - 2s 4ms/step - loss: 0.0346 - accuracy: 0.9892\n",
            "Epoch 19/20\n",
            "600/600 [==============================] - 2s 4ms/step - loss: 0.0318 - accuracy: 0.9901\n",
            "Epoch 20/20\n",
            "600/600 [==============================] - 2s 4ms/step - loss: 0.0347 - accuracy: 0.9894\n"
          ]
        },
        {
          "output_type": "execute_result",
          "data": {
            "text/plain": [
              "<keras.callbacks.History at 0x7fb38e9391d0>"
            ]
          },
          "metadata": {},
          "execution_count": 35
        }
      ]
    },
    {
      "cell_type": "code",
      "metadata": {
        "id": "0-7is2U49A6Z",
        "colab": {
          "base_uri": "https://localhost:8080/"
        },
        "outputId": "ce7532fc-2008-4f66-de03-74a6bca5613b"
      },
      "source": [
        "c2f2.evaluate(X_test, y_test, batch_size = 100)"
      ],
      "execution_count": 36,
      "outputs": [
        {
          "output_type": "stream",
          "name": "stdout",
          "text": [
            "100/100 [==============================] - 0s 3ms/step - loss: 0.0731 - accuracy: 0.9819\n"
          ]
        },
        {
          "output_type": "execute_result",
          "data": {
            "text/plain": [
              "[0.07314037531614304, 0.9818999767303467]"
            ]
          },
          "metadata": {},
          "execution_count": 36
        }
      ]
    },
    {
      "cell_type": "markdown",
      "metadata": {
        "id": "SUJxRQtafihM"
      },
      "source": [
        "## **CNN2 + FCN3**"
      ]
    },
    {
      "cell_type": "code",
      "metadata": {
        "id": "PXuHAj85rRTw"
      },
      "source": [
        "# Random number seed\n",
        "np.random.seed(1234)\n",
        "tf.random.set_seed(1234)"
      ],
      "execution_count": 37,
      "outputs": []
    },
    {
      "cell_type": "code",
      "metadata": {
        "id": "Nl5CyAymAB34"
      },
      "source": [
        "c2f3 = tf.keras.models.Sequential([ \n",
        "    tf.keras.layers.Flatten(input_shape=(28, 28)),\n",
        "    tf.keras.layers.Dense(256, activation='relu'), \n",
        "    tf.keras.layers.Dropout(0.25),\n",
        "    tf.keras.layers.Dense(128, activation='relu'),  \n",
        "    tf.keras.layers.Dropout(0.25),\n",
        "    tf.keras.layers.Dense(64, activation='relu'),  \n",
        "    tf.keras.layers.Dropout(0.25),\n",
        "    tf.keras.layers.Dense(32, activation='relu'),  \n",
        "    tf.keras.layers.Dropout(0.25), \n",
        "    tf.keras.layers.Dense(10, activation='softmax')\n",
        "])\n",
        "\n",
        "c2f3.compile(optimizer='adam',\n",
        "              loss='categorical_crossentropy',\n",
        "              metrics=['accuracy']) "
      ],
      "execution_count": 38,
      "outputs": []
    },
    {
      "cell_type": "code",
      "metadata": {
        "id": "gYxuGW_2ANL8",
        "colab": {
          "base_uri": "https://localhost:8080/"
        },
        "outputId": "79137e66-ac79-4275-9cf0-c95c93e1eb66"
      },
      "source": [
        "c2f3.summary()"
      ],
      "execution_count": 39,
      "outputs": [
        {
          "output_type": "stream",
          "name": "stdout",
          "text": [
            "Model: \"sequential_6\"\n",
            "_________________________________________________________________\n",
            " Layer (type)                Output Shape              Param #   \n",
            "=================================================================\n",
            " flatten_5 (Flatten)         (None, 784)               0         \n",
            "                                                                 \n",
            " dense_18 (Dense)            (None, 256)               200960    \n",
            "                                                                 \n",
            " dropout_12 (Dropout)        (None, 256)               0         \n",
            "                                                                 \n",
            " dense_19 (Dense)            (None, 128)               32896     \n",
            "                                                                 \n",
            " dropout_13 (Dropout)        (None, 128)               0         \n",
            "                                                                 \n",
            " dense_20 (Dense)            (None, 64)                8256      \n",
            "                                                                 \n",
            " dropout_14 (Dropout)        (None, 64)                0         \n",
            "                                                                 \n",
            " dense_21 (Dense)            (None, 32)                2080      \n",
            "                                                                 \n",
            " dropout_15 (Dropout)        (None, 32)                0         \n",
            "                                                                 \n",
            " dense_22 (Dense)            (None, 10)                330       \n",
            "                                                                 \n",
            "=================================================================\n",
            "Total params: 244,522\n",
            "Trainable params: 244,522\n",
            "Non-trainable params: 0\n",
            "_________________________________________________________________\n"
          ]
        }
      ]
    },
    {
      "cell_type": "code",
      "metadata": {
        "id": "lO1of4AOAQlV",
        "colab": {
          "base_uri": "https://localhost:8080/"
        },
        "outputId": "e80d873f-1cd9-4b84-a7ef-d347c8d2b45f"
      },
      "source": [
        "c2f3.fit(X_train, y_train, epochs=20, batch_size = 100)"
      ],
      "execution_count": 40,
      "outputs": [
        {
          "output_type": "stream",
          "name": "stdout",
          "text": [
            "Epoch 1/20\n",
            "600/600 [==============================] - 3s 4ms/step - loss: 0.5934 - accuracy: 0.8191\n",
            "Epoch 2/20\n",
            "600/600 [==============================] - 3s 4ms/step - loss: 0.2292 - accuracy: 0.9406\n",
            "Epoch 3/20\n",
            "600/600 [==============================] - 3s 4ms/step - loss: 0.1763 - accuracy: 0.9555\n",
            "Epoch 4/20\n",
            "600/600 [==============================] - 3s 4ms/step - loss: 0.1448 - accuracy: 0.9637\n",
            "Epoch 5/20\n",
            "600/600 [==============================] - 3s 4ms/step - loss: 0.1302 - accuracy: 0.9673\n",
            "Epoch 6/20\n",
            "600/600 [==============================] - 3s 4ms/step - loss: 0.1077 - accuracy: 0.9721\n",
            "Epoch 7/20\n",
            "600/600 [==============================] - 3s 4ms/step - loss: 0.1009 - accuracy: 0.9735\n",
            "Epoch 8/20\n",
            "600/600 [==============================] - 3s 4ms/step - loss: 0.0890 - accuracy: 0.9761\n",
            "Epoch 9/20\n",
            "600/600 [==============================] - 3s 4ms/step - loss: 0.0837 - accuracy: 0.9782\n",
            "Epoch 10/20\n",
            "600/600 [==============================] - 3s 4ms/step - loss: 0.0819 - accuracy: 0.9787\n",
            "Epoch 11/20\n",
            "600/600 [==============================] - 3s 4ms/step - loss: 0.0731 - accuracy: 0.9807\n",
            "Epoch 12/20\n",
            "600/600 [==============================] - 3s 4ms/step - loss: 0.0696 - accuracy: 0.9814\n",
            "Epoch 13/20\n",
            "600/600 [==============================] - 3s 4ms/step - loss: 0.0652 - accuracy: 0.9829\n",
            "Epoch 14/20\n",
            "600/600 [==============================] - 3s 4ms/step - loss: 0.0624 - accuracy: 0.9841\n",
            "Epoch 15/20\n",
            "600/600 [==============================] - 3s 4ms/step - loss: 0.0559 - accuracy: 0.9851\n",
            "Epoch 16/20\n",
            "600/600 [==============================] - 3s 4ms/step - loss: 0.0600 - accuracy: 0.9835\n",
            "Epoch 17/20\n",
            "600/600 [==============================] - 3s 4ms/step - loss: 0.0526 - accuracy: 0.9859\n",
            "Epoch 18/20\n",
            "600/600 [==============================] - 3s 4ms/step - loss: 0.0502 - accuracy: 0.9868\n",
            "Epoch 19/20\n",
            "600/600 [==============================] - 3s 4ms/step - loss: 0.0509 - accuracy: 0.9859\n",
            "Epoch 20/20\n",
            "600/600 [==============================] - 3s 4ms/step - loss: 0.0477 - accuracy: 0.9869\n"
          ]
        },
        {
          "output_type": "execute_result",
          "data": {
            "text/plain": [
              "<keras.callbacks.History at 0x7fb38e877550>"
            ]
          },
          "metadata": {},
          "execution_count": 40
        }
      ]
    },
    {
      "cell_type": "code",
      "metadata": {
        "id": "W-eIxCasDBil",
        "colab": {
          "base_uri": "https://localhost:8080/"
        },
        "outputId": "173e2039-e526-4851-9e2e-a3ab4f5bfa6f"
      },
      "source": [
        "c2f3.evaluate(X_test, y_test, batch_size = 100)"
      ],
      "execution_count": 41,
      "outputs": [
        {
          "output_type": "stream",
          "name": "stdout",
          "text": [
            "100/100 [==============================] - 0s 3ms/step - loss: 0.0862 - accuracy: 0.9806\n"
          ]
        },
        {
          "output_type": "execute_result",
          "data": {
            "text/plain": [
              "[0.08621615916490555, 0.9805999994277954]"
            ]
          },
          "metadata": {},
          "execution_count": 41
        }
      ]
    },
    {
      "cell_type": "markdown",
      "metadata": {
        "id": "5XYSVtC-DVsz"
      },
      "source": [
        "# **[DIY] Hidden layer에 따른 정확도**"
      ]
    },
    {
      "cell_type": "code",
      "metadata": {
        "colab": {
          "base_uri": "https://localhost:8080/"
        },
        "id": "YsOKhHDh4cZ_",
        "outputId": "059c113b-12ae-41cf-acb6-c135defa5fd0"
      },
      "source": [
        "c1f2.evaluate(X_test, y_test, batch_size = 100)"
      ],
      "execution_count": 43,
      "outputs": [
        {
          "output_type": "stream",
          "name": "stdout",
          "text": [
            "100/100 [==============================] - 0s 4ms/step - loss: 0.0457 - accuracy: 0.9886\n"
          ]
        },
        {
          "output_type": "execute_result",
          "data": {
            "text/plain": [
              "[0.045652132481336594, 0.9886000156402588]"
            ]
          },
          "metadata": {},
          "execution_count": 43
        }
      ]
    },
    {
      "cell_type": "code",
      "metadata": {
        "colab": {
          "base_uri": "https://localhost:8080/"
        },
        "id": "07r-ld_e4cSe",
        "outputId": "4028be99-1a13-43b0-ccc5-8db8ba8f0506"
      },
      "source": [
        "c1f3.evaluate(X_test, y_test, batch_size = 100)"
      ],
      "execution_count": 44,
      "outputs": [
        {
          "output_type": "stream",
          "name": "stdout",
          "text": [
            "100/100 [==============================] - 0s 3ms/step - loss: 0.0689 - accuracy: 0.9819\n"
          ]
        },
        {
          "output_type": "execute_result",
          "data": {
            "text/plain": [
              "[0.0689157247543335, 0.9818999767303467]"
            ]
          },
          "metadata": {},
          "execution_count": 44
        }
      ]
    },
    {
      "cell_type": "code",
      "metadata": {
        "id": "hPXHL7TTgIMf"
      },
      "source": [
        "# Try another method!!\n",
        "fcn_result = [[0.08733399957418442, 0.9789999723434448], \n",
        " [0.07378004491329193, 0.9837999939918518], \n",
        " [0.06836291402578354, 0.984000027179718], \n",
        " [0.08842429518699646, 0.9807000160217285]]"
      ],
      "execution_count": 45,
      "outputs": []
    },
    {
      "cell_type": "code",
      "metadata": {
        "id": "1kXd2NWlLmyZ",
        "colab": {
          "base_uri": "https://localhost:8080/"
        },
        "outputId": "b03954e5-5aca-493d-d87f-ad7afdcbdb26"
      },
      "source": [
        "# select accuracies\n",
        "accuracy = [row[1] for row in fcn_result]\n",
        "accuracy"
      ],
      "execution_count": 46,
      "outputs": [
        {
          "output_type": "execute_result",
          "data": {
            "text/plain": [
              "[0.9789999723434448, 0.9837999939918518, 0.984000027179718, 0.9807000160217285]"
            ]
          },
          "metadata": {},
          "execution_count": 46
        }
      ]
    },
    {
      "cell_type": "code",
      "metadata": {
        "id": "vZv6a2aVRw9j",
        "colab": {
          "base_uri": "https://localhost:8080/",
          "height": 265
        },
        "outputId": "382e4612-dbf1-4acc-fe70-0ebf32160099"
      },
      "source": [
        "x = np.arange(4)\n",
        "fcns = ['FCN2','FCN3','FCN4','FCN5']\n",
        "accuracies = [acc*100 for acc in accuracy] # %\n",
        "\n",
        "plt.bar(x, accuracies)\n",
        "plt.xticks(x, fcns)\n",
        "plt.show()"
      ],
      "execution_count": 47,
      "outputs": [
        {
          "output_type": "display_data",
          "data": {
            "image/png": "[encoded data removed]",
            "text/plain": [
              "<Figure size 432x288 with 1 Axes>"
            ]
          },
          "metadata": {
            "needs_background": "light"
          }
        }
      ]
    },
    {
      "cell_type": "markdown",
      "metadata": {
        "id": "gBPKMI4y3fsa"
      },
      "source": [
        "## 모형의 저장\n",
        "\n",
        "- 트레이닝이 끝난 모형은 save 메서드로 가중치와 함께 hdf5 형식으로 저장\n",
        "- load 명령으로 불러 사용"
      ]
    },
    {
      "cell_type": "code",
      "metadata": {
        "id": "KCfbQl2v3fsa"
      },
      "source": [
        "c2f2.save('c2f2_best.hdf5')"
      ],
      "execution_count": 48,
      "outputs": []
    },
    {
      "cell_type": "code",
      "metadata": {
        "id": "b7-ysIVy3fse",
        "colab": {
          "base_uri": "https://localhost:8080/"
        },
        "outputId": "9174fb07-62c1-4ca8-c964-e0cdd95578f6"
      },
      "source": [
        "from keras.models import load_model\n",
        "\n",
        "model = load_model('c2f2_best.hdf5')\n",
        "model.evaluate(X_test, y_test, batch_size=32)"
      ],
      "execution_count": 50,
      "outputs": [
        {
          "output_type": "stream",
          "name": "stdout",
          "text": [
            "313/313 [==============================] - 1s 4ms/step - loss: 0.0731 - accuracy: 0.9819\n"
          ]
        },
        {
          "output_type": "execute_result",
          "data": {
            "text/plain": [
              "[0.07314041256904602, 0.9818999767303467]"
            ]
          },
          "metadata": {},
          "execution_count": 50
        }
      ]
    },
    {
      "cell_type": "markdown",
      "metadata": {
        "id": "jRG6VlWiMDee"
      },
      "source": [
        "## C2F2 모델에 대한 loss, accuracy 그래프를 그리시오."
      ]
    },
    {
      "cell_type": "code",
      "metadata": {
        "id": "-Yfqv2AqtUtz",
        "colab": {
          "base_uri": "https://localhost:8080/"
        },
        "outputId": "0aa2c539-66d5-4bc1-c2b8-155739371677"
      },
      "source": [
        "hist = c2f2.fit(X_train, y_train, \n",
        "         epochs = 20 , \n",
        "         batch_size =32, \n",
        "         validation_data=(X_test,y_test))"
      ],
      "execution_count": 51,
      "outputs": [
        {
          "output_type": "stream",
          "name": "stdout",
          "text": [
            "Epoch 1/20\n",
            "1875/1875 [==============================] - 10s 5ms/step - loss: 0.0655 - accuracy: 0.9803 - val_loss: 0.0773 - val_accuracy: 0.9781\n",
            "Epoch 2/20\n",
            "1875/1875 [==============================] - 9s 5ms/step - loss: 0.0508 - accuracy: 0.9842 - val_loss: 0.0751 - val_accuracy: 0.9803\n",
            "Epoch 3/20\n",
            "1875/1875 [==============================] - 9s 5ms/step - loss: 0.0483 - accuracy: 0.9853 - val_loss: 0.0877 - val_accuracy: 0.9785\n",
            "Epoch 4/20\n",
            "1875/1875 [==============================] - 9s 5ms/step - loss: 0.0489 - accuracy: 0.9857 - val_loss: 0.0706 - val_accuracy: 0.9825\n",
            "Epoch 5/20\n",
            "1875/1875 [==============================] - 9s 5ms/step - loss: 0.0462 - accuracy: 0.9862 - val_loss: 0.0763 - val_accuracy: 0.9819\n",
            "Epoch 6/20\n",
            "1875/1875 [==============================] - 9s 5ms/step - loss: 0.0433 - accuracy: 0.9873 - val_loss: 0.0740 - val_accuracy: 0.9835\n",
            "Epoch 7/20\n",
            "1875/1875 [==============================] - 9s 5ms/step - loss: 0.0436 - accuracy: 0.9871 - val_loss: 0.0750 - val_accuracy: 0.9824\n",
            "Epoch 8/20\n",
            "1875/1875 [==============================] - 9s 5ms/step - loss: 0.0404 - accuracy: 0.9877 - val_loss: 0.0807 - val_accuracy: 0.9835\n",
            "Epoch 9/20\n",
            "1875/1875 [==============================] - 9s 5ms/step - loss: 0.0388 - accuracy: 0.9884 - val_loss: 0.0798 - val_accuracy: 0.9826\n",
            "Epoch 10/20\n",
            "1875/1875 [==============================] - 9s 5ms/step - loss: 0.0389 - accuracy: 0.9883 - val_loss: 0.0887 - val_accuracy: 0.9807\n",
            "Epoch 11/20\n",
            "1875/1875 [==============================] - 9s 5ms/step - loss: 0.0375 - accuracy: 0.9888 - val_loss: 0.0873 - val_accuracy: 0.9837\n",
            "Epoch 12/20\n",
            "1875/1875 [==============================] - 9s 5ms/step - loss: 0.0372 - accuracy: 0.9889 - val_loss: 0.0868 - val_accuracy: 0.9820\n",
            "Epoch 13/20\n",
            "1875/1875 [==============================] - 9s 5ms/step - loss: 0.0349 - accuracy: 0.9903 - val_loss: 0.0881 - val_accuracy: 0.9827\n",
            "Epoch 14/20\n",
            "1875/1875 [==============================] - 9s 5ms/step - loss: 0.0350 - accuracy: 0.9896 - val_loss: 0.0877 - val_accuracy: 0.9809\n",
            "Epoch 15/20\n",
            "1875/1875 [==============================] - 9s 5ms/step - loss: 0.0334 - accuracy: 0.9901 - val_loss: 0.0831 - val_accuracy: 0.9827\n",
            "Epoch 16/20\n",
            "1875/1875 [==============================] - 9s 5ms/step - loss: 0.0325 - accuracy: 0.9907 - val_loss: 0.0859 - val_accuracy: 0.9833\n",
            "Epoch 17/20\n",
            "1875/1875 [==============================] - 9s 5ms/step - loss: 0.0314 - accuracy: 0.9908 - val_loss: 0.0946 - val_accuracy: 0.9834\n",
            "Epoch 18/20\n",
            "1875/1875 [==============================] - 9s 5ms/step - loss: 0.0322 - accuracy: 0.9910 - val_loss: 0.0908 - val_accuracy: 0.9832\n",
            "Epoch 19/20\n",
            "1875/1875 [==============================] - 9s 5ms/step - loss: 0.0317 - accuracy: 0.9904 - val_loss: 0.0851 - val_accuracy: 0.9839\n",
            "Epoch 20/20\n",
            "1875/1875 [==============================] - 9s 5ms/step - loss: 0.0320 - accuracy: 0.9909 - val_loss: 0.0870 - val_accuracy: 0.9829\n"
          ]
        }
      ]
    },
    {
      "cell_type": "code",
      "metadata": {
        "id": "D1on4CdjrQ_T",
        "colab": {
          "base_uri": "https://localhost:8080/",
          "height": 313
        },
        "outputId": "995c783a-bcc0-4443-a256-0b0349e90598"
      },
      "source": [
        "# Plot loass and accuracy\n",
        "# Plot training & validation accuracy values\n",
        "epochs = 20\n",
        "loss_list = [100 * i for i in hist.history['loss']]\n",
        "acc_list = [100 * i for i in hist.history['accuracy']]\n",
        "plt.plot(range(1,epochs+1),loss_list) \n",
        "plt.plot(range(1,epochs+1),acc_list) \n",
        "plt.title('Model loss & accuracy')\n",
        "plt.ylabel('Accuracy (%)')\n",
        "plt.xlabel('Epoch')\n",
        "plt.legend(['loss', 'accuracy'], loc='center left')"
      ],
      "execution_count": 53,
      "outputs": [
        {
          "output_type": "execute_result",
          "data": {
            "text/plain": [
              "<matplotlib.legend.Legend at 0x7fb388aa9c10>"
            ]
          },
          "metadata": {},
          "execution_count": 53
        },
        {
          "output_type": "display_data",
          "data": {
            "image/png": "[encoded data removed]",
            "text/plain": [
              "<Figure size 432x288 with 1 Axes>"
            ]
          },
          "metadata": {
            "needs_background": "light"
          }
        }
      ]
    },
    {
      "cell_type": "code",
      "metadata": {
        "id": "TX5Uzro4vjaY",
        "colab": {
          "base_uri": "https://localhost:8080/",
          "height": 313
        },
        "outputId": "ab9add62-cb8e-4654-9531-5b98238894b3"
      },
      "source": [
        "vloss_list = [100 * i for i in hist.history['val_loss']]\n",
        "vacc_list = [100 * i for i in hist.history['val_accuracy']]\n",
        "\n",
        "plt.plot(range(1,epochs+1),vloss_list)  \n",
        "plt.plot(range(1,epochs+1),vacc_list)  \n",
        "plt.title('Model val_loss & val_accuracy')\n",
        "plt.ylabel('Accuracy (%)')\n",
        "plt.xlabel('Epoch')\n",
        "plt.legend(['val_loss', 'val_accuracy'], loc='center left')"
      ],
      "execution_count": 56,
      "outputs": [
        {
          "output_type": "execute_result",
          "data": {
            "text/plain": [
              "<matplotlib.legend.Legend at 0x7fb389439a10>"
            ]
          },
          "metadata": {},
          "execution_count": 56
        },
        {
          "output_type": "display_data",
          "data": {
            "image/png": "[encoded data removed]",
            "text/plain": [
              "<Figure size 432x288 with 1 Axes>"
            ]
          },
          "metadata": {
            "needs_background": "light"
          }
        }
      ]
    },
    {
      "cell_type": "code",
      "metadata": {
        "id": "blALTNdyvjVK",
        "colab": {
          "base_uri": "https://localhost:8080/",
          "height": 295
        },
        "outputId": "6065476a-77c6-472d-f1a5-3a538f131e19"
      },
      "source": [
        "plt.plot(range(1,epochs+1),acc_list)  \n",
        "plt.plot(range(1,epochs+1),vacc_list)  \n",
        "plt.title('accuracy vs. val_accuracy')\n",
        "plt.ylabel('Accuracy (%)')\n",
        "plt.xlabel('Epoch')\n",
        "plt.legend(['accuracy','val_accuracy'], loc='center')\n",
        "plt.show()"
      ],
      "execution_count": 57,
      "outputs": [
        {
          "output_type": "display_data",
          "data": {
            "image/png": "[encoded data removed]",
            "text/plain": [
              "<Figure size 432x288 with 1 Axes>"
            ]
          },
          "metadata": {
            "needs_background": "light"
          }
        }
      ]
    },
    {
      "cell_type": "markdown",
      "metadata": {
        "id": "PjiTXAO1MKkE"
      },
      "source": [
        "***"
      ]
    },
    {
      "cell_type": "markdown",
      "metadata": {
        "id": "Ucj-avjHMPLy"
      },
      "source": [
        "## [DIY] C2F3 모델에 대한 loss, accuracy 그래프를 추가하시오."
      ]
    },
    {
      "cell_type": "code",
      "metadata": {
        "id": "WNmXXLhvWUiK"
      },
      "source": [
        "# Code here!"
      ],
      "execution_count": null,
      "outputs": []
    },
    {
      "cell_type": "code",
      "metadata": {
        "id": "hacKbnC98XRU"
      },
      "source": [
        "c2f3.save('c2f3_best.hdf5')"
      ],
      "execution_count": 58,
      "outputs": []
    },
    {
      "cell_type": "code",
      "metadata": {
        "colab": {
          "base_uri": "https://localhost:8080/"
        },
        "id": "As3vgwMy8ve1",
        "outputId": "44ccc331-b4fc-4ea6-dadd-47836af389a2"
      },
      "source": [
        "from keras.models import load_model\n",
        "\n",
        "model = load_model('c2f3_best.hdf5')\n",
        "model.evaluate(X_test, y_test, batch_size=100)"
      ],
      "execution_count": 61,
      "outputs": [
        {
          "output_type": "stream",
          "name": "stdout",
          "text": [
            "100/100 [==============================] - 0s 3ms/step - loss: 0.0862 - accuracy: 0.9806\n"
          ]
        },
        {
          "output_type": "execute_result",
          "data": {
            "text/plain": [
              "[0.08621615916490555, 0.9805999994277954]"
            ]
          },
          "metadata": {},
          "execution_count": 61
        }
      ]
    },
    {
      "cell_type": "code",
      "metadata": {
        "id": "dNe78Wvk9BJL"
      },
      "source": [
        "np.random.seed(1234)\n",
        "tf.random.set_seed(1234)"
      ],
      "execution_count": 63,
      "outputs": []
    },
    {
      "cell_type": "code",
      "metadata": {
        "id": "UtCxHEp09OE7"
      },
      "source": [
        "c2f3 = tf.keras.models.Sequential([ \n",
        "    Conv2D(input_shape=(28,28,1),\n",
        "           kernel_size=(3,3),strides=(1,1),\n",
        "           filters= 64, padding='same',\n",
        "           activation='relu'), \n",
        "    MaxPool2D(pool_size=(2,2), strides=(2,2)),\n",
        "    Conv2D(kernel_size=(3,3),strides=(1,1),\n",
        "           filters= 32, padding='same',\n",
        "           activation='relu'),  \n",
        "    MaxPool2D(pool_size=(2,2), strides=(2,2)),\n",
        "    Flatten(),\n",
        "    # f3\n",
        "    tf.keras.layers.Dense(128, activation='relu'),  \n",
        "    tf.keras.layers.Dropout(0.25),\n",
        "    tf.keras.layers.Dense(64, activation='relu'),  \n",
        "    tf.keras.layers.Dropout(0.25),\n",
        "    tf.keras.layers.Dense(10, activation='softmax')\n",
        "\n",
        "])"
      ],
      "execution_count": 72,
      "outputs": []
    },
    {
      "cell_type": "code",
      "metadata": {
        "id": "bR6tqcrV-RVP"
      },
      "source": [
        "c2f3.compile(optimizer='adam',\n",
        "              loss='categorical_crossentropy',\n",
        "              metrics=['accuracy'])"
      ],
      "execution_count": 73,
      "outputs": []
    },
    {
      "cell_type": "code",
      "metadata": {
        "colab": {
          "base_uri": "https://localhost:8080/"
        },
        "id": "28oci6Hh-ptl",
        "outputId": "f4b82f10-8edf-43bc-f087-101dd3cf836e"
      },
      "source": [
        "hist = c2f2.fit(X_train, y_train,\n",
        "         epochs = 20 , \n",
        "         batch_size =100, \n",
        "         validation_data=(X_test,y_test))"
      ],
      "execution_count": 74,
      "outputs": [
        {
          "output_type": "stream",
          "name": "stdout",
          "text": [
            "Epoch 1/20\n",
            "600/600 [==============================] - 3s 5ms/step - loss: 0.0173 - accuracy: 0.9948 - val_loss: 0.0826 - val_accuracy: 0.9860\n",
            "Epoch 2/20\n",
            "600/600 [==============================] - 3s 5ms/step - loss: 0.0145 - accuracy: 0.9956 - val_loss: 0.0840 - val_accuracy: 0.9850\n",
            "Epoch 3/20\n",
            "600/600 [==============================] - 3s 4ms/step - loss: 0.0138 - accuracy: 0.9961 - val_loss: 0.0921 - val_accuracy: 0.9852\n",
            "Epoch 4/20\n",
            "600/600 [==============================] - 3s 4ms/step - loss: 0.0129 - accuracy: 0.9958 - val_loss: 0.0923 - val_accuracy: 0.9853\n",
            "Epoch 5/20\n",
            "600/600 [==============================] - 3s 5ms/step - loss: 0.0156 - accuracy: 0.9950 - val_loss: 0.0899 - val_accuracy: 0.9852\n",
            "Epoch 6/20\n",
            "600/600 [==============================] - 3s 5ms/step - loss: 0.0148 - accuracy: 0.9954 - val_loss: 0.0935 - val_accuracy: 0.9850\n",
            "Epoch 7/20\n",
            "600/600 [==============================] - 3s 4ms/step - loss: 0.0146 - accuracy: 0.9956 - val_loss: 0.0889 - val_accuracy: 0.9848\n",
            "Epoch 8/20\n",
            "600/600 [==============================] - 3s 4ms/step - loss: 0.0131 - accuracy: 0.9958 - val_loss: 0.0967 - val_accuracy: 0.9847\n",
            "Epoch 9/20\n",
            "600/600 [==============================] - 3s 4ms/step - loss: 0.0152 - accuracy: 0.9955 - val_loss: 0.0906 - val_accuracy: 0.9850\n",
            "Epoch 10/20\n",
            "600/600 [==============================] - 3s 4ms/step - loss: 0.0160 - accuracy: 0.9953 - val_loss: 0.0920 - val_accuracy: 0.9848\n",
            "Epoch 11/20\n",
            "600/600 [==============================] - 3s 4ms/step - loss: 0.0148 - accuracy: 0.9955 - val_loss: 0.0931 - val_accuracy: 0.9851\n",
            "Epoch 12/20\n",
            "600/600 [==============================] - 3s 4ms/step - loss: 0.0160 - accuracy: 0.9957 - val_loss: 0.0908 - val_accuracy: 0.9844\n",
            "Epoch 13/20\n",
            "600/600 [==============================] - 3s 4ms/step - loss: 0.0130 - accuracy: 0.9958 - val_loss: 0.1021 - val_accuracy: 0.9833\n",
            "Epoch 14/20\n",
            "600/600 [==============================] - 3s 4ms/step - loss: 0.0138 - accuracy: 0.9959 - val_loss: 0.0977 - val_accuracy: 0.9852\n",
            "Epoch 15/20\n",
            "600/600 [==============================] - 3s 5ms/step - loss: 0.0126 - accuracy: 0.9959 - val_loss: 0.1062 - val_accuracy: 0.9847\n",
            "Epoch 16/20\n",
            "600/600 [==============================] - 3s 4ms/step - loss: 0.0148 - accuracy: 0.9955 - val_loss: 0.1013 - val_accuracy: 0.9835\n",
            "Epoch 17/20\n",
            "600/600 [==============================] - 3s 4ms/step - loss: 0.0129 - accuracy: 0.9963 - val_loss: 0.1004 - val_accuracy: 0.9830\n",
            "Epoch 18/20\n",
            "600/600 [==============================] - 3s 5ms/step - loss: 0.0156 - accuracy: 0.9955 - val_loss: 0.0914 - val_accuracy: 0.9847\n",
            "Epoch 19/20\n",
            "600/600 [==============================] - 3s 4ms/step - loss: 0.0138 - accuracy: 0.9959 - val_loss: 0.0924 - val_accuracy: 0.9852\n",
            "Epoch 20/20\n",
            "600/600 [==============================] - 3s 4ms/step - loss: 0.0134 - accuracy: 0.9960 - val_loss: 0.0959 - val_accuracy: 0.9850\n"
          ]
        }
      ]
    },
    {
      "cell_type": "code",
      "metadata": {
        "colab": {
          "base_uri": "https://localhost:8080/",
          "height": 295
        },
        "id": "tvKBIVoI-q6W",
        "outputId": "60f380d5-4e4c-464c-9b7d-9d796a505957"
      },
      "source": [
        "# Plot loass and accuracy\n",
        "# Plot training & validation accuracy values\n",
        "epochs = 20\n",
        "loss_list = [100 * i for i in hist.history['loss']]\n",
        "acc_list = [100 * i for i in hist.history['accuracy']]\n",
        "plt.plot(range(1,epochs+1),loss_list) \n",
        "plt.plot(range(1,epochs+1),acc_list) \n",
        "plt.title('Model loss & accuracy')\n",
        "plt.ylabel('Accuracy (%)')\n",
        "plt.xlabel('Epoch')\n",
        "plt.legend(['loss', 'accuracy'], loc='center left')\n",
        "plt.show()"
      ],
      "execution_count": 77,
      "outputs": [
        {
          "output_type": "display_data",
          "data": {
            "image/png": "[encoded data removed]",
            "text/plain": [
              "<Figure size 432x288 with 1 Axes>"
            ]
          },
          "metadata": {
            "needs_background": "light"
          }
        }
      ]
    },
    {
      "cell_type": "code",
      "metadata": {
        "colab": {
          "base_uri": "https://localhost:8080/",
          "height": 295
        },
        "id": "7c-VzYwr-trx",
        "outputId": "8642b842-a1b8-451f-8e37-981dbe3efca6"
      },
      "source": [
        "vloss_list = [100 * i for i in hist.history['val_loss']]\n",
        "vacc_list = [100 * i for i in hist.history['val_accuracy']]\n",
        "plt.plot(range(1,epochs+1),vloss_list)  \n",
        "plt.plot(range(1,epochs+1),vacc_list)  \n",
        "plt.title('Model val_loss & val_accuracy')\n",
        "plt.ylabel('Accuracy (%)')\n",
        "plt.xlabel('Epoch')\n",
        "plt.legend(['val_loss', 'val_accuracy'], loc='center left')\n",
        "plt.show()"
      ],
      "execution_count": 75,
      "outputs": [
        {
          "output_type": "display_data",
          "data": {
            "image/png": "[encoded data removed]",
            "text/plain": [
              "<Figure size 432x288 with 1 Axes>"
            ]
          },
          "metadata": {
            "needs_background": "light"
          }
        }
      ]
    },
    {
      "cell_type": "code",
      "metadata": {
        "colab": {
          "base_uri": "https://localhost:8080/",
          "height": 295
        },
        "id": "E5mQxv1k-uzc",
        "outputId": "2c71958b-a0eb-48b4-902d-0288c5a61105"
      },
      "source": [
        "plt.plot(range(1,epochs+1),acc_list)  \n",
        "plt.plot(range(1,epochs+1),vacc_list)  \n",
        "plt.title('accuracy vs. val_accuracy')\n",
        "plt.ylabel('Accuracy (%)')\n",
        "plt.xlabel('Epoch')\n",
        "plt.legend(['accuracy','val_accuracy'], loc='center')\n",
        "plt.show()"
      ],
      "execution_count": 76,
      "outputs": [
        {
          "output_type": "display_data",
          "data": {
            "image/png": "[encoded data removed]",
            "text/plain": [
              "<Figure size 432x288 with 1 Axes>"
            ]
          },
          "metadata": {
            "needs_background": "light"
          }
        }
      ]
    },
    {
      "cell_type": "code",
      "metadata": {
        "id": "-egDaJqo_Lic"
      },
      "source": [
        ""
      ],
      "execution_count": null,
      "outputs": []
    }
  ]
}