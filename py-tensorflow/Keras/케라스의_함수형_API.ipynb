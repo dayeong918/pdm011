{
  "nbformat": 4,
  "nbformat_minor": 0,
  "metadata": {
    "colab": {
      "name": "케라스의 함수형 API.ipynb",
      "provenance": [],
      "collapsed_sections": [],
      "include_colab_link": true
    },
    "kernelspec": {
      "name": "python3",
      "display_name": "Python 3"
    },
    "language_info": {
      "name": "python"
    }
  },
  "cells": [
    {
      "cell_type": "markdown",
      "metadata": {
        "id": "view-in-github",
        "colab_type": "text"
      },
      "source": [
        "<a href=\"https://colab.research.google.com/github/dayeong918/pdm011/blob/main/py-tensorflow/Keras/%EC%BC%80%EB%9D%BC%EC%8A%A4%EC%9D%98_%ED%95%A8%EC%88%98%ED%98%95_API.ipynb\" target=\"_parent\"><img src=\"https://colab.research.google.com/assets/colab-badge.svg\" alt=\"Open In Colab\"/></a>"
      ]
    },
    {
      "cell_type": "markdown",
      "metadata": {
        "id": "4xzBewpBPvSU"
      },
      "source": [
        "이 자료는 위키독스 딥 러닝을 이용한 자연어 처리 입문의 함수형 API 튜토리얼입니다.  \n",
        "링크 : https://wikidocs.net/38861\n",
        "\n",
        "> 참고자료: https://teddylee777.github.io/tensorflow/functional-api"
      ]
    },
    {
      "cell_type": "markdown",
      "metadata": {
        "id": "6A2uEJ3APvSV"
      },
      "source": [
        "2021년 10월 12일에 마지막으로 테스트되었습니다.\n",
        "- 2021년 11월 11일 보완."
      ]
    },
    {
      "cell_type": "code",
      "metadata": {
        "id": "Kecr2o6zg27y"
      },
      "source": [
        "import tensorflow as tf"
      ],
      "execution_count": 1,
      "outputs": []
    },
    {
      "cell_type": "code",
      "metadata": {
        "id": "ND9N4tufhCk5",
        "colab": {
          "base_uri": "https://localhost:8080/",
          "height": 35
        },
        "outputId": "795c8554-a0fa-42cc-ceb3-dc75fce81992"
      },
      "source": [
        "tf.__version__"
      ],
      "execution_count": 2,
      "outputs": [
        {
          "output_type": "execute_result",
          "data": {
            "application/vnd.google.colaboratory.intrinsic+json": {
              "type": "string"
            },
            "text/plain": [
              "'2.7.0'"
            ]
          },
          "metadata": {},
          "execution_count": 2
        }
      ]
    },
    {
      "cell_type": "markdown",
      "metadata": {
        "id": "oA1aH__hhOwx"
      },
      "source": [
        "# Keras Model API\n",
        "- Sequential API\n",
        "- Functional API\n",
        "- Subclassing API\n",
        "---\n",
        "## 1. Sequential API"
      ]
    },
    {
      "cell_type": "code",
      "metadata": {
        "id": "EqhaoOSJhDHg",
        "colab": {
          "base_uri": "https://localhost:8080/"
        },
        "outputId": "b1b712dc-e0bc-47ba-a82c-b7aa22c23b6d"
      },
      "source": [
        "from tensorflow.keras.models import Sequential\n",
        "from tensorflow.keras.layers import Dense\n",
        "\n",
        "# input-Output Model (No hidden layer)\n",
        "model = Sequential()\n",
        "model.add(Dense(3, input_dim=4, activation='softmax'))\n",
        "model.summary()\n",
        "model.compile(optimizer='rmsprop', loss='categorical_crossentropy', metrics=['accuracy'])"
      ],
      "execution_count": 3,
      "outputs": [
        {
          "output_type": "stream",
          "name": "stdout",
          "text": [
            "Model: \"sequential\"\n",
            "_________________________________________________________________\n",
            " Layer (type)                Output Shape              Param #   \n",
            "=================================================================\n",
            " dense (Dense)               (None, 3)                 15        \n",
            "                                                                 \n",
            "=================================================================\n",
            "Total params: 15\n",
            "Trainable params: 15\n",
            "Non-trainable params: 0\n",
            "_________________________________________________________________\n"
          ]
        }
      ]
    },
    {
      "cell_type": "code",
      "metadata": {
        "id": "ZvhbanWUyXX1",
        "colab": {
          "base_uri": "https://localhost:8080/",
          "height": 174
        },
        "outputId": "1450b876-aca3-4f54-9bea-af347523c72a"
      },
      "source": [
        "# Plt model\n",
        "from tensorflow.keras.utils import plot_model\n",
        "plot_model(model) #, show_shapes=True, show_layer_names=True, to_file='model_S.png')"
      ],
      "execution_count": 4,
      "outputs": [
        {
          "output_type": "execute_result",
          "data": {
            "image/png": "[encoded data removed]",
            "text/plain": [
              "<IPython.core.display.Image object>"
            ]
          },
          "metadata": {},
          "execution_count": 4
        }
      ]
    },
    {
      "cell_type": "markdown",
      "metadata": {
        "id": "TR7Hz0RYn_7Q"
      },
      "source": [
        "## [DIY] 위의 모델에 hidden layer를 다음과 같이 추가하여 model_h1 을 만드시오.\n",
        "- number of neurons: 10\n",
        "- activation function; 'relu'\n"
      ]
    },
    {
      "cell_type": "code",
      "metadata": {
        "id": "TraVK4EhoeIp",
        "colab": {
          "base_uri": "https://localhost:8080/"
        },
        "outputId": "6b3fff16-31ee-46cd-e66e-3d7b5f8632ce"
      },
      "source": [
        "# Your model : model_h1\n",
        "\n",
        "model_h1 = Sequential()\n",
        "model_h1.add(Dense(10, input_dim=4, activation='relu'))\n",
        "model_h1.add(Dense(3, activation='softmax')) \n",
        "model_h1.summary()\n",
        "model_h1.compile(optimizer='rmsprop', loss='categorical_crossentropy', metrics=['accuracy'])"
      ],
      "execution_count": 19,
      "outputs": [
        {
          "output_type": "stream",
          "name": "stdout",
          "text": [
            "Model: \"sequential_2\"\n",
            "_________________________________________________________________\n",
            " Layer (type)                Output Shape              Param #   \n",
            "=================================================================\n",
            " dense_14 (Dense)            (None, 10)                50        \n",
            "                                                                 \n",
            " dense_15 (Dense)            (None, 3)                 33        \n",
            "                                                                 \n",
            "=================================================================\n",
            "Total params: 83\n",
            "Trainable params: 83\n",
            "Non-trainable params: 0\n",
            "_________________________________________________________________\n"
          ]
        }
      ]
    },
    {
      "cell_type": "code",
      "metadata": {
        "colab": {
          "base_uri": "https://localhost:8080/",
          "height": 272
        },
        "id": "7H-Ym0eHRxHV",
        "outputId": "f2aac53a-fcb4-4a41-94db-9160acdf8b23"
      },
      "source": [
        "# Plt model\n",
        "# from tensorflow.keras.utils import plot_model\n",
        "\n",
        "plot_model(model_h1) #, show_shapes=True, show_layer_names=True, to_file='model_S.png')"
      ],
      "execution_count": 20,
      "outputs": [
        {
          "output_type": "execute_result",
          "data": {
            "image/png": "[encoded data removed]",
            "text/plain": [
              "<IPython.core.display.Image object>"
            ]
          },
          "metadata": {},
          "execution_count": 20
        }
      ]
    },
    {
      "cell_type": "markdown",
      "metadata": {
        "id": "0OpCJGUuhQHe"
      },
      "source": [
        "# 2. Functional API"
      ]
    },
    {
      "cell_type": "markdown",
      "metadata": {
        "id": "Kpg7erK5hSI_"
      },
      "source": [
        "## 2-1. FFNN (Feed-Forward Neural Networks)"
      ]
    },
    {
      "cell_type": "code",
      "metadata": {
        "id": "qRsxxH32hDYg"
      },
      "source": [
        "from tensorflow.keras.layers import Input, Dense\n",
        "from tensorflow.keras.models import Model"
      ],
      "execution_count": 21,
      "outputs": []
    },
    {
      "cell_type": "code",
      "metadata": {
        "id": "9W28qN5xhORg"
      },
      "source": [
        "inputs = Input(shape=(10,))\n",
        "hidden1 = Dense(64, activation='relu')(inputs)\n",
        "hidden2 = Dense(64, activation='relu')(hidden1)\n",
        "output = Dense(1, activation='sigmoid')(hidden2)\n",
        "model = Model(inputs=inputs, outputs=output)"
      ],
      "execution_count": 22,
      "outputs": []
    },
    {
      "cell_type": "code",
      "metadata": {
        "id": "Dxr1LrcEhT-Q",
        "colab": {
          "base_uri": "https://localhost:8080/"
        },
        "outputId": "884e3229-04e0-4e8b-a1c8-aca2f938f7cb"
      },
      "source": [
        "model.compile(optimizer='rmsprop', loss='categorical_crossentropy', metrics=['accuracy'])\n",
        "model.summary()"
      ],
      "execution_count": 23,
      "outputs": [
        {
          "output_type": "stream",
          "name": "stdout",
          "text": [
            "Model: \"model_6\"\n",
            "_________________________________________________________________\n",
            " Layer (type)                Output Shape              Param #   \n",
            "=================================================================\n",
            " input_6 (InputLayer)        [(None, 10)]              0         \n",
            "                                                                 \n",
            " dense_16 (Dense)            (None, 64)                704       \n",
            "                                                                 \n",
            " dense_17 (Dense)            (None, 64)                4160      \n",
            "                                                                 \n",
            " dense_18 (Dense)            (None, 1)                 65        \n",
            "                                                                 \n",
            "=================================================================\n",
            "Total params: 4,929\n",
            "Trainable params: 4,929\n",
            "Non-trainable params: 0\n",
            "_________________________________________________________________\n"
          ]
        }
      ]
    },
    {
      "cell_type": "code",
      "metadata": {
        "id": "CBJ3779yyvG0",
        "colab": {
          "base_uri": "https://localhost:8080/",
          "height": 369
        },
        "outputId": "29b6ef90-cb96-4d7b-ca75-2892ad381584"
      },
      "source": [
        "plot_model(model) #, show_shapes=True, show_layer_names=True, to_file='model_F.png')"
      ],
      "execution_count": 8,
      "outputs": [
        {
          "output_type": "execute_result",
          "data": {
            "image/png": "[encoded data removed]",
            "text/plain": [
              "<IPython.core.display.Image object>"
            ]
          },
          "metadata": {},
          "execution_count": 8
        }
      ]
    },
    {
      "cell_type": "markdown",
      "metadata": {
        "id": "MXNy5F8rhnYs"
      },
      "source": [
        "## 2-2. Linear Regression\n",
        "> 참고: https://wikidocs.net/111472"
      ]
    },
    {
      "cell_type": "code",
      "metadata": {
        "id": "3y3m4iG0hnHx",
        "colab": {
          "base_uri": "https://localhost:8080/"
        },
        "outputId": "2c858b71-8d37-4764-f361-9eb254e71b5e"
      },
      "source": [
        "from tensorflow.keras.layers import Input, Dense\n",
        "from tensorflow.keras import optimizers\n",
        "from tensorflow.keras.models import Model\n",
        "\n",
        "X = [1, 2, 3, 4, 5, 6, 7, 8, 9] # 공부하는 시간\n",
        "y = [11, 22, 33, 44, 53, 66, 77, 87, 95] # 각 공부하는 시간에 맵핑되는 성적\n",
        "\n",
        "inputs = Input(shape=(1,))\n",
        "output = Dense(1, activation='linear')(inputs)\n",
        "linear_model = Model(inputs, output)\n",
        "\n",
        "sgd = optimizers.SGD(learning_rate=0.01)\n",
        "\n",
        "linear_model.compile(optimizer=sgd ,loss='mse',metrics=['mse'])\n",
        "linear_model.fit(X, y, epochs=300)"
      ],
      "execution_count": 9,
      "outputs": [
        {
          "output_type": "stream",
          "name": "stdout",
          "text": [
            "Epoch 1/300\n",
            "1/1 [==============================] - 1s 659ms/step - loss: 4423.5781 - mse: 4423.5781\n",
            "Epoch 2/300\n",
            "1/1 [==============================] - 0s 11ms/step - loss: 545.4100 - mse: 545.4100\n",
            "Epoch 3/300\n",
            "1/1 [==============================] - 0s 7ms/step - loss: 68.2292 - mse: 68.2292\n",
            "Epoch 4/300\n",
            "1/1 [==============================] - 0s 7ms/step - loss: 9.5142 - mse: 9.5142\n",
            "Epoch 5/300\n",
            "1/1 [==============================] - 0s 9ms/step - loss: 2.2881 - mse: 2.2881\n",
            "Epoch 6/300\n",
            "1/1 [==============================] - 0s 8ms/step - loss: 1.3975 - mse: 1.3975\n",
            "Epoch 7/300\n",
            "1/1 [==============================] - 0s 7ms/step - loss: 1.2864 - mse: 1.2864\n",
            "Epoch 8/300\n",
            "1/1 [==============================] - 0s 14ms/step - loss: 1.2712 - mse: 1.2712\n",
            "Epoch 9/300\n",
            "1/1 [==============================] - 0s 12ms/step - loss: 1.2678 - mse: 1.2678\n",
            "Epoch 10/300\n",
            "1/1 [==============================] - 0s 6ms/step - loss: 1.2659 - mse: 1.2659\n",
            "Epoch 11/300\n",
            "1/1 [==============================] - 0s 8ms/step - loss: 1.2642 - mse: 1.2642\n",
            "Epoch 12/300\n",
            "1/1 [==============================] - 0s 8ms/step - loss: 1.2625 - mse: 1.2625\n",
            "Epoch 13/300\n",
            "1/1 [==============================] - 0s 8ms/step - loss: 1.2608 - mse: 1.2608\n",
            "Epoch 14/300\n",
            "1/1 [==============================] - 0s 6ms/step - loss: 1.2592 - mse: 1.2592\n",
            "Epoch 15/300\n",
            "1/1 [==============================] - 0s 6ms/step - loss: 1.2576 - mse: 1.2576\n",
            "Epoch 16/300\n",
            "1/1 [==============================] - 0s 6ms/step - loss: 1.2559 - mse: 1.2559\n",
            "Epoch 17/300\n",
            "1/1 [==============================] - 0s 9ms/step - loss: 1.2543 - mse: 1.2543\n",
            "Epoch 18/300\n",
            "1/1 [==============================] - 0s 7ms/step - loss: 1.2527 - mse: 1.2527\n",
            "Epoch 19/300\n",
            "1/1 [==============================] - 0s 11ms/step - loss: 1.2512 - mse: 1.2512\n",
            "Epoch 20/300\n",
            "1/1 [==============================] - 0s 12ms/step - loss: 1.2496 - mse: 1.2496\n",
            "Epoch 21/300\n",
            "1/1 [==============================] - 0s 7ms/step - loss: 1.2480 - mse: 1.2480\n",
            "Epoch 22/300\n",
            "1/1 [==============================] - 0s 6ms/step - loss: 1.2465 - mse: 1.2465\n",
            "Epoch 23/300\n",
            "1/1 [==============================] - 0s 8ms/step - loss: 1.2450 - mse: 1.2450\n",
            "Epoch 24/300\n",
            "1/1 [==============================] - 0s 8ms/step - loss: 1.2434 - mse: 1.2434\n",
            "Epoch 25/300\n",
            "1/1 [==============================] - 0s 6ms/step - loss: 1.2419 - mse: 1.2419\n",
            "Epoch 26/300\n",
            "1/1 [==============================] - 0s 12ms/step - loss: 1.2404 - mse: 1.2404\n",
            "Epoch 27/300\n",
            "1/1 [==============================] - 0s 9ms/step - loss: 1.2390 - mse: 1.2390\n",
            "Epoch 28/300\n",
            "1/1 [==============================] - 0s 6ms/step - loss: 1.2375 - mse: 1.2375\n",
            "Epoch 29/300\n",
            "1/1 [==============================] - 0s 7ms/step - loss: 1.2360 - mse: 1.2360\n",
            "Epoch 30/300\n",
            "1/1 [==============================] - 0s 17ms/step - loss: 1.2346 - mse: 1.2346\n",
            "Epoch 31/300\n",
            "1/1 [==============================] - 0s 6ms/step - loss: 1.2332 - mse: 1.2332\n",
            "Epoch 32/300\n",
            "1/1 [==============================] - 0s 8ms/step - loss: 1.2317 - mse: 1.2317\n",
            "Epoch 33/300\n",
            "1/1 [==============================] - 0s 6ms/step - loss: 1.2303 - mse: 1.2303\n",
            "Epoch 34/300\n",
            "1/1 [==============================] - 0s 12ms/step - loss: 1.2289 - mse: 1.2289\n",
            "Epoch 35/300\n",
            "1/1 [==============================] - 0s 6ms/step - loss: 1.2276 - mse: 1.2276\n",
            "Epoch 36/300\n",
            "1/1 [==============================] - 0s 13ms/step - loss: 1.2262 - mse: 1.2262\n",
            "Epoch 37/300\n",
            "1/1 [==============================] - 0s 7ms/step - loss: 1.2248 - mse: 1.2248\n",
            "Epoch 38/300\n",
            "1/1 [==============================] - 0s 13ms/step - loss: 1.2235 - mse: 1.2235\n",
            "Epoch 39/300\n",
            "1/1 [==============================] - 0s 6ms/step - loss: 1.2221 - mse: 1.2221\n",
            "Epoch 40/300\n",
            "1/1 [==============================] - 0s 7ms/step - loss: 1.2208 - mse: 1.2208\n",
            "Epoch 41/300\n",
            "1/1 [==============================] - 0s 10ms/step - loss: 1.2195 - mse: 1.2195\n",
            "Epoch 42/300\n",
            "1/1 [==============================] - 0s 5ms/step - loss: 1.2182 - mse: 1.2182\n",
            "Epoch 43/300\n",
            "1/1 [==============================] - 0s 6ms/step - loss: 1.2169 - mse: 1.2169\n",
            "Epoch 44/300\n",
            "1/1 [==============================] - 0s 6ms/step - loss: 1.2156 - mse: 1.2156\n",
            "Epoch 45/300\n",
            "1/1 [==============================] - 0s 10ms/step - loss: 1.2143 - mse: 1.2143\n",
            "Epoch 46/300\n",
            "1/1 [==============================] - 0s 10ms/step - loss: 1.2130 - mse: 1.2130\n",
            "Epoch 47/300\n",
            "1/1 [==============================] - 0s 6ms/step - loss: 1.2118 - mse: 1.2118\n",
            "Epoch 48/300\n",
            "1/1 [==============================] - 0s 6ms/step - loss: 1.2105 - mse: 1.2105\n",
            "Epoch 49/300\n",
            "1/1 [==============================] - 0s 6ms/step - loss: 1.2093 - mse: 1.2093\n",
            "Epoch 50/300\n",
            "1/1 [==============================] - 0s 5ms/step - loss: 1.2081 - mse: 1.2081\n",
            "Epoch 51/300\n",
            "1/1 [==============================] - 0s 10ms/step - loss: 1.2069 - mse: 1.2069\n",
            "Epoch 52/300\n",
            "1/1 [==============================] - 0s 8ms/step - loss: 1.2057 - mse: 1.2057\n",
            "Epoch 53/300\n",
            "1/1 [==============================] - 0s 7ms/step - loss: 1.2045 - mse: 1.2045\n",
            "Epoch 54/300\n",
            "1/1 [==============================] - 0s 7ms/step - loss: 1.2033 - mse: 1.2033\n",
            "Epoch 55/300\n",
            "1/1 [==============================] - 0s 7ms/step - loss: 1.2021 - mse: 1.2021\n",
            "Epoch 56/300\n",
            "1/1 [==============================] - 0s 6ms/step - loss: 1.2009 - mse: 1.2009\n",
            "Epoch 57/300\n",
            "1/1 [==============================] - 0s 7ms/step - loss: 1.1998 - mse: 1.1998\n",
            "Epoch 58/300\n",
            "1/1 [==============================] - 0s 6ms/step - loss: 1.1986 - mse: 1.1986\n",
            "Epoch 59/300\n",
            "1/1 [==============================] - 0s 7ms/step - loss: 1.1975 - mse: 1.1975\n",
            "Epoch 60/300\n",
            "1/1 [==============================] - 0s 6ms/step - loss: 1.1964 - mse: 1.1964\n",
            "Epoch 61/300\n",
            "1/1 [==============================] - 0s 9ms/step - loss: 1.1952 - mse: 1.1952\n",
            "Epoch 62/300\n",
            "1/1 [==============================] - 0s 6ms/step - loss: 1.1941 - mse: 1.1941\n",
            "Epoch 63/300\n",
            "1/1 [==============================] - 0s 6ms/step - loss: 1.1930 - mse: 1.1930\n",
            "Epoch 64/300\n",
            "1/1 [==============================] - 0s 7ms/step - loss: 1.1919 - mse: 1.1919\n",
            "Epoch 65/300\n",
            "1/1 [==============================] - 0s 11ms/step - loss: 1.1909 - mse: 1.1909\n",
            "Epoch 66/300\n",
            "1/1 [==============================] - 0s 5ms/step - loss: 1.1898 - mse: 1.1898\n",
            "Epoch 67/300\n",
            "1/1 [==============================] - 0s 18ms/step - loss: 1.1887 - mse: 1.1887\n",
            "Epoch 68/300\n",
            "1/1 [==============================] - 0s 10ms/step - loss: 1.1877 - mse: 1.1877\n",
            "Epoch 69/300\n",
            "1/1 [==============================] - 0s 7ms/step - loss: 1.1866 - mse: 1.1866\n",
            "Epoch 70/300\n",
            "1/1 [==============================] - 0s 6ms/step - loss: 1.1856 - mse: 1.1856\n",
            "Epoch 71/300\n",
            "1/1 [==============================] - 0s 7ms/step - loss: 1.1845 - mse: 1.1845\n",
            "Epoch 72/300\n",
            "1/1 [==============================] - 0s 7ms/step - loss: 1.1835 - mse: 1.1835\n",
            "Epoch 73/300\n",
            "1/1 [==============================] - 0s 7ms/step - loss: 1.1825 - mse: 1.1825\n",
            "Epoch 74/300\n",
            "1/1 [==============================] - 0s 6ms/step - loss: 1.1815 - mse: 1.1815\n",
            "Epoch 75/300\n",
            "1/1 [==============================] - 0s 10ms/step - loss: 1.1805 - mse: 1.1805\n",
            "Epoch 76/300\n",
            "1/1 [==============================] - 0s 6ms/step - loss: 1.1795 - mse: 1.1795\n",
            "Epoch 77/300\n",
            "1/1 [==============================] - 0s 7ms/step - loss: 1.1785 - mse: 1.1785\n",
            "Epoch 78/300\n",
            "1/1 [==============================] - 0s 11ms/step - loss: 1.1776 - mse: 1.1776\n",
            "Epoch 79/300\n",
            "1/1 [==============================] - 0s 6ms/step - loss: 1.1766 - mse: 1.1766\n",
            "Epoch 80/300\n",
            "1/1 [==============================] - 0s 6ms/step - loss: 1.1756 - mse: 1.1756\n",
            "Epoch 81/300\n",
            "1/1 [==============================] - 0s 14ms/step - loss: 1.1747 - mse: 1.1747\n",
            "Epoch 82/300\n",
            "1/1 [==============================] - 0s 6ms/step - loss: 1.1738 - mse: 1.1738\n",
            "Epoch 83/300\n",
            "1/1 [==============================] - 0s 7ms/step - loss: 1.1728 - mse: 1.1728\n",
            "Epoch 84/300\n",
            "1/1 [==============================] - 0s 9ms/step - loss: 1.1719 - mse: 1.1719\n",
            "Epoch 85/300\n",
            "1/1 [==============================] - 0s 6ms/step - loss: 1.1710 - mse: 1.1710\n",
            "Epoch 86/300\n",
            "1/1 [==============================] - 0s 12ms/step - loss: 1.1701 - mse: 1.1701\n",
            "Epoch 87/300\n",
            "1/1 [==============================] - 0s 12ms/step - loss: 1.1692 - mse: 1.1692\n",
            "Epoch 88/300\n",
            "1/1 [==============================] - 0s 6ms/step - loss: 1.1683 - mse: 1.1683\n",
            "Epoch 89/300\n",
            "1/1 [==============================] - 0s 9ms/step - loss: 1.1674 - mse: 1.1674\n",
            "Epoch 90/300\n",
            "1/1 [==============================] - 0s 6ms/step - loss: 1.1665 - mse: 1.1665\n",
            "Epoch 91/300\n",
            "1/1 [==============================] - 0s 6ms/step - loss: 1.1656 - mse: 1.1656\n",
            "Epoch 92/300\n",
            "1/1 [==============================] - 0s 11ms/step - loss: 1.1648 - mse: 1.1648\n",
            "Epoch 93/300\n",
            "1/1 [==============================] - 0s 13ms/step - loss: 1.1639 - mse: 1.1639\n",
            "Epoch 94/300\n",
            "1/1 [==============================] - 0s 7ms/step - loss: 1.1630 - mse: 1.1630\n",
            "Epoch 95/300\n",
            "1/1 [==============================] - 0s 8ms/step - loss: 1.1622 - mse: 1.1622\n",
            "Epoch 96/300\n",
            "1/1 [==============================] - 0s 5ms/step - loss: 1.1614 - mse: 1.1614\n",
            "Epoch 97/300\n",
            "1/1 [==============================] - 0s 11ms/step - loss: 1.1605 - mse: 1.1605\n",
            "Epoch 98/300\n",
            "1/1 [==============================] - 0s 7ms/step - loss: 1.1597 - mse: 1.1597\n",
            "Epoch 99/300\n",
            "1/1 [==============================] - 0s 14ms/step - loss: 1.1589 - mse: 1.1589\n",
            "Epoch 100/300\n",
            "1/1 [==============================] - 0s 6ms/step - loss: 1.1581 - mse: 1.1581\n",
            "Epoch 101/300\n",
            "1/1 [==============================] - 0s 6ms/step - loss: 1.1573 - mse: 1.1573\n",
            "Epoch 102/300\n",
            "1/1 [==============================] - 0s 6ms/step - loss: 1.1565 - mse: 1.1565\n",
            "Epoch 103/300\n",
            "1/1 [==============================] - 0s 7ms/step - loss: 1.1557 - mse: 1.1557\n",
            "Epoch 104/300\n",
            "1/1 [==============================] - 0s 6ms/step - loss: 1.1549 - mse: 1.1549\n",
            "Epoch 105/300\n",
            "1/1 [==============================] - 0s 7ms/step - loss: 1.1541 - mse: 1.1541\n",
            "Epoch 106/300\n",
            "1/1 [==============================] - 0s 7ms/step - loss: 1.1533 - mse: 1.1533\n",
            "Epoch 107/300\n",
            "1/1 [==============================] - 0s 10ms/step - loss: 1.1526 - mse: 1.1526\n",
            "Epoch 108/300\n",
            "1/1 [==============================] - 0s 11ms/step - loss: 1.1518 - mse: 1.1518\n",
            "Epoch 109/300\n",
            "1/1 [==============================] - 0s 6ms/step - loss: 1.1511 - mse: 1.1511\n",
            "Epoch 110/300\n",
            "1/1 [==============================] - 0s 8ms/step - loss: 1.1503 - mse: 1.1503\n",
            "Epoch 111/300\n",
            "1/1 [==============================] - 0s 15ms/step - loss: 1.1496 - mse: 1.1496\n",
            "Epoch 112/300\n",
            "1/1 [==============================] - 0s 7ms/step - loss: 1.1488 - mse: 1.1488\n",
            "Epoch 113/300\n",
            "1/1 [==============================] - 0s 9ms/step - loss: 1.1481 - mse: 1.1481\n",
            "Epoch 114/300\n",
            "1/1 [==============================] - 0s 13ms/step - loss: 1.1474 - mse: 1.1474\n",
            "Epoch 115/300\n",
            "1/1 [==============================] - 0s 6ms/step - loss: 1.1467 - mse: 1.1467\n",
            "Epoch 116/300\n",
            "1/1 [==============================] - 0s 6ms/step - loss: 1.1460 - mse: 1.1460\n",
            "Epoch 117/300\n",
            "1/1 [==============================] - 0s 10ms/step - loss: 1.1452 - mse: 1.1452\n",
            "Epoch 118/300\n",
            "1/1 [==============================] - 0s 10ms/step - loss: 1.1445 - mse: 1.1445\n",
            "Epoch 119/300\n",
            "1/1 [==============================] - 0s 8ms/step - loss: 1.1439 - mse: 1.1439\n",
            "Epoch 120/300\n",
            "1/1 [==============================] - 0s 6ms/step - loss: 1.1432 - mse: 1.1432\n",
            "Epoch 121/300\n",
            "1/1 [==============================] - 0s 6ms/step - loss: 1.1425 - mse: 1.1425\n",
            "Epoch 122/300\n",
            "1/1 [==============================] - 0s 8ms/step - loss: 1.1418 - mse: 1.1418\n",
            "Epoch 123/300\n",
            "1/1 [==============================] - 0s 10ms/step - loss: 1.1411 - mse: 1.1411\n",
            "Epoch 124/300\n",
            "1/1 [==============================] - 0s 6ms/step - loss: 1.1405 - mse: 1.1405\n",
            "Epoch 125/300\n",
            "1/1 [==============================] - 0s 14ms/step - loss: 1.1398 - mse: 1.1398\n",
            "Epoch 126/300\n",
            "1/1 [==============================] - 0s 12ms/step - loss: 1.1392 - mse: 1.1392\n",
            "Epoch 127/300\n",
            "1/1 [==============================] - 0s 7ms/step - loss: 1.1385 - mse: 1.1385\n",
            "Epoch 128/300\n",
            "1/1 [==============================] - 0s 7ms/step - loss: 1.1379 - mse: 1.1379\n",
            "Epoch 129/300\n",
            "1/1 [==============================] - 0s 11ms/step - loss: 1.1372 - mse: 1.1372\n",
            "Epoch 130/300\n",
            "1/1 [==============================] - 0s 10ms/step - loss: 1.1366 - mse: 1.1366\n",
            "Epoch 131/300\n",
            "1/1 [==============================] - 0s 11ms/step - loss: 1.1360 - mse: 1.1360\n",
            "Epoch 132/300\n",
            "1/1 [==============================] - 0s 16ms/step - loss: 1.1353 - mse: 1.1353\n",
            "Epoch 133/300\n",
            "1/1 [==============================] - 0s 11ms/step - loss: 1.1347 - mse: 1.1347\n",
            "Epoch 134/300\n",
            "1/1 [==============================] - 0s 8ms/step - loss: 1.1341 - mse: 1.1341\n",
            "Epoch 135/300\n",
            "1/1 [==============================] - 0s 5ms/step - loss: 1.1335 - mse: 1.1335\n",
            "Epoch 136/300\n",
            "1/1 [==============================] - 0s 7ms/step - loss: 1.1329 - mse: 1.1329\n",
            "Epoch 137/300\n",
            "1/1 [==============================] - 0s 6ms/step - loss: 1.1323 - mse: 1.1323\n",
            "Epoch 138/300\n",
            "1/1 [==============================] - 0s 7ms/step - loss: 1.1317 - mse: 1.1317\n",
            "Epoch 139/300\n",
            "1/1 [==============================] - 0s 6ms/step - loss: 1.1311 - mse: 1.1311\n",
            "Epoch 140/300\n",
            "1/1 [==============================] - 0s 12ms/step - loss: 1.1305 - mse: 1.1305\n",
            "Epoch 141/300\n",
            "1/1 [==============================] - 0s 9ms/step - loss: 1.1299 - mse: 1.1299\n",
            "Epoch 142/300\n",
            "1/1 [==============================] - 0s 7ms/step - loss: 1.1294 - mse: 1.1294\n",
            "Epoch 143/300\n",
            "1/1 [==============================] - 0s 6ms/step - loss: 1.1288 - mse: 1.1288\n",
            "Epoch 144/300\n",
            "1/1 [==============================] - 0s 6ms/step - loss: 1.1282 - mse: 1.1282\n",
            "Epoch 145/300\n",
            "1/1 [==============================] - 0s 6ms/step - loss: 1.1277 - mse: 1.1277\n",
            "Epoch 146/300\n",
            "1/1 [==============================] - 0s 6ms/step - loss: 1.1271 - mse: 1.1271\n",
            "Epoch 147/300\n",
            "1/1 [==============================] - 0s 22ms/step - loss: 1.1266 - mse: 1.1266\n",
            "Epoch 148/300\n",
            "1/1 [==============================] - 0s 11ms/step - loss: 1.1260 - mse: 1.1260\n",
            "Epoch 149/300\n",
            "1/1 [==============================] - 0s 6ms/step - loss: 1.1255 - mse: 1.1255\n",
            "Epoch 150/300\n",
            "1/1 [==============================] - 0s 9ms/step - loss: 1.1249 - mse: 1.1249\n",
            "Epoch 151/300\n",
            "1/1 [==============================] - 0s 18ms/step - loss: 1.1244 - mse: 1.1244\n",
            "Epoch 152/300\n",
            "1/1 [==============================] - 0s 8ms/step - loss: 1.1239 - mse: 1.1239\n",
            "Epoch 153/300\n",
            "1/1 [==============================] - 0s 9ms/step - loss: 1.1234 - mse: 1.1234\n",
            "Epoch 154/300\n",
            "1/1 [==============================] - 0s 12ms/step - loss: 1.1228 - mse: 1.1228\n",
            "Epoch 155/300\n",
            "1/1 [==============================] - 0s 8ms/step - loss: 1.1223 - mse: 1.1223\n",
            "Epoch 156/300\n",
            "1/1 [==============================] - 0s 6ms/step - loss: 1.1218 - mse: 1.1218\n",
            "Epoch 157/300\n",
            "1/1 [==============================] - 0s 11ms/step - loss: 1.1213 - mse: 1.1213\n",
            "Epoch 158/300\n",
            "1/1 [==============================] - 0s 11ms/step - loss: 1.1208 - mse: 1.1208\n",
            "Epoch 159/300\n",
            "1/1 [==============================] - 0s 7ms/step - loss: 1.1203 - mse: 1.1203\n",
            "Epoch 160/300\n",
            "1/1 [==============================] - 0s 7ms/step - loss: 1.1198 - mse: 1.1198\n",
            "Epoch 161/300\n",
            "1/1 [==============================] - 0s 7ms/step - loss: 1.1193 - mse: 1.1193\n",
            "Epoch 162/300\n",
            "1/1 [==============================] - 0s 11ms/step - loss: 1.1188 - mse: 1.1188\n",
            "Epoch 163/300\n",
            "1/1 [==============================] - 0s 6ms/step - loss: 1.1183 - mse: 1.1183\n",
            "Epoch 164/300\n",
            "1/1 [==============================] - 0s 7ms/step - loss: 1.1179 - mse: 1.1179\n",
            "Epoch 165/300\n",
            "1/1 [==============================] - 0s 6ms/step - loss: 1.1174 - mse: 1.1174\n",
            "Epoch 166/300\n",
            "1/1 [==============================] - 0s 10ms/step - loss: 1.1169 - mse: 1.1169\n",
            "Epoch 167/300\n",
            "1/1 [==============================] - 0s 9ms/step - loss: 1.1164 - mse: 1.1164\n",
            "Epoch 168/300\n",
            "1/1 [==============================] - 0s 18ms/step - loss: 1.1160 - mse: 1.1160\n",
            "Epoch 169/300\n",
            "1/1 [==============================] - 0s 7ms/step - loss: 1.1155 - mse: 1.1155\n",
            "Epoch 170/300\n",
            "1/1 [==============================] - 0s 7ms/step - loss: 1.1151 - mse: 1.1151\n",
            "Epoch 171/300\n",
            "1/1 [==============================] - 0s 7ms/step - loss: 1.1146 - mse: 1.1146\n",
            "Epoch 172/300\n",
            "1/1 [==============================] - 0s 7ms/step - loss: 1.1142 - mse: 1.1142\n",
            "Epoch 173/300\n",
            "1/1 [==============================] - 0s 6ms/step - loss: 1.1137 - mse: 1.1137\n",
            "Epoch 174/300\n",
            "1/1 [==============================] - 0s 7ms/step - loss: 1.1133 - mse: 1.1133\n",
            "Epoch 175/300\n",
            "1/1 [==============================] - 0s 10ms/step - loss: 1.1128 - mse: 1.1128\n",
            "Epoch 176/300\n",
            "1/1 [==============================] - 0s 6ms/step - loss: 1.1124 - mse: 1.1124\n",
            "Epoch 177/300\n",
            "1/1 [==============================] - 0s 10ms/step - loss: 1.1120 - mse: 1.1120\n",
            "Epoch 178/300\n",
            "1/1 [==============================] - 0s 6ms/step - loss: 1.1115 - mse: 1.1115\n",
            "Epoch 179/300\n",
            "1/1 [==============================] - 0s 7ms/step - loss: 1.1111 - mse: 1.1111\n",
            "Epoch 180/300\n",
            "1/1 [==============================] - 0s 8ms/step - loss: 1.1107 - mse: 1.1107\n",
            "Epoch 181/300\n",
            "1/1 [==============================] - 0s 9ms/step - loss: 1.1103 - mse: 1.1103\n",
            "Epoch 182/300\n",
            "1/1 [==============================] - 0s 13ms/step - loss: 1.1099 - mse: 1.1099\n",
            "Epoch 183/300\n",
            "1/1 [==============================] - 0s 15ms/step - loss: 1.1095 - mse: 1.1095\n",
            "Epoch 184/300\n",
            "1/1 [==============================] - 0s 10ms/step - loss: 1.1091 - mse: 1.1091\n",
            "Epoch 185/300\n",
            "1/1 [==============================] - 0s 8ms/step - loss: 1.1087 - mse: 1.1087\n",
            "Epoch 186/300\n",
            "1/1 [==============================] - 0s 7ms/step - loss: 1.1083 - mse: 1.1083\n",
            "Epoch 187/300\n",
            "1/1 [==============================] - 0s 7ms/step - loss: 1.1079 - mse: 1.1079\n",
            "Epoch 188/300\n",
            "1/1 [==============================] - 0s 8ms/step - loss: 1.1075 - mse: 1.1075\n",
            "Epoch 189/300\n",
            "1/1 [==============================] - 0s 6ms/step - loss: 1.1071 - mse: 1.1071\n",
            "Epoch 190/300\n",
            "1/1 [==============================] - 0s 7ms/step - loss: 1.1067 - mse: 1.1067\n",
            "Epoch 191/300\n",
            "1/1 [==============================] - 0s 6ms/step - loss: 1.1063 - mse: 1.1063\n",
            "Epoch 192/300\n",
            "1/1 [==============================] - 0s 10ms/step - loss: 1.1059 - mse: 1.1059\n",
            "Epoch 193/300\n",
            "1/1 [==============================] - 0s 7ms/step - loss: 1.1055 - mse: 1.1055\n",
            "Epoch 194/300\n",
            "1/1 [==============================] - 0s 13ms/step - loss: 1.1052 - mse: 1.1052\n",
            "Epoch 195/300\n",
            "1/1 [==============================] - 0s 12ms/step - loss: 1.1048 - mse: 1.1048\n",
            "Epoch 196/300\n",
            "1/1 [==============================] - 0s 6ms/step - loss: 1.1044 - mse: 1.1044\n",
            "Epoch 197/300\n",
            "1/1 [==============================] - 0s 8ms/step - loss: 1.1041 - mse: 1.1041\n",
            "Epoch 198/300\n",
            "1/1 [==============================] - 0s 23ms/step - loss: 1.1037 - mse: 1.1037\n",
            "Epoch 199/300\n",
            "1/1 [==============================] - 0s 7ms/step - loss: 1.1033 - mse: 1.1033\n",
            "Epoch 200/300\n",
            "1/1 [==============================] - 0s 10ms/step - loss: 1.1030 - mse: 1.1030\n",
            "Epoch 201/300\n",
            "1/1 [==============================] - 0s 7ms/step - loss: 1.1026 - mse: 1.1026\n",
            "Epoch 202/300\n",
            "1/1 [==============================] - 0s 7ms/step - loss: 1.1023 - mse: 1.1023\n",
            "Epoch 203/300\n",
            "1/1 [==============================] - 0s 6ms/step - loss: 1.1019 - mse: 1.1019\n",
            "Epoch 204/300\n",
            "1/1 [==============================] - 0s 7ms/step - loss: 1.1016 - mse: 1.1016\n",
            "Epoch 205/300\n",
            "1/1 [==============================] - 0s 8ms/step - loss: 1.1012 - mse: 1.1012\n",
            "Epoch 206/300\n",
            "1/1 [==============================] - 0s 11ms/step - loss: 1.1009 - mse: 1.1009\n",
            "Epoch 207/300\n",
            "1/1 [==============================] - 0s 12ms/step - loss: 1.1006 - mse: 1.1006\n",
            "Epoch 208/300\n",
            "1/1 [==============================] - 0s 6ms/step - loss: 1.1002 - mse: 1.1002\n",
            "Epoch 209/300\n",
            "1/1 [==============================] - 0s 12ms/step - loss: 1.0999 - mse: 1.0999\n",
            "Epoch 210/300\n",
            "1/1 [==============================] - 0s 12ms/step - loss: 1.0996 - mse: 1.0996\n",
            "Epoch 211/300\n",
            "1/1 [==============================] - 0s 14ms/step - loss: 1.0993 - mse: 1.0993\n",
            "Epoch 212/300\n",
            "1/1 [==============================] - 0s 9ms/step - loss: 1.0989 - mse: 1.0989\n",
            "Epoch 213/300\n",
            "1/1 [==============================] - 0s 8ms/step - loss: 1.0986 - mse: 1.0986\n",
            "Epoch 214/300\n",
            "1/1 [==============================] - 0s 7ms/step - loss: 1.0983 - mse: 1.0983\n",
            "Epoch 215/300\n",
            "1/1 [==============================] - 0s 6ms/step - loss: 1.0980 - mse: 1.0980\n",
            "Epoch 216/300\n",
            "1/1 [==============================] - 0s 7ms/step - loss: 1.0977 - mse: 1.0977\n",
            "Epoch 217/300\n",
            "1/1 [==============================] - 0s 13ms/step - loss: 1.0974 - mse: 1.0974\n",
            "Epoch 218/300\n",
            "1/1 [==============================] - 0s 11ms/step - loss: 1.0970 - mse: 1.0970\n",
            "Epoch 219/300\n",
            "1/1 [==============================] - 0s 7ms/step - loss: 1.0967 - mse: 1.0967\n",
            "Epoch 220/300\n",
            "1/1 [==============================] - 0s 6ms/step - loss: 1.0964 - mse: 1.0964\n",
            "Epoch 221/300\n",
            "1/1 [==============================] - 0s 7ms/step - loss: 1.0961 - mse: 1.0961\n",
            "Epoch 222/300\n",
            "1/1 [==============================] - 0s 11ms/step - loss: 1.0958 - mse: 1.0958\n",
            "Epoch 223/300\n",
            "1/1 [==============================] - 0s 6ms/step - loss: 1.0956 - mse: 1.0956\n",
            "Epoch 224/300\n",
            "1/1 [==============================] - 0s 9ms/step - loss: 1.0953 - mse: 1.0953\n",
            "Epoch 225/300\n",
            "1/1 [==============================] - 0s 6ms/step - loss: 1.0950 - mse: 1.0950\n",
            "Epoch 226/300\n",
            "1/1 [==============================] - 0s 15ms/step - loss: 1.0947 - mse: 1.0947\n",
            "Epoch 227/300\n",
            "1/1 [==============================] - 0s 7ms/step - loss: 1.0944 - mse: 1.0944\n",
            "Epoch 228/300\n",
            "1/1 [==============================] - 0s 6ms/step - loss: 1.0941 - mse: 1.0941\n",
            "Epoch 229/300\n",
            "1/1 [==============================] - 0s 6ms/step - loss: 1.0938 - mse: 1.0938\n",
            "Epoch 230/300\n",
            "1/1 [==============================] - 0s 6ms/step - loss: 1.0936 - mse: 1.0936\n",
            "Epoch 231/300\n",
            "1/1 [==============================] - 0s 6ms/step - loss: 1.0933 - mse: 1.0933\n",
            "Epoch 232/300\n",
            "1/1 [==============================] - 0s 11ms/step - loss: 1.0930 - mse: 1.0930\n",
            "Epoch 233/300\n",
            "1/1 [==============================] - 0s 10ms/step - loss: 1.0927 - mse: 1.0927\n",
            "Epoch 234/300\n",
            "1/1 [==============================] - 0s 13ms/step - loss: 1.0925 - mse: 1.0925\n",
            "Epoch 235/300\n",
            "1/1 [==============================] - 0s 10ms/step - loss: 1.0922 - mse: 1.0922\n",
            "Epoch 236/300\n",
            "1/1 [==============================] - 0s 7ms/step - loss: 1.0919 - mse: 1.0919\n",
            "Epoch 237/300\n",
            "1/1 [==============================] - 0s 7ms/step - loss: 1.0917 - mse: 1.0917\n",
            "Epoch 238/300\n",
            "1/1 [==============================] - 0s 7ms/step - loss: 1.0914 - mse: 1.0914\n",
            "Epoch 239/300\n",
            "1/1 [==============================] - 0s 10ms/step - loss: 1.0911 - mse: 1.0911\n",
            "Epoch 240/300\n",
            "1/1 [==============================] - 0s 7ms/step - loss: 1.0909 - mse: 1.0909\n",
            "Epoch 241/300\n",
            "1/1 [==============================] - 0s 11ms/step - loss: 1.0906 - mse: 1.0906\n",
            "Epoch 242/300\n",
            "1/1 [==============================] - 0s 8ms/step - loss: 1.0904 - mse: 1.0904\n",
            "Epoch 243/300\n",
            "1/1 [==============================] - 0s 11ms/step - loss: 1.0901 - mse: 1.0901\n",
            "Epoch 244/300\n",
            "1/1 [==============================] - 0s 7ms/step - loss: 1.0899 - mse: 1.0899\n",
            "Epoch 245/300\n",
            "1/1 [==============================] - 0s 6ms/step - loss: 1.0896 - mse: 1.0896\n",
            "Epoch 246/300\n",
            "1/1 [==============================] - 0s 6ms/step - loss: 1.0894 - mse: 1.0894\n",
            "Epoch 247/300\n",
            "1/1 [==============================] - 0s 9ms/step - loss: 1.0892 - mse: 1.0892\n",
            "Epoch 248/300\n",
            "1/1 [==============================] - 0s 10ms/step - loss: 1.0889 - mse: 1.0889\n",
            "Epoch 249/300\n",
            "1/1 [==============================] - 0s 7ms/step - loss: 1.0887 - mse: 1.0887\n",
            "Epoch 250/300\n",
            "1/1 [==============================] - 0s 7ms/step - loss: 1.0884 - mse: 1.0884\n",
            "Epoch 251/300\n",
            "1/1 [==============================] - 0s 6ms/step - loss: 1.0882 - mse: 1.0882\n",
            "Epoch 252/300\n",
            "1/1 [==============================] - 0s 12ms/step - loss: 1.0880 - mse: 1.0880\n",
            "Epoch 253/300\n",
            "1/1 [==============================] - 0s 8ms/step - loss: 1.0877 - mse: 1.0877\n",
            "Epoch 254/300\n",
            "1/1 [==============================] - 0s 13ms/step - loss: 1.0875 - mse: 1.0875\n",
            "Epoch 255/300\n",
            "1/1 [==============================] - 0s 11ms/step - loss: 1.0873 - mse: 1.0873\n",
            "Epoch 256/300\n",
            "1/1 [==============================] - 0s 6ms/step - loss: 1.0871 - mse: 1.0871\n",
            "Epoch 257/300\n",
            "1/1 [==============================] - 0s 8ms/step - loss: 1.0868 - mse: 1.0868\n",
            "Epoch 258/300\n",
            "1/1 [==============================] - 0s 12ms/step - loss: 1.0866 - mse: 1.0866\n",
            "Epoch 259/300\n",
            "1/1 [==============================] - 0s 11ms/step - loss: 1.0864 - mse: 1.0864\n",
            "Epoch 260/300\n",
            "1/1 [==============================] - 0s 6ms/step - loss: 1.0862 - mse: 1.0862\n",
            "Epoch 261/300\n",
            "1/1 [==============================] - 0s 10ms/step - loss: 1.0860 - mse: 1.0860\n",
            "Epoch 262/300\n",
            "1/1 [==============================] - 0s 11ms/step - loss: 1.0858 - mse: 1.0858\n",
            "Epoch 263/300\n",
            "1/1 [==============================] - 0s 11ms/step - loss: 1.0855 - mse: 1.0855\n",
            "Epoch 264/300\n",
            "1/1 [==============================] - 0s 7ms/step - loss: 1.0853 - mse: 1.0853\n",
            "Epoch 265/300\n",
            "1/1 [==============================] - 0s 7ms/step - loss: 1.0851 - mse: 1.0851\n",
            "Epoch 266/300\n",
            "1/1 [==============================] - 0s 8ms/step - loss: 1.0849 - mse: 1.0849\n",
            "Epoch 267/300\n",
            "1/1 [==============================] - 0s 7ms/step - loss: 1.0847 - mse: 1.0847\n",
            "Epoch 268/300\n",
            "1/1 [==============================] - 0s 7ms/step - loss: 1.0845 - mse: 1.0845\n",
            "Epoch 269/300\n",
            "1/1 [==============================] - 0s 15ms/step - loss: 1.0843 - mse: 1.0843\n",
            "Epoch 270/300\n",
            "1/1 [==============================] - 0s 7ms/step - loss: 1.0841 - mse: 1.0841\n",
            "Epoch 271/300\n",
            "1/1 [==============================] - 0s 6ms/step - loss: 1.0839 - mse: 1.0839\n",
            "Epoch 272/300\n",
            "1/1 [==============================] - 0s 6ms/step - loss: 1.0837 - mse: 1.0837\n",
            "Epoch 273/300\n",
            "1/1 [==============================] - 0s 10ms/step - loss: 1.0835 - mse: 1.0835\n",
            "Epoch 274/300\n",
            "1/1 [==============================] - 0s 7ms/step - loss: 1.0833 - mse: 1.0833\n",
            "Epoch 275/300\n",
            "1/1 [==============================] - 0s 7ms/step - loss: 1.0831 - mse: 1.0831\n",
            "Epoch 276/300\n",
            "1/1 [==============================] - 0s 7ms/step - loss: 1.0829 - mse: 1.0829\n",
            "Epoch 277/300\n",
            "1/1 [==============================] - 0s 7ms/step - loss: 1.0827 - mse: 1.0827\n",
            "Epoch 278/300\n",
            "1/1 [==============================] - 0s 11ms/step - loss: 1.0826 - mse: 1.0826\n",
            "Epoch 279/300\n",
            "1/1 [==============================] - 0s 6ms/step - loss: 1.0824 - mse: 1.0824\n",
            "Epoch 280/300\n",
            "1/1 [==============================] - 0s 13ms/step - loss: 1.0822 - mse: 1.0822\n",
            "Epoch 281/300\n",
            "1/1 [==============================] - 0s 13ms/step - loss: 1.0820 - mse: 1.0820\n",
            "Epoch 282/300\n",
            "1/1 [==============================] - 0s 15ms/step - loss: 1.0818 - mse: 1.0818\n",
            "Epoch 283/300\n",
            "1/1 [==============================] - 0s 7ms/step - loss: 1.0816 - mse: 1.0816\n",
            "Epoch 284/300\n",
            "1/1 [==============================] - 0s 13ms/step - loss: 1.0815 - mse: 1.0815\n",
            "Epoch 285/300\n",
            "1/1 [==============================] - 0s 6ms/step - loss: 1.0813 - mse: 1.0813\n",
            "Epoch 286/300\n",
            "1/1 [==============================] - 0s 10ms/step - loss: 1.0811 - mse: 1.0811\n",
            "Epoch 287/300\n",
            "1/1 [==============================] - 0s 12ms/step - loss: 1.0809 - mse: 1.0809\n",
            "Epoch 288/300\n",
            "1/1 [==============================] - 0s 7ms/step - loss: 1.0808 - mse: 1.0808\n",
            "Epoch 289/300\n",
            "1/1 [==============================] - 0s 12ms/step - loss: 1.0806 - mse: 1.0806\n",
            "Epoch 290/300\n",
            "1/1 [==============================] - 0s 15ms/step - loss: 1.0804 - mse: 1.0804\n",
            "Epoch 291/300\n",
            "1/1 [==============================] - 0s 7ms/step - loss: 1.0803 - mse: 1.0803\n",
            "Epoch 292/300\n",
            "1/1 [==============================] - 0s 11ms/step - loss: 1.0801 - mse: 1.0801\n",
            "Epoch 293/300\n",
            "1/1 [==============================] - 0s 6ms/step - loss: 1.0799 - mse: 1.0799\n",
            "Epoch 294/300\n",
            "1/1 [==============================] - 0s 8ms/step - loss: 1.0798 - mse: 1.0798\n",
            "Epoch 295/300\n",
            "1/1 [==============================] - 0s 7ms/step - loss: 1.0796 - mse: 1.0796\n",
            "Epoch 296/300\n",
            "1/1 [==============================] - 0s 8ms/step - loss: 1.0794 - mse: 1.0794\n",
            "Epoch 297/300\n",
            "1/1 [==============================] - 0s 6ms/step - loss: 1.0793 - mse: 1.0793\n",
            "Epoch 298/300\n",
            "1/1 [==============================] - 0s 7ms/step - loss: 1.0791 - mse: 1.0791\n",
            "Epoch 299/300\n",
            "1/1 [==============================] - 0s 5ms/step - loss: 1.0790 - mse: 1.0790\n",
            "Epoch 300/300\n",
            "1/1 [==============================] - 0s 8ms/step - loss: 1.0788 - mse: 1.0788\n"
          ]
        },
        {
          "output_type": "execute_result",
          "data": {
            "text/plain": [
              "<keras.callbacks.History at 0x7f0a367005d0>"
            ]
          },
          "metadata": {},
          "execution_count": 9
        }
      ]
    },
    {
      "cell_type": "code",
      "metadata": {
        "id": "U-k31dqbrTIO",
        "colab": {
          "base_uri": "https://localhost:8080/"
        },
        "outputId": "e3a32462-5948-4b9c-e255-7ee7935ed9f0"
      },
      "source": [
        "linear_model.get_config()"
      ],
      "execution_count": 10,
      "outputs": [
        {
          "output_type": "execute_result",
          "data": {
            "text/plain": [
              "{'input_layers': [['input_2', 0, 0]],\n",
              " 'layers': [{'class_name': 'InputLayer',\n",
              "   'config': {'batch_input_shape': (None, 1),\n",
              "    'dtype': 'float32',\n",
              "    'name': 'input_2',\n",
              "    'ragged': False,\n",
              "    'sparse': False},\n",
              "   'inbound_nodes': [],\n",
              "   'name': 'input_2'},\n",
              "  {'class_name': 'Dense',\n",
              "   'config': {'activation': 'linear',\n",
              "    'activity_regularizer': None,\n",
              "    'bias_constraint': None,\n",
              "    'bias_initializer': {'class_name': 'Zeros', 'config': {}},\n",
              "    'bias_regularizer': None,\n",
              "    'dtype': 'float32',\n",
              "    'kernel_constraint': None,\n",
              "    'kernel_initializer': {'class_name': 'GlorotUniform',\n",
              "     'config': {'seed': None}},\n",
              "    'kernel_regularizer': None,\n",
              "    'name': 'dense_4',\n",
              "    'trainable': True,\n",
              "    'units': 1,\n",
              "    'use_bias': True},\n",
              "   'inbound_nodes': [[['input_2', 0, 0, {}]]],\n",
              "   'name': 'dense_4'}],\n",
              " 'name': 'model_1',\n",
              " 'output_layers': [['dense_4', 0, 0]]}"
            ]
          },
          "metadata": {},
          "execution_count": 10
        }
      ]
    },
    {
      "cell_type": "code",
      "metadata": {
        "id": "JI0SNxAmGTLS",
        "colab": {
          "base_uri": "https://localhost:8080/"
        },
        "outputId": "10aa7d9b-2c38-4d15-b40a-f7f562793651"
      },
      "source": [
        "linear_model.predict([11,15])"
      ],
      "execution_count": 11,
      "outputs": [
        {
          "output_type": "execute_result",
          "data": {
            "text/plain": [
              "array([[118.09882],\n",
              "       [160.64235]], dtype=float32)"
            ]
          },
          "metadata": {},
          "execution_count": 11
        }
      ]
    },
    {
      "cell_type": "code",
      "metadata": {
        "id": "UKjDK9vluj9T",
        "colab": {
          "base_uri": "https://localhost:8080/"
        },
        "outputId": "2ca0c171-fc07-4fb0-d7b9-a604c7725941"
      },
      "source": [
        "X"
      ],
      "execution_count": 12,
      "outputs": [
        {
          "output_type": "execute_result",
          "data": {
            "text/plain": [
              "[1, 2, 3, 4, 5, 6, 7, 8, 9]"
            ]
          },
          "metadata": {},
          "execution_count": 12
        }
      ]
    },
    {
      "cell_type": "code",
      "metadata": {
        "id": "XTRhSt8UuFSD",
        "colab": {
          "base_uri": "https://localhost:8080/"
        },
        "outputId": "4eaa6a0d-1a5d-4ae6-f835-628cc53525f6"
      },
      "source": [
        "linear_model.predict(X)"
      ],
      "execution_count": 13,
      "outputs": [
        {
          "output_type": "execute_result",
          "data": {
            "text/plain": [
              "array([[11.740019],\n",
              "       [22.3759  ],\n",
              "       [33.01178 ],\n",
              "       [43.64766 ],\n",
              "       [54.28354 ],\n",
              "       [64.919426],\n",
              "       [75.555305],\n",
              "       [86.191185],\n",
              "       [96.827065]], dtype=float32)"
            ]
          },
          "metadata": {},
          "execution_count": 13
        }
      ]
    },
    {
      "cell_type": "code",
      "metadata": {
        "id": "TnH-qxlDtLej"
      },
      "source": [
        "import matplotlib.pyplot as plt"
      ],
      "execution_count": 14,
      "outputs": []
    },
    {
      "cell_type": "code",
      "metadata": {
        "id": "5G-0TsZItDzO",
        "colab": {
          "base_uri": "https://localhost:8080/",
          "height": 267
        },
        "outputId": "ccdd6de0-1a27-4fff-d449-7698ccd59c6b"
      },
      "source": [
        "plt.plot(X, linear_model.predict(X), 'b', X, y, 'k.')\n",
        "plt.show()"
      ],
      "execution_count": 15,
      "outputs": [
        {
          "output_type": "display_data",
          "data": {
            "image/png": "[encoded data removed]",
            "text/plain": [
              "<Figure size 432x288 with 1 Axes>"
            ]
          },
          "metadata": {
            "needs_background": "light"
          }
        }
      ]
    },
    {
      "cell_type": "markdown",
      "metadata": {
        "id": "6w69xEAThwUk"
      },
      "source": [
        "## 2-3. Logisitic Regression"
      ]
    },
    {
      "cell_type": "code",
      "metadata": {
        "id": "EEtnlKmMhqgY",
        "colab": {
          "base_uri": "https://localhost:8080/"
        },
        "outputId": "664d11ad-b25d-49a9-abc0-803aa3d22e5a"
      },
      "source": [
        "from tensorflow.keras.layers import Input, Dense\n",
        "from tensorflow.keras.models import Model\n",
        "\n",
        "inputs = Input(shape=(3,))\n",
        "output = Dense(1, activation='sigmoid')(inputs)\n",
        "logistic_model = Model(inputs, output)\n",
        "logistic_model.summary()"
      ],
      "execution_count": 16,
      "outputs": [
        {
          "output_type": "stream",
          "name": "stdout",
          "text": [
            "Model: \"model_2\"\n",
            "_________________________________________________________________\n",
            " Layer (type)                Output Shape              Param #   \n",
            "=================================================================\n",
            " input_3 (InputLayer)        [(None, 3)]               0         \n",
            "                                                                 \n",
            " dense_5 (Dense)             (None, 1)                 4         \n",
            "                                                                 \n",
            "=================================================================\n",
            "Total params: 4\n",
            "Trainable params: 4\n",
            "Non-trainable params: 0\n",
            "_________________________________________________________________\n"
          ]
        }
      ]
    },
    {
      "cell_type": "markdown",
      "metadata": {
        "id": "IBPe6iUth1vi"
      },
      "source": [
        "## 2-4. model that accepts multiple inputs\n"
      ]
    },
    {
      "cell_type": "code",
      "metadata": {
        "id": "TEhnaVoAh0GI",
        "colab": {
          "base_uri": "https://localhost:8080/"
        },
        "outputId": "94eee6d7-151c-4f26-f9dc-378fe8f3c4b2"
      },
      "source": [
        "from tensorflow.keras.layers import Input, Dense, concatenate\n",
        "from tensorflow.keras.models import Model\n",
        "\n",
        "# 두 개의 입력층을 정의\n",
        "inputA = Input(shape=(64,))\n",
        "inputB = Input(shape=(128,))\n",
        "\n",
        "# 첫번째 입력층으로부터 분기되어 진행되는 인공 신경망을 정의\n",
        "x = Dense(16, activation=\"relu\")(inputA)\n",
        "x = Dense(8, activation=\"relu\")(x)\n",
        "x = Model(inputs=inputA, outputs=x)\n",
        "\n",
        "# 두번째 입력층으로부터 분기되어 진행되는 인공 신경망을 정의\n",
        "y = Dense(64, activation=\"relu\")(inputB)\n",
        "y = Dense(32, activation=\"relu\")(y)\n",
        "y = Dense(8, activation=\"relu\")(y)\n",
        "y = Model(inputs=inputB, outputs=y)\n",
        "\n",
        "# 두개의 인공 신경망의 출력을 연결(concatenate)\n",
        "result = concatenate([x.output, y.output])\n",
        "\n",
        "z = Dense(2, activation=\"relu\")(result)\n",
        "z = Dense(1, activation=\"linear\")(z)\n",
        "\n",
        "multi_model = Model(inputs=[x.input, y.input], outputs=z)\n",
        "multi_model.summary()"
      ],
      "execution_count": 17,
      "outputs": [
        {
          "output_type": "stream",
          "name": "stdout",
          "text": [
            "Model: \"model_5\"\n",
            "__________________________________________________________________________________________________\n",
            " Layer (type)                   Output Shape         Param #     Connected to                     \n",
            "==================================================================================================\n",
            " input_5 (InputLayer)           [(None, 128)]        0           []                               \n",
            "                                                                                                  \n",
            " input_4 (InputLayer)           [(None, 64)]         0           []                               \n",
            "                                                                                                  \n",
            " dense_8 (Dense)                (None, 64)           8256        ['input_5[0][0]']                \n",
            "                                                                                                  \n",
            " dense_6 (Dense)                (None, 16)           1040        ['input_4[0][0]']                \n",
            "                                                                                                  \n",
            " dense_9 (Dense)                (None, 32)           2080        ['dense_8[0][0]']                \n",
            "                                                                                                  \n",
            " dense_7 (Dense)                (None, 8)            136         ['dense_6[0][0]']                \n",
            "                                                                                                  \n",
            " dense_10 (Dense)               (None, 8)            264         ['dense_9[0][0]']                \n",
            "                                                                                                  \n",
            " concatenate (Concatenate)      (None, 16)           0           ['dense_7[0][0]',                \n",
            "                                                                  'dense_10[0][0]']               \n",
            "                                                                                                  \n",
            " dense_11 (Dense)               (None, 2)            34          ['concatenate[0][0]']            \n",
            "                                                                                                  \n",
            " dense_12 (Dense)               (None, 1)            3           ['dense_11[0][0]']               \n",
            "                                                                                                  \n",
            "==================================================================================================\n",
            "Total params: 11,813\n",
            "Trainable params: 11,813\n",
            "Non-trainable params: 0\n",
            "__________________________________________________________________________________________________\n"
          ]
        }
      ]
    },
    {
      "cell_type": "code",
      "metadata": {
        "id": "motoX6C-Ms3H",
        "colab": {
          "base_uri": "https://localhost:8080/",
          "height": 754
        },
        "outputId": "2b8655a2-2d07-4199-cf5a-e93d335fe574"
      },
      "source": [
        "#  Plot model\n",
        "plot_model(multi_model, show_shapes=True, show_layer_names=True, to_file='model_M.png')"
      ],
      "execution_count": 24,
      "outputs": [
        {
          "output_type": "execute_result",
          "data": {
            "image/png": "[encoded data removed]",
            "text/plain": [
              "<IPython.core.display.Image object>"
            ]
          },
          "metadata": {},
          "execution_count": 24
        }
      ]
    },
    {
      "cell_type": "markdown",
      "metadata": {
        "id": "uIzhaMfjiAPa"
      },
      "source": [
        "## 2-5. LSTM"
      ]
    },
    {
      "cell_type": "code",
      "metadata": {
        "id": "TQPevdlGiBuW",
        "colab": {
          "base_uri": "https://localhost:8080/"
        },
        "outputId": "c4c4d36d-e88e-4c10-e097-e0fa5e2ce9bc"
      },
      "source": [
        "from tensorflow.keras.layers import Input, Dense, LSTM\n",
        "from tensorflow.keras.models import Model\n",
        "\n",
        "inputs = Input(shape=(50,1))\n",
        "lstm_layer = LSTM(10)(inputs)\n",
        "x = Dense(10, activation='relu')(lstm_layer)\n",
        "output = Dense(1, activation='sigmoid')(x)\n",
        "\n",
        "lstm_model = Model(inputs=inputs, outputs=output)\n",
        "lstm_model.summary()"
      ],
      "execution_count": 25,
      "outputs": [
        {
          "output_type": "stream",
          "name": "stdout",
          "text": [
            "Model: \"model_7\"\n",
            "_________________________________________________________________\n",
            " Layer (type)                Output Shape              Param #   \n",
            "=================================================================\n",
            " input_7 (InputLayer)        [(None, 50, 1)]           0         \n",
            "                                                                 \n",
            " lstm (LSTM)                 (None, 10)                480       \n",
            "                                                                 \n",
            " dense_19 (Dense)            (None, 10)                110       \n",
            "                                                                 \n",
            " dense_20 (Dense)            (None, 1)                 11        \n",
            "                                                                 \n",
            "=================================================================\n",
            "Total params: 601\n",
            "Trainable params: 601\n",
            "Non-trainable params: 0\n",
            "_________________________________________________________________\n"
          ]
        }
      ]
    },
    {
      "cell_type": "markdown",
      "metadata": {
        "id": "XdbiBz1WFaR8"
      },
      "source": [
        "## Number of parameters in an lstm layer\n",
        "> 4 * lstm_hidden_state_size * (lstm_inputs_size + bias_variable + lstm_outputs_size) \n",
        "- lstm_hidden_state_size = 10\n",
        "- lstm_inputs_size = 1\n",
        "- bias_variable = 1\n",
        "- lstm_outputs_size = 10\n",
        "\n",
        ">> 4*10(1 + 1 + 100 = 480"
      ]
    },
    {
      "cell_type": "code",
      "metadata": {
        "id": "YfRtCEbzMyLO",
        "colab": {
          "base_uri": "https://localhost:8080/",
          "height": 422
        },
        "outputId": "46a79d5c-effb-4326-c385-28cc2f7c2214"
      },
      "source": [
        "# Plot model\n",
        "plot_model(lstm_model, show_shapes=True, show_layer_names=True, to_file='model_L.png')"
      ],
      "execution_count": 27,
      "outputs": [
        {
          "output_type": "execute_result",
          "data": {
            "image/png": "[encoded data removed]",
            "text/plain": [
              "<IPython.core.display.Image object>"
            ]
          },
          "metadata": {},
          "execution_count": 27
        }
      ]
    },
    {
      "cell_type": "code",
      "metadata": {
        "id": "Agn8-1LjS4ux"
      },
      "source": [
        ""
      ],
      "execution_count": null,
      "outputs": []
    }
  ]
}