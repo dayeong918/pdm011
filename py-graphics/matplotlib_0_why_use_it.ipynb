{
  "nbformat": 4,
  "nbformat_minor": 0,
  "metadata": {
    "colab": {
      "name": "matplotlib_0_why_use_it.ipynb",
      "provenance": [],
      "collapsed_sections": [],
      "include_colab_link": true
    },
    "kernelspec": {
      "name": "python3",
      "display_name": "Python 3"
    }
  },
  "cells": [
    {
      "cell_type": "markdown",
      "metadata": {
        "id": "view-in-github",
        "colab_type": "text"
      },
      "source": [
        "<a href=\"https://colab.research.google.com/github/dayeong918/pdm011/blob/main/py-graphics/matplotlib_0_why_use_it.ipynb\" target=\"_parent\"><img src=\"https://colab.research.google.com/assets/colab-badge.svg\" alt=\"Open In Colab\"/></a>"
      ]
    },
    {
      "cell_type": "markdown",
      "metadata": {
        "id": "9Wej-7GZ4f3N"
      },
      "source": [
        "## Python module 2. **matplotlib**\n",
        "### Python graphics using matplotlib\n",
        "- Visualization : 시각화\n",
        "- Front-end deployment to WEB or Mobile: 서비스"
      ]
    },
    {
      "cell_type": "markdown",
      "metadata": {
        "id": "1Ry0YHkNFis5"
      },
      "source": [
        "## 난수 생성\n",
        "> NumPy의 random 서브모듈은 난수를 생성하는 다양한 명령을 제공.\n",
        "\n",
        "- rand: 0부터 1사이의 균일 분포 (uniform distribution) -> 백색 잡음\n",
        "- randn: 가우시안 표준 정규 분포 (normal distribution, Gaussian) -> 가우시안 잡음\n",
        "- randint: 균일 분포의 정수 난수 (uniform int)\n",
        "\n",
        "> randn()은 평균 0, 표준편차 1 인 가우시안 정규분포를 생성."
      ]
    },
    {
      "cell_type": "markdown",
      "metadata": {
        "id": "ozoCcRquhg4p"
      },
      "source": [
        "## python graphics\n",
        "- matplotlib\n",
        "> import matplotlib.pyplot as plt"
      ]
    },
    {
      "cell_type": "markdown",
      "metadata": {
        "id": "h6yEJiGJ4Lbk"
      },
      "source": [
        "### 무작위수 분포 그려보기"
      ]
    },
    {
      "cell_type": "code",
      "metadata": {
        "id": "ngcwuNlfhrIQ"
      },
      "source": [
        "# import module; numpy, matplotlib\n",
        "import numpy as np\n",
        "import matplotlib.pyplot as plt"
      ],
      "execution_count": 4,
      "outputs": []
    },
    {
      "cell_type": "code",
      "metadata": {
        "id": "EZK12Xg7H55L",
        "colab": {
          "base_uri": "https://localhost:8080/"
        },
        "outputId": "8fcdf2d8-7747-4986-8b98-e8090042465e"
      },
      "source": [
        "n1000 = np.random.randint(0,10,1000)\n",
        "n1000.shape"
      ],
      "execution_count": 5,
      "outputs": [
        {
          "output_type": "execute_result",
          "data": {
            "text/plain": [
              "(1000,)"
            ]
          },
          "metadata": {},
          "execution_count": 5
        }
      ]
    },
    {
      "cell_type": "code",
      "metadata": {
        "id": "A6ZNTRNXI4Vw",
        "colab": {
          "base_uri": "https://localhost:8080/"
        },
        "outputId": "a4624313-d57c-4117-b529-fb7f8d370cef"
      },
      "source": [
        "n1000[:30]"
      ],
      "execution_count": 7,
      "outputs": [
        {
          "output_type": "execute_result",
          "data": {
            "text/plain": [
              "array([3, 2, 8, 6, 3, 9, 9, 7, 6, 2, 5, 5, 3, 7, 1, 2, 5, 4, 2, 2, 8, 5,\n",
              "       3, 7, 7, 8, 7, 3, 9, 4])"
            ]
          },
          "metadata": {},
          "execution_count": 7
        }
      ]
    },
    {
      "cell_type": "code",
      "metadata": {
        "id": "jr30IHxvJDuE",
        "colab": {
          "base_uri": "https://localhost:8080/",
          "height": 317
        },
        "outputId": "74e71238-1cdd-42a5-d671-7940755fa198"
      },
      "source": [
        "plt.hist(n1000,label=range(0,10)) #, color='red')\n",
        "# plt.show()"
      ],
      "execution_count": 8,
      "outputs": [
        {
          "output_type": "execute_result",
          "data": {
            "text/plain": [
              "(array([114., 101.,  94., 116.,  89., 112.,  91., 100.,  78., 105.]),\n",
              " array([0. , 0.9, 1.8, 2.7, 3.6, 4.5, 5.4, 6.3, 7.2, 8.1, 9. ]),\n",
              " <a list of 10 Patch objects>)"
            ]
          },
          "metadata": {},
          "execution_count": 8
        },
        {
          "output_type": "display_data",
          "data": {
            "image/png": "[encoded data removed]",
            "text/plain": [
              "<Figure size 432x288 with 1 Axes>"
            ]
          },
          "metadata": {
            "needs_background": "light"
          }
        }
      ]
    },
    {
      "cell_type": "markdown",
      "metadata": {
        "id": "b-JcgSU-Ktyz"
      },
      "source": [
        "### [도전] 균일분포와 정규분포를 비교하는 그림을 그리시오."
      ]
    },
    {
      "cell_type": "code",
      "metadata": {
        "id": "k0XaT2f9JGZy",
        "colab": {
          "base_uri": "https://localhost:8080/",
          "height": 353
        },
        "outputId": "3576f23c-57ab-49c7-8a1c-f0d1a99b09b9"
      },
      "source": [
        "plt.hist(np.random.rand(1000))"
      ],
      "execution_count": 9,
      "outputs": [
        {
          "output_type": "execute_result",
          "data": {
            "text/plain": [
              "(array([ 96.,  97., 115., 104., 101.,  97.,  98.,  97.,  87., 108.]),\n",
              " array([4.97023965e-04, 1.00441117e-01, 2.00385211e-01, 3.00329304e-01,\n",
              "        4.00273397e-01, 5.00217490e-01, 6.00161584e-01, 7.00105677e-01,\n",
              "        8.00049770e-01, 8.99993864e-01, 9.99937957e-01]),\n",
              " <a list of 10 Patch objects>)"
            ]
          },
          "metadata": {},
          "execution_count": 9
        },
        {
          "output_type": "display_data",
          "data": {
            "image/png": "[encoded data removed]",
            "text/plain": [
              "<Figure size 432x288 with 1 Axes>"
            ]
          },
          "metadata": {
            "needs_background": "light"
          }
        }
      ]
    },
    {
      "cell_type": "code",
      "metadata": {
        "id": "T8SCqKVeMhBF",
        "colab": {
          "base_uri": "https://localhost:8080/",
          "height": 350
        },
        "outputId": "5365a114-a167-492b-ab21-dcaf8709e93f"
      },
      "source": [
        "plt.hist(np.random.randn(1000))"
      ],
      "execution_count": 10,
      "outputs": [
        {
          "output_type": "execute_result",
          "data": {
            "text/plain": [
              "(array([  5.,   8.,  26., 108., 170., 250., 221., 138.,  49.,  25.]),\n",
              " array([-3.50257925, -2.89686033, -2.29114141, -1.6854225 , -1.07970358,\n",
              "        -0.47398466,  0.13173425,  0.73745317,  1.34317209,  1.948891  ,\n",
              "         2.55460992]),\n",
              " <a list of 10 Patch objects>)"
            ]
          },
          "metadata": {},
          "execution_count": 10
        },
        {
          "output_type": "display_data",
          "data": {
            "image/png": "[encoded data removed]",
            "text/plain": [
              "<Figure size 432x288 with 1 Axes>"
            ]
          },
          "metadata": {
            "needs_background": "light"
          }
        }
      ]
    },
    {
      "cell_type": "code",
      "metadata": {
        "id": "BUkVDXTJMkwc",
        "colab": {
          "base_uri": "https://localhost:8080/"
        },
        "outputId": "36b3bf06-3093-45a9-b9fe-2f0527ec52f6"
      },
      "source": [
        "np.max(np.random.randn(1000))"
      ],
      "execution_count": 11,
      "outputs": [
        {
          "output_type": "execute_result",
          "data": {
            "text/plain": [
              "2.915552097851797"
            ]
          },
          "metadata": {},
          "execution_count": 11
        }
      ]
    },
    {
      "cell_type": "markdown",
      "metadata": {
        "id": "D5XGB1v_PAeU"
      },
      "source": [
        "### [도전] 0~9 사이의 무작위 정수 1000개를 만들어서 각 수에 대한 막대그래프를 그리시오."
      ]
    },
    {
      "cell_type": "code",
      "metadata": {
        "id": "xza_yV8nMshU",
        "colab": {
          "base_uri": "https://localhost:8080/"
        },
        "outputId": "b82a6a71-d65d-46e9-e1e7-7b87efb1e229"
      },
      "source": [
        "value, count= np.unique(n1000, return_counts=True)\n",
        "count"
      ],
      "execution_count": 14,
      "outputs": [
        {
          "output_type": "execute_result",
          "data": {
            "text/plain": [
              "array([114, 101,  94, 116,  89, 112,  91, 100,  78, 105])"
            ]
          },
          "metadata": {},
          "execution_count": 14
        }
      ]
    },
    {
      "cell_type": "code",
      "metadata": {
        "colab": {
          "base_uri": "https://localhost:8080/"
        },
        "id": "bNInCGBWYAVJ",
        "outputId": "8ddc00f8-6410-4005-fb95-1bf7dfda1198"
      },
      "source": [
        "value"
      ],
      "execution_count": 15,
      "outputs": [
        {
          "output_type": "execute_result",
          "data": {
            "text/plain": [
              "array([0, 1, 2, 3, 4, 5, 6, 7, 8, 9])"
            ]
          },
          "metadata": {},
          "execution_count": 15
        }
      ]
    },
    {
      "cell_type": "code",
      "metadata": {
        "id": "CtOSk4RpQTXG",
        "colab": {
          "base_uri": "https://localhost:8080/",
          "height": 283
        },
        "outputId": "b72f972c-48f5-4e1e-d4d1-3d60dc015b03"
      },
      "source": [
        "plt.bar(value,count) #,color=\"bgrcmyk\")  # 'bgrcmykw"
      ],
      "execution_count": 17,
      "outputs": [
        {
          "output_type": "execute_result",
          "data": {
            "text/plain": [
              "<BarContainer object of 10 artists>"
            ]
          },
          "metadata": {},
          "execution_count": 17
        },
        {
          "output_type": "display_data",
          "data": {
            "image/png": "[encoded data removed]",
            "text/plain": [
              "<Figure size 432x288 with 1 Axes>"
            ]
          },
          "metadata": {
            "needs_background": "light"
          }
        }
      ]
    },
    {
      "cell_type": "code",
      "metadata": {
        "colab": {
          "base_uri": "https://localhost:8080/",
          "height": 337
        },
        "id": "4Swvz4uDYM4A",
        "outputId": "32604b06-323a-47b6-c312-3d45002c01e4"
      },
      "source": [
        "plt.bar(value,count, color=\"bgrcmyk\")  # 'bgrcmykw"
      ],
      "execution_count": 19,
      "outputs": [
        {
          "output_type": "stream",
          "name": "stderr",
          "text": [
            "/usr/local/lib/python3.7/dist-packages/ipykernel_launcher.py:1: MatplotlibDeprecationWarning: Using a string of single character colors as a color sequence is deprecated. Use an explicit list instead.\n",
            "  \"\"\"Entry point for launching an IPython kernel.\n"
          ]
        },
        {
          "output_type": "execute_result",
          "data": {
            "text/plain": [
              "<BarContainer object of 10 artists>"
            ]
          },
          "metadata": {},
          "execution_count": 19
        },
        {
          "output_type": "display_data",
          "data": {
            "image/png": "[encoded data removed]",
            "text/plain": [
              "<Figure size 432x288 with 1 Axes>"
            ]
          },
          "metadata": {
            "needs_background": "light"
          }
        }
      ]
    },
    {
      "cell_type": "markdown",
      "metadata": {
        "id": "vJOiAMJ5Jpnq"
      },
      "source": [
        "> [Python matplotlib 그래픽스](https://datascienceschool.net/01%20python/05.01%20%EC%8B%9C%EA%B0%81%ED%99%94%20%ED%8C%A8%ED%82%A4%EC%A7%80%20%EB%A7%B7%ED%94%8C%EB%A1%AF%EB%A6%AC%EB%B8%8C%20%EC%86%8C%EA%B0%9C.html)\n",
        "\n",
        "> [Mnist demo by Redwoods](http://life21c.inje.ac.kr:8501)"
      ]
    },
    {
      "cell_type": "code",
      "metadata": {
        "id": "xkt78bvjQYbN"
      },
      "source": [
        ""
      ],
      "execution_count": null,
      "outputs": []
    }
  ]
}